{
  "nbformat": 4,
  "nbformat_minor": 0,
  "metadata": {
    "colab": {
      "provenance": [],
      "authorship_tag": "ABX9TyNjelBcAd0fu5B3/kbamezW",
      "include_colab_link": true
    },
    "kernelspec": {
      "name": "python3",
      "display_name": "Python 3"
    },
    "language_info": {
      "name": "python"
    }
  },
  "cells": [
    {
      "cell_type": "markdown",
      "metadata": {
        "id": "view-in-github",
        "colab_type": "text"
      },
      "source": [
        "<a href=\"https://colab.research.google.com/github/Ravikumara666/Ravikumara666/blob/main/Big_Data_Project.ipynb\" target=\"_parent\"><img src=\"https://colab.research.google.com/assets/colab-badge.svg\" alt=\"Open In Colab\"/></a>"
      ]
    },
    {
      "cell_type": "code",
      "execution_count": null,
      "metadata": {
        "id": "dgqMjd-OSsmx"
      },
      "outputs": [],
      "source": [
        "import pyspark"
      ]
    },
    {
      "cell_type": "code",
      "source": [
        "!pip install confluent-kafka"
      ],
      "metadata": {
        "colab": {
          "base_uri": "https://localhost:8080/"
        },
        "id": "oVt0yVjgjdKB",
        "outputId": "efefb23f-4bb5-4b2b-c6c5-1dcbef97846b"
      },
      "execution_count": null,
      "outputs": [
        {
          "output_type": "stream",
          "name": "stdout",
          "text": [
            "Collecting confluent-kafka\n",
            "  Downloading confluent_kafka-2.4.0-cp310-cp310-manylinux_2_17_x86_64.manylinux2014_x86_64.whl (4.0 MB)\n",
            "\u001b[2K     \u001b[90m━━━━━━━━━━━━━━━━━━━━━━━━━━━━━━━━━━━━━━━━\u001b[0m \u001b[32m4.0/4.0 MB\u001b[0m \u001b[31m18.5 MB/s\u001b[0m eta \u001b[36m0:00:00\u001b[0m\n",
            "\u001b[?25hInstalling collected packages: confluent-kafka\n",
            "Successfully installed confluent-kafka-2.4.0\n"
          ]
        }
      ]
    },
    {
      "cell_type": "code",
      "source": [
        "from pyspark.sql import SparkSession\n",
        "from pyspark.sql.functions import count, col, when, desc, max, asc, avg, round"
      ],
      "metadata": {
        "id": "faT9WW4lSy4-"
      },
      "execution_count": null,
      "outputs": []
    },
    {
      "cell_type": "code",
      "source": [
        "spark = SparkSession.builder.appName(\"Disney Data Analysis\").getOrCreate()"
      ],
      "metadata": {
        "id": "D_j-GL_0UV2z"
      },
      "execution_count": null,
      "outputs": []
    },
    {
      "cell_type": "code",
      "source": [
        "df = spark.read.csv(\"disney_plus_shows.csv\", header = True, inferSchema = True)"
      ],
      "metadata": {
        "id": "3LPIeKS3p1OL"
      },
      "execution_count": null,
      "outputs": []
    },
    {
      "cell_type": "code",
      "source": [
        "len(df.columns)"
      ],
      "metadata": {
        "colab": {
          "base_uri": "https://localhost:8080/"
        },
        "id": "y6mVtFcrqYFX",
        "outputId": "e0b507df-88c1-4d87-90a4-38b4547d0b47"
      },
      "execution_count": null,
      "outputs": [
        {
          "output_type": "execute_result",
          "data": {
            "text/plain": [
              "19"
            ]
          },
          "metadata": {},
          "execution_count": 15
        }
      ]
    },
    {
      "cell_type": "code",
      "source": [
        "df.count()"
      ],
      "metadata": {
        "colab": {
          "base_uri": "https://localhost:8080/"
        },
        "id": "XhOIVuNqqYQ1",
        "outputId": "0ed93bb7-e861-41a4-8d1d-6b77c4c15f9e"
      },
      "execution_count": null,
      "outputs": [
        {
          "output_type": "execute_result",
          "data": {
            "text/plain": [
              "992"
            ]
          },
          "metadata": {},
          "execution_count": 16
        }
      ]
    },
    {
      "cell_type": "code",
      "source": [
        "df.select([count(when(col(c).isNull(), 1)) for c in df.columns]).show()"
      ],
      "metadata": {
        "colab": {
          "base_uri": "https://localhost:8080/"
        },
        "id": "-CeV9YZ5qpW2",
        "outputId": "0b5b758f-1186-4de6-e4d3-a498a8907244"
      },
      "execution_count": null,
      "outputs": [
        {
          "output_type": "stream",
          "name": "stdout",
          "text": [
            "+---------------------------------------------+-------------------------------------------+------------------------------------------+------------------------------------------+-------------------------------------------+------------------------------------------+-------------------------------------------------+----------------------------------------------+---------------------------------------------+-------------------------------------------+----------------------------------------------+--------------------------------------------+--------------------------------------------+----------------------------------------------+---------------------------------------------+--------------------------------------------+-----------------------------------------------+-------------------------------------------------+------------------------------------------------+\n",
            "|count(CASE WHEN (imdb_id IS NULL) THEN 1 END)|count(CASE WHEN (title IS NULL) THEN 1 END)|count(CASE WHEN (plot IS NULL) THEN 1 END)|count(CASE WHEN (type IS NULL) THEN 1 END)|count(CASE WHEN (rated IS NULL) THEN 1 END)|count(CASE WHEN (year IS NULL) THEN 1 END)|count(CASE WHEN (released_at IS NULL) THEN 1 END)|count(CASE WHEN (added_at IS NULL) THEN 1 END)|count(CASE WHEN (runtime IS NULL) THEN 1 END)|count(CASE WHEN (genre IS NULL) THEN 1 END)|count(CASE WHEN (director IS NULL) THEN 1 END)|count(CASE WHEN (writer IS NULL) THEN 1 END)|count(CASE WHEN (actors IS NULL) THEN 1 END)|count(CASE WHEN (language IS NULL) THEN 1 END)|count(CASE WHEN (country IS NULL) THEN 1 END)|count(CASE WHEN (awards IS NULL) THEN 1 END)|count(CASE WHEN (metascore IS NULL) THEN 1 END)|count(CASE WHEN (imdb_rating IS NULL) THEN 1 END)|count(CASE WHEN (imdb_votes IS NULL) THEN 1 END)|\n",
            "+---------------------------------------------+-------------------------------------------+------------------------------------------+------------------------------------------+-------------------------------------------+------------------------------------------+-------------------------------------------------+----------------------------------------------+---------------------------------------------+-------------------------------------------+----------------------------------------------+--------------------------------------------+--------------------------------------------+----------------------------------------------+---------------------------------------------+--------------------------------------------+-----------------------------------------------+-------------------------------------------------+------------------------------------------------+\n",
            "|                                           98|                                         98|                                        98|                                        98|                                         98|                                        98|                                               98|                                             0|                                           98|                                         98|                                            98|                                          98|                                          98|                                            98|                                           98|                                          98|                                             98|                                               98|                                              98|\n",
            "+---------------------------------------------+-------------------------------------------+------------------------------------------+------------------------------------------+-------------------------------------------+------------------------------------------+-------------------------------------------------+----------------------------------------------+---------------------------------------------+-------------------------------------------+----------------------------------------------+--------------------------------------------+--------------------------------------------+----------------------------------------------+---------------------------------------------+--------------------------------------------+-----------------------------------------------+-------------------------------------------------+------------------------------------------------+\n",
            "\n"
          ]
        }
      ]
    },
    {
      "cell_type": "code",
      "source": [
        "df.describe().show()"
      ],
      "metadata": {
        "colab": {
          "base_uri": "https://localhost:8080/"
        },
        "id": "JM1Zx980qpZ4",
        "outputId": "a9960906-8c80-459e-cae7-a7f80ef7fa5e"
      },
      "execution_count": null,
      "outputs": [
        {
          "output_type": "stream",
          "name": "stdout",
          "text": [
            "+-------+---------+---------------+--------------------+-----------------+--------------------+--------------------+------------------+------------------+------------------+--------------+--------+--------------------+--------------------+--------------------+--------------------+--------------------+--------------------+--------------------+--------------------+\n",
            "|summary|  imdb_id|          title|                plot|             type|               rated|                year|       released_at|          added_at|           runtime|         genre|director|              writer|              actors|            language|             country|              awards|           metascore|         imdb_rating|          imdb_votes|\n",
            "+-------+---------+---------------+--------------------+-----------------+--------------------+--------------------+------------------+------------------+------------------+--------------+--------+--------------------+--------------------+--------------------+--------------------+--------------------+--------------------+--------------------+--------------------+\n",
            "|  count|      894|            894|                 894|              894|                 894|                 894|               894|               992|               894|           894|     894|                 894|                 894|                 894|                 894|                 894|                 894|                 894|                 894|\n",
            "|   mean|     NULL|           NULL|                NULL|             NULL|                NULL|  1994.4413892908829|1994.5714285714287|           1985.25|            1983.8|        1998.0|    NULL|                NULL|                NULL|                NULL|                NULL|                NULL|   61.82462686567164|  7.2331346841477995|  320.27142857142854|\n",
            "| stddev|     NULL|           NULL|                NULL|             NULL|                NULL|   23.98889768163841|29.311888598089553|31.972644557496334|29.710267585466156|          NULL|    NULL|                NULL|                NULL|                NULL|                NULL|                NULL|  16.101126750379454|  6.0761829000272165|   293.7104517629393|\n",
            "|    min|tt0019422|'Twas the Night|\"\"\"Doc McStuffins...| Davy and Georgie| Mater attempts t...| King of all Drif...|        clash ...\"|       01 May 2007|               1 h|   09 Jul 2003|  21 min|\"A.A. Milne (book...| Adi Granov (base...|            Bob Roth| Bill Peet (addit...| Danny Bilson (sc...| Alan Young (stor...| Alan Dinehart (s...|  Fred Lucky (story)|\n",
            "|    max|tt9822474|       Zootopia|Zoologist Jack Ra...|           series|              series|              series|             movie|             movie|              TV-G|Short, Fantasy|Zhong Yu|Winston Hibler (s...|Émile Genest, Joh...|Vincent Price, Ba...|USA, UK, Australi...|Zendaya, Chanelle...|Won 1 Oscar. Anot...|                 USA|Won 2 Oscars. Ano...|\n",
            "+-------+---------+---------------+--------------------+-----------------+--------------------+--------------------+------------------+------------------+------------------+--------------+--------+--------------------+--------------------+--------------------+--------------------+--------------------+--------------------+--------------------+--------------------+\n",
            "\n"
          ]
        }
      ]
    },
    {
      "cell_type": "code",
      "source": [
        "df.columns"
      ],
      "metadata": {
        "colab": {
          "base_uri": "https://localhost:8080/"
        },
        "id": "sIDPBNj3qpb9",
        "outputId": "16c1d2de-e646-4397-a288-5c20d12b96bb"
      },
      "execution_count": null,
      "outputs": [
        {
          "output_type": "execute_result",
          "data": {
            "text/plain": [
              "['imdb_id',\n",
              " 'title',\n",
              " 'plot',\n",
              " 'type',\n",
              " 'rated',\n",
              " 'year',\n",
              " 'released_at',\n",
              " 'added_at',\n",
              " 'runtime',\n",
              " 'genre',\n",
              " 'director',\n",
              " 'writer',\n",
              " 'actors',\n",
              " 'language',\n",
              " 'country',\n",
              " 'awards',\n",
              " 'metascore',\n",
              " 'imdb_rating',\n",
              " 'imdb_votes']"
            ]
          },
          "metadata": {},
          "execution_count": 19
        }
      ]
    },
    {
      "cell_type": "code",
      "source": [
        "df1 = df.select(col(\"imdb_rating\"), col(\"title\"), col(\"rated\"), col(\"imdb_votes\"))\n",
        "df1.show(10)"
      ],
      "metadata": {
        "colab": {
          "base_uri": "https://localhost:8080/"
        },
        "id": "wHgScQayqpeD",
        "outputId": "1c8adb21-68d8-4d8c-eecf-360d7fae65bc"
      },
      "execution_count": null,
      "outputs": [
        {
          "output_type": "stream",
          "name": "stdout",
          "text": [
            "+-----------+--------------------+-----+----------+\n",
            "|imdb_rating|               title|rated|imdb_votes|\n",
            "+-----------+--------------------+-----+----------+\n",
            "|        7.3|10 Things I Hate ...|PG-13|   283,945|\n",
            "|        6.2|101 Dalmatian Street|  N/A|       124|\n",
            "|        5.7|      101 Dalmatians|    G|    97,785|\n",
            "|        5.8|101 Dalmatians 2:...|    G|     7,434|\n",
            "|        4.9|      102 Dalmatians|    G|    33,444|\n",
            "|        6.3|12 Dates of Chris...|   PG|     4,933|\n",
            "|        7.2|20,000 Leagues Un...|    G|    27,761|\n",
            "|         77|        A Bug's Life|movie|       7.2|\n",
            "|        7.6|A Celebration of ...|  N/A|        35|\n",
            "|        6.8|       A Goofy Movie|    G|    43,655|\n",
            "+-----------+--------------------+-----+----------+\n",
            "only showing top 10 rows\n",
            "\n"
          ]
        }
      ]
    },
    {
      "cell_type": "code",
      "source": [
        "df.select(df[\"title\"], df[\"imdb_rating\"]).show(10, truncate = False)"
      ],
      "metadata": {
        "colab": {
          "base_uri": "https://localhost:8080/"
        },
        "id": "iF9sXo2lqpf3",
        "outputId": "e9b861a6-9941-4575-f3ea-399c4f972aa7"
      },
      "execution_count": null,
      "outputs": [
        {
          "output_type": "stream",
          "name": "stdout",
          "text": [
            "+------------------------------------------+-----------+\n",
            "|title                                     |imdb_rating|\n",
            "+------------------------------------------+-----------+\n",
            "|10 Things I Hate About You                |7.3        |\n",
            "|101 Dalmatian Street                      |6.2        |\n",
            "|101 Dalmatians                            |5.7        |\n",
            "|101 Dalmatians 2: Patch's London Adventure|5.8        |\n",
            "|102 Dalmatians                            |4.9        |\n",
            "|12 Dates of Christmas                     |6.3        |\n",
            "|20,000 Leagues Under the Sea              |7.2        |\n",
            "|A Bug's Life                              |77         |\n",
            "|A Celebration of the Music from Coco      |7.6        |\n",
            "|A Goofy Movie                             |6.8        |\n",
            "+------------------------------------------+-----------+\n",
            "only showing top 10 rows\n",
            "\n"
          ]
        }
      ]
    },
    {
      "cell_type": "code",
      "source": [
        "df.select(df.columns[:3]).show(10)"
      ],
      "metadata": {
        "colab": {
          "base_uri": "https://localhost:8080/"
        },
        "id": "qi0XGt4Pqphd",
        "outputId": "5ef311f1-3411-40d9-f745-8d73f09886f3"
      },
      "execution_count": null,
      "outputs": [
        {
          "output_type": "stream",
          "name": "stdout",
          "text": [
            "+----------+--------------------+--------------------+\n",
            "|   imdb_id|               title|                plot|\n",
            "+----------+--------------------+--------------------+\n",
            "| tt0147800|10 Things I Hate ...|A pretty, popular...|\n",
            "| tt7019028|101 Dalmatian Street|This series follo...|\n",
            "| tt0115433|      101 Dalmatians|An evil high-fash...|\n",
            "| tt0324941|101 Dalmatians 2:...|Being one of 101 ...|\n",
            "| tt0211181|      102 Dalmatians|Cruella DeVil get...|\n",
            "| tt1846442|12 Dates of Chris...|A story that foll...|\n",
            "| tt0046672|20,000 Leagues Un...|A ship sent to in...|\n",
            "| tt0120623|        A Bug's Life|\"A misfit ant, lo...|\n",
            "|tt12076020|A Celebration of ...|                 N/A|\n",
            "| tt0113198|       A Goofy Movie|When Max makes a ...|\n",
            "+----------+--------------------+--------------------+\n",
            "only showing top 10 rows\n",
            "\n"
          ]
        }
      ]
    },
    {
      "cell_type": "code",
      "source": [
        "df1.filter(col(\"imdb_rating\") == 9).show(10)"
      ],
      "metadata": {
        "colab": {
          "base_uri": "https://localhost:8080/"
        },
        "id": "FJa85RL8qpjj",
        "outputId": "c372b5c0-8d45-44cf-bbb8-bfc81c432c65"
      },
      "execution_count": null,
      "outputs": [
        {
          "output_type": "stream",
          "name": "stdout",
          "text": [
            "+-----------+--------------------+-----+----------+\n",
            "|imdb_rating|               title|rated|imdb_votes|\n",
            "+-----------+--------------------+-----+----------+\n",
            "|        9.7|               Bluey| TV-Y|       949|\n",
            "|        9.1|The Imagineering ...|  N/A|     1,194|\n",
            "+-----------+--------------------+-----+----------+\n",
            "\n"
          ]
        }
      ]
    },
    {
      "cell_type": "code",
      "source": [
        "df1.filter(\"imdb_rating == 8\").show(10)"
      ],
      "metadata": {
        "colab": {
          "base_uri": "https://localhost:8080/"
        },
        "id": "OHMB87FYrES8",
        "outputId": "f6b3a14c-9f8c-4e54-b1cc-5f72d0f00401"
      },
      "execution_count": null,
      "outputs": [
        {
          "output_type": "stream",
          "name": "stdout",
          "text": [
            "+-----------+--------------------+-----+----------+\n",
            "|imdb_rating|               title|rated|imdb_votes|\n",
            "+-----------+--------------------+-----+----------+\n",
            "|        8.0|             Aladdin|    G|   356,283|\n",
            "|        8.0|Beauty and the Beast|    G|   404,632|\n",
            "|        8.3|    Before the Flood|   PG|    25,171|\n",
            "|        8.1|     Boy Meets World| TV-G|    37,279|\n",
            "|        8.3|         Brain Games| TV-G|     2,812|\n",
            "|        8.4|                Coco|   PG|   333,411|\n",
            "|        8.1|         Day & Night|    G|    16,108|\n",
            "|        8.9|       Gravity Falls|TV-Y7|    63,771|\n",
            "|        8.2|Phineas and Ferb:...| TV-G|       492|\n",
            "|        8.0|Star vs. the Forc...|TV-Y7|     9,623|\n",
            "+-----------+--------------------+-----+----------+\n",
            "only showing top 10 rows\n",
            "\n"
          ]
        }
      ]
    },
    {
      "cell_type": "code",
      "source": [
        "df1.sort(col(\"title\").desc()).show(10)"
      ],
      "metadata": {
        "colab": {
          "base_uri": "https://localhost:8080/"
        },
        "id": "G_EEUVWVrEXX",
        "outputId": "aada5914-44c8-41e4-8baa-97c48f9c6058"
      },
      "execution_count": null,
      "outputs": [
        {
          "output_type": "stream",
          "name": "stdout",
          "text": [
            "+-----------+--------------------+---------+--------------------+\n",
            "|imdb_rating|               title|    rated|          imdb_votes|\n",
            "+-----------+--------------------+---------+--------------------+\n",
            "|        8.0|            Zootopia|       PG|             410,437|\n",
            "|        N/A|           Zenon: Z3|     TV-G|                 N/A|\n",
            "|        5.9|   Zenon: The Zequel|     TV-G|               3,318|\n",
            "|        6.4|Zenon: Girl of th...|     TV-G|               6,378|\n",
            "|Canada, USA|              Zapped|     TV-G|5 wins & 1 nomina...|\n",
            "|        6.3|       Z-O-M-B-I-E-S|     TV-G|               2,993|\n",
            "|        7.1| Your Friend the Rat|        G|               4,944|\n",
            "|        6.1|           You Wish!|     TV-G|               1,608|\n",
            "|        4.7|       You Lucky Dog|     TV-G|                 526|\n",
            "|        6.9|    Yellowstone Cubs|Not Rated|                 177|\n",
            "+-----------+--------------------+---------+--------------------+\n",
            "only showing top 10 rows\n",
            "\n"
          ]
        }
      ]
    },
    {
      "cell_type": "code",
      "source": [
        "avg_rating = df.groupBy(col(\"title\")).agg({\"imdb_votes\" : \"avg\"}).withColumnRenamed(\"avg(imdb_votes)\", \"avg_imdb_votes\")\n",
        "avg_rating.orderBy(desc(\"avg_imdb_votes\")).limit(10).show(truncate = False)"
      ],
      "metadata": {
        "colab": {
          "base_uri": "https://localhost:8080/"
        },
        "id": "1jjSRB1jrEZ-",
        "outputId": "0dbfc3dc-bfbd-4588-e48d-890ba1bceaf2"
      },
      "execution_count": null,
      "outputs": [
        {
          "output_type": "stream",
          "name": "stdout",
          "text": [
            "+-------------------------------------+--------------+\n",
            "|title                                |avg_imdb_votes|\n",
            "+-------------------------------------+--------------+\n",
            "|Mr. Boogedy                          |1173.0        |\n",
            "|The Incredible Dr. Pol               |999.0         |\n",
            "|Elena of Avalor                      |998.0         |\n",
            "|Boat Builders                        |993.0         |\n",
            "|Elmer Elephant                       |991.0         |\n",
            "|Lamp Life                            |980.0         |\n",
            "|Roving Mars                          |968.0         |\n",
            "|Bluey                                |949.0         |\n",
            "|Spider-Man                           |943.0         |\n",
            "|Marvel Studios: Assembling a Universe|936.0         |\n",
            "+-------------------------------------+--------------+\n",
            "\n"
          ]
        }
      ]
    },
    {
      "cell_type": "code",
      "source": [
        "avg_rating.select(\"title\").orderBy(desc(\"avg_imdb_votes\")).limit(1).show()"
      ],
      "metadata": {
        "colab": {
          "base_uri": "https://localhost:8080/"
        },
        "id": "dB31fDTkrEdG",
        "outputId": "9d5cdfc7-7925-492b-c43f-79b2d82635bd"
      },
      "execution_count": null,
      "outputs": [
        {
          "output_type": "stream",
          "name": "stdout",
          "text": [
            "+-----------+\n",
            "|      title|\n",
            "+-----------+\n",
            "|Mr. Boogedy|\n",
            "+-----------+\n",
            "\n"
          ]
        }
      ]
    },
    {
      "cell_type": "code",
      "source": [
        "avg_rating.dropna().orderBy(asc(\"avg_imdb_votes\")).limit(10).show(truncate = False)"
      ],
      "metadata": {
        "colab": {
          "base_uri": "https://localhost:8080/"
        },
        "id": "JI4gH6QxrEgO",
        "outputId": "625f56e2-1d3b-4ca0-9823-3f7d74237c91"
      },
      "execution_count": null,
      "outputs": [
        {
          "output_type": "stream",
          "name": "stdout",
          "text": [
            "+-----------------------------------------+--------------+\n",
            "|title                                    |avg_imdb_votes|\n",
            "+-----------------------------------------+--------------+\n",
            "|Jonas Brothers: The 3D Concert Experience|1.5           |\n",
            "|Out There with Jack Randall              |5.0           |\n",
            "|Insider                                  |5.0           |\n",
            "|The Sandlot: Heading Home                |5.0           |\n",
            "|Rocky Mountain Animal Rescue             |5.0           |\n",
            "|Camp Rock 2: The Final Jam               |5.2           |\n",
            "|Secrets of the King Cobra                |6.0           |\n",
            "|Muppet Moments                           |6.0           |\n",
            "|Penguins: Life on the Edge               |6.0           |\n",
            "|The Suite Life on Deck                   |6.3           |\n",
            "+-----------------------------------------+--------------+\n",
            "\n"
          ]
        }
      ]
    },
    {
      "cell_type": "code",
      "source": [
        "avg_rating.dropna().select(\"title\").orderBy(asc(\"avg_imdb_votes\")).limit(1).show(truncate = False)"
      ],
      "metadata": {
        "colab": {
          "base_uri": "https://localhost:8080/"
        },
        "id": "--dDXqL3rEoE",
        "outputId": "e1f13b87-848e-4b09-ef13-1d03aea52286"
      },
      "execution_count": null,
      "outputs": [
        {
          "output_type": "stream",
          "name": "stdout",
          "text": [
            "+-----------------------------------------+\n",
            "|title                                    |\n",
            "+-----------------------------------------+\n",
            "|Jonas Brothers: The 3D Concert Experience|\n",
            "+-----------------------------------------+\n",
            "\n"
          ]
        }
      ]
    },
    {
      "cell_type": "code",
      "source": [
        "genre = df.select(col(\"imdb_rating\"), col(\"title\"), col(\"rated\"), col(\"imdb_votes\"), col(\"genre\"))\n",
        "genre_avg = genre.groupBy(\"genre\").agg(round(avg(\"imdb_rating\"), 1)).withColumnRenamed(\"round(avg(imdb_rating), 1)\", \"avg_imdb_rating\")\n",
        "genre_avg.dropna().show()"
      ],
      "metadata": {
        "colab": {
          "base_uri": "https://localhost:8080/"
        },
        "id": "-7xscFkqrEzA",
        "outputId": "9f0927b4-08de-479d-f6d9-0f3569c6816b"
      },
      "execution_count": null,
      "outputs": [
        {
          "output_type": "stream",
          "name": "stdout",
          "text": [
            "+--------------------+---------------+\n",
            "|               genre|avg_imdb_rating|\n",
            "+--------------------+---------------+\n",
            "|Animation, Advent...|            6.5|\n",
            "|Animation, Comedy...|            6.7|\n",
            "|Adventure, Biogra...|            8.1|\n",
            "|             100 min|           84.0|\n",
            "|Adventure, Comedy...|            4.7|\n",
            "|Family, Romance, ...|            5.4|\n",
            "|Animation, Action...|            6.4|\n",
            "|Animation, Advent...|            6.1|\n",
            "|Action, Adventure...|            7.0|\n",
            "|Animation, Comedy...|            6.5|\n",
            "|Documentary, Hist...|            7.6|\n",
            "|Adventure, Family...|            8.5|\n",
            "|Documentary, Biog...|            7.9|\n",
            "|Documentary, Adve...|            4.7|\n",
            "|  Documentary, Music|            2.3|\n",
            "|Animation, Advent...|            8.4|\n",
            "|Family, Comedy, A...|            7.3|\n",
            "|Adventure, Comedy...|            5.3|\n",
            "|Adventure, Family...|            5.9|\n",
            "|Animation, Short,...|            7.6|\n",
            "+--------------------+---------------+\n",
            "only showing top 20 rows\n",
            "\n"
          ]
        }
      ]
    },
    {
      "cell_type": "code",
      "source": [
        "df.select(df.columns[:3]).filter(col(\"plot\").like(\"%ghost%\")).show(10, truncate = False)"
      ],
      "metadata": {
        "colab": {
          "base_uri": "https://localhost:8080/"
        },
        "id": "DhkBXvfuri0S",
        "outputId": "58458be8-f5c5-4408-ce87-0b93dbbc4d72"
      },
      "execution_count": null,
      "outputs": [
        {
          "output_type": "stream",
          "name": "stdout",
          "text": [
            "+---------+---------------+----------------------------------------------------------------------------------------------------------------------------------------------------------------+\n",
            "|imdb_id  |title          |plot                                                                                                                                                            |\n",
            "+---------+---------------+----------------------------------------------------------------------------------------------------------------------------------------------------------------+\n",
            "|tt0029161|Lonesome Ghosts|Four bored ghosts in a haunted house who've scared everyone away call up Ghost Hunters Mickey, Donald, and Goofy in hopes to have a little fun scaring them off.|\n",
            "+---------+---------------+----------------------------------------------------------------------------------------------------------------------------------------------------------------+\n",
            "\n"
          ]
        }
      ]
    },
    {
      "cell_type": "code",
      "source": [
        "evil_plot = df.filter(col(\"plot\").like(\"%evil%\"))\n",
        "evil_plot.count()"
      ],
      "metadata": {
        "colab": {
          "base_uri": "https://localhost:8080/"
        },
        "id": "4yXSClferi4-",
        "outputId": "ee840766-d90d-4d87-e8cd-85284371bb9d"
      },
      "execution_count": null,
      "outputs": [
        {
          "output_type": "execute_result",
          "data": {
            "text/plain": [
              "25"
            ]
          },
          "metadata": {},
          "execution_count": 33
        }
      ]
    },
    {
      "cell_type": "code",
      "source": [
        "df.groupBy(\"type\").count().show(truncate = False)"
      ],
      "metadata": {
        "colab": {
          "base_uri": "https://localhost:8080/"
        },
        "id": "DrTCZADmri9K",
        "outputId": "31673bd7-02fb-4aef-9c2d-58e756eafef9"
      },
      "execution_count": null,
      "outputs": [
        {
          "output_type": "stream",
          "name": "stdout",
          "text": [
            "+-----------------------------------------------------------------------------------------------------------+-----+\n",
            "|type                                                                                                       |count|\n",
            "+-----------------------------------------------------------------------------------------------------------+-----+\n",
            "|\"\" a rubber-like super-bouncy substance.\"                                                                  |1    |\n",
            "| resident DJ for \"\"The Ellen Show\"\" ...\"                                                                   |1    |\n",
            "|NULL                                                                                                       |98   |\n",
            "| Davy and Georgie                                                                                          |1    |\n",
            "| an invisible creature befriends a 12 year old boy. Of course                                              |1    |\n",
            "| as well as documentary footage on the lives of the three brothers.\"                                       |1    |\n",
            "| Queen Aggravain has ruled that none may marry until her son                                               |1    |\n",
            "|\"\" James Cameron reopens the file on the disaster.\"                                                        |1    |\n",
            "|episode                                                                                                    |22   |\n",
            "| recruits a group of bugs that turn out to be an inept circus troupe.\"                                     |1    |\n",
            "| Donald isn't having a lot of fun or success with his game.\"                                               |1    |\n",
            "| creating an atmosphere of competition or feud.\"                                                           |1    |\n",
            "|movie                                                                                                      |657  |\n",
            "|series                                                                                                     |188  |\n",
            "| Donald decides ...\"                                                                                       |1    |\n",
            "|\"\" this animated adventure/comedy series unfolds as Rapunzel acquaints herself with her parents            |1    |\n",
            "| Jordy                                                                                                     |1    |\n",
            "| but the son of an old rival threatens to make the latter \"\"real\"\" and the real world a place of monsters.\"|1    |\n",
            "| of course                                                                                                 |1    |\n",
            "| a road trip alongside old and new friends reveals how big the world can be for a toy.\"                    |1    |\n",
            "+-----------------------------------------------------------------------------------------------------------+-----+\n",
            "only showing top 20 rows\n",
            "\n"
          ]
        }
      ]
    },
    {
      "cell_type": "code",
      "source": [
        "avg_rating_runtime = df.groupBy(\"director\").agg(round(avg(\"imdb_rating\"), 1).alias(\"avgerage imdb rating\"))\\\n",
        "                     .orderBy(asc(\"director\"))\n",
        "avg_rating_runtime.dropna().show(truncate = False)"
      ],
      "metadata": {
        "colab": {
          "base_uri": "https://localhost:8080/"
        },
        "id": "UKhUtxPbrjAC",
        "outputId": "f66ece57-48ee-4a01-d435-9bb8f27bcf8f"
      },
      "execution_count": null,
      "outputs": [
        {
          "output_type": "stream",
          "name": "stdout",
          "text": [
            "+-------------------------------------------------------------+--------------------+\n",
            "|director                                                     |avgerage imdb rating|\n",
            "+-------------------------------------------------------------+--------------------+\n",
            "|Aaron Blaise, Robert Walker                                  |6.8                 |\n",
            "|Adam Shankman                                                |6.0                 |\n",
            "|Alan Barillaro                                               |8.4                 |\n",
            "|Alan Shapiro                                                 |6.5                 |\n",
            "|Alan Taylor                                                  |6.9                 |\n",
            "|Alastair Fothergill, Jeff Wilson                             |6.8                 |\n",
            "|Alastair Fothergill, Keith Scholey, Adam Chapman(co-director)|7.4                 |\n",
            "|Alastair Fothergill, Mark Linfield                           |7.2                 |\n",
            "|Alex Zamm                                                    |3.4                 |\n",
            "|Alfred Gimeno                                                |4.6                 |\n",
            "|Alfred Gimeno, Eric Radomski                                 |5.1                 |\n",
            "|Allison Liddi-Brown                                          |5.6                 |\n",
            "|Andrew Adamson                                               |6.7                 |\n",
            "|Andrew Davis                                                 |7.0                 |\n",
            "|Andrew Knight                                                |6.1                 |\n",
            "|Andrew Stanton                                               |7.5                 |\n",
            "|Andrew Stanton, Angus MacLane(co-director)                   |7.3                 |\n",
            "|Andrew Stanton, Lee Unkrich(co-director)                     |8.1                 |\n",
            "|Andy Byatt, Alastair Fothergill                              |7.4                 |\n",
            "|Andy Fickman                                                 |6.1                 |\n",
            "+-------------------------------------------------------------+--------------------+\n",
            "only showing top 20 rows\n",
            "\n"
          ]
        }
      ]
    },
    {
      "cell_type": "code",
      "source": [
        "mv_released_each_yr = df.filter(col(\"type\") == \"movie\")\\\n",
        "                      .groupBy(\"year\")\\\n",
        "                      .agg(count(\"imdb_id\").alias(\"No of Movies\"))\\\n",
        "                      .orderBy(desc(\"year\"))\n",
        "mv_released_each_yr.show()"
      ],
      "metadata": {
        "colab": {
          "base_uri": "https://localhost:8080/"
        },
        "id": "wGB2hRtZrjGA",
        "outputId": "d8c837aa-281c-454f-ab9a-a16cf7e1493a"
      },
      "execution_count": null,
      "outputs": [
        {
          "output_type": "stream",
          "name": "stdout",
          "text": [
            "+----+------------+\n",
            "|year|No of Movies|\n",
            "+----+------------+\n",
            "|2020|          12|\n",
            "|2019|          28|\n",
            "|2018|          18|\n",
            "|2017|          21|\n",
            "|2016|          18|\n",
            "|2015|          12|\n",
            "|2014|          16|\n",
            "|2013|          10|\n",
            "|2012|          16|\n",
            "|2011|          22|\n",
            "|2010|          14|\n",
            "|2009|          18|\n",
            "|2008|          18|\n",
            "|2007|          14|\n",
            "|2006|          20|\n",
            "|2005|          21|\n",
            "|2004|          22|\n",
            "|2003|          26|\n",
            "|2002|          22|\n",
            "|2001|          15|\n",
            "+----+------------+\n",
            "only showing top 20 rows\n",
            "\n"
          ]
        }
      ]
    },
    {
      "cell_type": "code",
      "source": [
        "changed_datatype = df.select(col(\"imdb_votes\").cast(\"int\"), col(\"director\"), col(\"type\"), col(\"title\"))\n",
        "top_five_directors = changed_datatype.filter(col(\"type\") == \"movie\")\\\n",
        "                     .orderBy(desc(\"imdb_votes\")).limit(3)\n",
        "top_five_directors.show(truncate = False)"
      ],
      "metadata": {
        "colab": {
          "base_uri": "https://localhost:8080/"
        },
        "id": "aXNRyjeprjJq",
        "outputId": "4ea30ba5-f00e-4be3-fb6f-a270b02445e2"
      },
      "execution_count": null,
      "outputs": [
        {
          "output_type": "stream",
          "name": "stdout",
          "text": [
            "+----------+----------------+-----+--------------+\n",
            "|imdb_votes|director        |type |title         |\n",
            "+----------+----------------+-----+--------------+\n",
            "|993       |Ben Sharpsteen  |movie|Boat Builders |\n",
            "|991       |Wilfred Jackson |movie|Elmer Elephant|\n",
            "|980       |Valerie LaPointe|movie|Lamp Life     |\n",
            "+----------+----------------+-----+--------------+\n",
            "\n"
          ]
        }
      ]
    },
    {
      "cell_type": "code",
      "source": [
        "movie_with_awards = df.withColumn(\"has_award\",when(col(\"awards\") == \"N/A\", \"no award\").otherwise(\"award\"))\n",
        "avg_rating_by_award = movie_with_awards.groupBy(\"has_award\")\\\n",
        "                     .agg(round(avg(\"imdb_rating\"), 1).alias(\"average imdb rating\"))\n",
        "avg_rating_by_award.show()"
      ],
      "metadata": {
        "colab": {
          "base_uri": "https://localhost:8080/"
        },
        "id": "1VRiKSjtr4Sm",
        "outputId": "2a3a21a0-2a5d-4c21-d4e1-241365b41566"
      },
      "execution_count": null,
      "outputs": [
        {
          "output_type": "stream",
          "name": "stdout",
          "text": [
            "+---------+-------------------+\n",
            "|has_award|average imdb rating|\n",
            "+---------+-------------------+\n",
            "|    award|                7.6|\n",
            "| no award|                6.7|\n",
            "+---------+-------------------+\n",
            "\n"
          ]
        }
      ]
    },
    {
      "cell_type": "code",
      "source": [
        "most_common_lang = df.groupBy(\"language\")\\\n",
        "                   .agg(count(\"imdb_id\").alias(\"no of movies\"))\\\n",
        "                   .orderBy(desc(\"no of movies\")).limit(1)\n",
        "most_common_lang.select(df.language.alias(\"most common language\")).show()"
      ],
      "metadata": {
        "colab": {
          "base_uri": "https://localhost:8080/"
        },
        "id": "9DOkbIkvr4VZ",
        "outputId": "aa3a8fc9-bd40-45c0-d7ee-c75bc0da7c06"
      },
      "execution_count": null,
      "outputs": [
        {
          "output_type": "stream",
          "name": "stdout",
          "text": [
            "+--------------------+\n",
            "|most common language|\n",
            "+--------------------+\n",
            "|             English|\n",
            "+--------------------+\n",
            "\n"
          ]
        }
      ]
    },
    {
      "cell_type": "code",
      "source": [
        "avg_rating_by_genre = df.groupBy(\"genre\")\\\n",
        "                      .agg(round(avg(\"metascore\"), 1).alias(\"average metascore\"), round(avg(\"imdb_rating\"), 1).alias(\"average imdb rating\"))\n",
        "avg_rating_by_genre.dropna().show(truncate = False)"
      ],
      "metadata": {
        "colab": {
          "base_uri": "https://localhost:8080/"
        },
        "id": "MKXWHyRBr4ZC",
        "outputId": "5a61cf69-086e-4c0c-ce3d-4a8c91d4e294"
      },
      "execution_count": null,
      "outputs": [
        {
          "output_type": "stream",
          "name": "stdout",
          "text": [
            "+-----------------------------------------------------+-----------------+-------------------+\n",
            "|genre                                                |average metascore|average imdb rating|\n",
            "+-----------------------------------------------------+-----------------+-------------------+\n",
            "|Animation, Adventure, Family, Thriller               |56.0             |6.5                |\n",
            "|Adventure, Biography, Drama, Family, History         |69.0             |8.1                |\n",
            "|Adventure, Comedy, Family, Fantasy, Romance          |34.0             |4.7                |\n",
            "|Animation, Action, Adventure, Family, Fantasy, Sci-Fi|43.5             |6.4                |\n",
            "|Action, Adventure, Fantasy                           |51.8             |7.0                |\n",
            "|Animation, Comedy, Family, Fantasy, Musical          |92.0             |6.5                |\n",
            "|Documentary, Biography                               |87.0             |7.9                |\n",
            "|Documentary, Adventure, Biography, Family            |63.0             |4.7                |\n",
            "|Documentary, Music                                   |59.0             |2.3                |\n",
            "|Animation, Adventure, Family, Fantasy, Music, Mystery|81.0             |8.4                |\n",
            "|Biography, Drama, Sport                              |59.4             |7.4                |\n",
            "|Comedy, Drama, Romance                               |65.0             |6.8                |\n",
            "|Comedy, Family, Romance                              |56.0             |6.1                |\n",
            "|Action, Adventure, Family, Mystery, Thriller         |48.0             |6.5                |\n",
            "|Animation, Adventure, Family, Fantasy, Musical, War  |71.0             |7.6                |\n",
            "|Animation, Adventure, Comedy, Crime, Family, Mystery |78.0             |8.0                |\n",
            "|Action, Adventure, Comedy, Crime, Family, Sci-Fi     |36.0             |4.1                |\n",
            "|Adventure, Comedy, Family, Music, Romance            |56.0             |5.5                |\n",
            "|Animation, Adventure, Comedy, Drama, Family, Fantasy |85.3             |7.6                |\n",
            "|Action, Adventure, Mystery, Thriller                 |39.0             |6.8                |\n",
            "+-----------------------------------------------------+-----------------+-------------------+\n",
            "only showing top 20 rows\n",
            "\n"
          ]
        }
      ]
    },
    {
      "cell_type": "code",
      "source": [
        "import plotly.express as px\n",
        "\n",
        "# Determine the number of movies released each year and sort them in descending order\n",
        "mv_released_each_yr = df.filter(col(\"type\") == \"movie\")\\\n",
        "                      .groupBy(\"year\")\\\n",
        "                      .agg(count(\"imdb_id\").alias(\"No_of_Movies\"))\\\n",
        "                      .orderBy(desc(\"year\"))\n",
        "\n",
        "# Convert the Spark DataFrame to a Pandas DataFrame for plotting\n",
        "mv_released_each_yr_pd = mv_released_each_yr.toPandas()\n",
        "\n",
        "# Plotting\n",
        "fig = px.bar(mv_released_each_yr_pd, x='year', y='No_of_Movies', title='Number of Movies Released Each Year')\n",
        "fig.update_layout(xaxis_title='Year', yaxis_title='Number of Movies')\n",
        "fig.show()"
      ],
      "metadata": {
        "colab": {
          "base_uri": "https://localhost:8080/",
          "height": 542
        },
        "id": "yroY-CJEr4eP",
        "outputId": "32574fe9-88fb-4732-84d6-5b97542c4021"
      },
      "execution_count": null,
      "outputs": [
        {
          "output_type": "display_data",
          "data": {
            "text/html": [
              "<html>\n",
              "<head><meta charset=\"utf-8\" /></head>\n",
              "<body>\n",
              "    <div>            <script src=\"https://cdnjs.cloudflare.com/ajax/libs/mathjax/2.7.5/MathJax.js?config=TeX-AMS-MML_SVG\"></script><script type=\"text/javascript\">if (window.MathJax && window.MathJax.Hub && window.MathJax.Hub.Config) {window.MathJax.Hub.Config({SVG: {font: \"STIX-Web\"}});}</script>                <script type=\"text/javascript\">window.PlotlyConfig = {MathJaxConfig: 'local'};</script>\n",
              "        <script charset=\"utf-8\" src=\"https://cdn.plot.ly/plotly-2.24.1.min.js\"></script>                <div id=\"71aabdc3-d9b6-41e3-b39d-a218940b7360\" class=\"plotly-graph-div\" style=\"height:525px; width:100%;\"></div>            <script type=\"text/javascript\">                                    window.PLOTLYENV=window.PLOTLYENV || {};                                    if (document.getElementById(\"71aabdc3-d9b6-41e3-b39d-a218940b7360\")) {                    Plotly.newPlot(                        \"71aabdc3-d9b6-41e3-b39d-a218940b7360\",                        [{\"alignmentgroup\":\"True\",\"hovertemplate\":\"year=%{x}\\u003cbr\\u003eNo_of_Movies=%{y}\\u003cextra\\u003e\\u003c\\u002fextra\\u003e\",\"legendgroup\":\"\",\"marker\":{\"color\":\"#636efa\",\"pattern\":{\"shape\":\"\"}},\"name\":\"\",\"offsetgroup\":\"\",\"orientation\":\"v\",\"showlegend\":false,\"textposition\":\"auto\",\"x\":[\"2020\",\"2019\",\"2018\",\"2017\",\"2016\",\"2015\",\"2014\",\"2013\",\"2012\",\"2011\",\"2010\",\"2009\",\"2008\",\"2007\",\"2006\",\"2005\",\"2004\",\"2003\",\"2002\",\"2001\",\"2000\",\"1999\",\"1998\",\"1997\",\"1996\",\"1995\",\"1994\",\"1993\",\"1992\",\"1991\",\"1990\",\"1989\",\"1988\",\"1987\",\"1986\",\"1985\",\"1984\",\"1983\",\"1982\",\"1981\",\"1980\",\"1979\",\"1978\",\"1977\",\"1976\",\"1975\",\"1974\",\"1973\",\"1972\",\"1971\",\"1970\",\"1969\",\"1968\",\"1967\",\"1966\",\"1965\",\"1964\",\"1963\",\"1962\",\"1961\",\"1960\",\"1959\",\"1958\",\"1957\",\"1956\",\"1955\",\"1954\",\"1953\",\"1952\",\"1951\",\"1950\",\"1949\",\"1948\",\"1947\",\"1946\",\"1944\",\"1943\",\"1942\",\"1941\",\"1940\",\"1939\",\"1938\",\"1937\",\"1936\",\"1935\",\"1934\",\"1933\",\"1932\",\"1928\"],\"xaxis\":\"x\",\"y\":[12,28,18,21,18,12,16,10,16,22,14,18,18,14,20,21,22,26,22,15,22,18,15,10,9,9,7,9,5,3,5,4,5,4,3,4,2,2,1,3,3,4,3,7,4,4,3,1,3,3,1,1,2,2,1,3,2,3,2,5,3,4,1,2,1,5,3,4,7,4,3,3,2,2,2,2,1,7,4,7,5,3,6,2,4,4,2,3,1],\"yaxis\":\"y\",\"type\":\"bar\"}],                        {\"template\":{\"data\":{\"histogram2dcontour\":[{\"type\":\"histogram2dcontour\",\"colorbar\":{\"outlinewidth\":0,\"ticks\":\"\"},\"colorscale\":[[0.0,\"#0d0887\"],[0.1111111111111111,\"#46039f\"],[0.2222222222222222,\"#7201a8\"],[0.3333333333333333,\"#9c179e\"],[0.4444444444444444,\"#bd3786\"],[0.5555555555555556,\"#d8576b\"],[0.6666666666666666,\"#ed7953\"],[0.7777777777777778,\"#fb9f3a\"],[0.8888888888888888,\"#fdca26\"],[1.0,\"#f0f921\"]]}],\"choropleth\":[{\"type\":\"choropleth\",\"colorbar\":{\"outlinewidth\":0,\"ticks\":\"\"}}],\"histogram2d\":[{\"type\":\"histogram2d\",\"colorbar\":{\"outlinewidth\":0,\"ticks\":\"\"},\"colorscale\":[[0.0,\"#0d0887\"],[0.1111111111111111,\"#46039f\"],[0.2222222222222222,\"#7201a8\"],[0.3333333333333333,\"#9c179e\"],[0.4444444444444444,\"#bd3786\"],[0.5555555555555556,\"#d8576b\"],[0.6666666666666666,\"#ed7953\"],[0.7777777777777778,\"#fb9f3a\"],[0.8888888888888888,\"#fdca26\"],[1.0,\"#f0f921\"]]}],\"heatmap\":[{\"type\":\"heatmap\",\"colorbar\":{\"outlinewidth\":0,\"ticks\":\"\"},\"colorscale\":[[0.0,\"#0d0887\"],[0.1111111111111111,\"#46039f\"],[0.2222222222222222,\"#7201a8\"],[0.3333333333333333,\"#9c179e\"],[0.4444444444444444,\"#bd3786\"],[0.5555555555555556,\"#d8576b\"],[0.6666666666666666,\"#ed7953\"],[0.7777777777777778,\"#fb9f3a\"],[0.8888888888888888,\"#fdca26\"],[1.0,\"#f0f921\"]]}],\"heatmapgl\":[{\"type\":\"heatmapgl\",\"colorbar\":{\"outlinewidth\":0,\"ticks\":\"\"},\"colorscale\":[[0.0,\"#0d0887\"],[0.1111111111111111,\"#46039f\"],[0.2222222222222222,\"#7201a8\"],[0.3333333333333333,\"#9c179e\"],[0.4444444444444444,\"#bd3786\"],[0.5555555555555556,\"#d8576b\"],[0.6666666666666666,\"#ed7953\"],[0.7777777777777778,\"#fb9f3a\"],[0.8888888888888888,\"#fdca26\"],[1.0,\"#f0f921\"]]}],\"contourcarpet\":[{\"type\":\"contourcarpet\",\"colorbar\":{\"outlinewidth\":0,\"ticks\":\"\"}}],\"contour\":[{\"type\":\"contour\",\"colorbar\":{\"outlinewidth\":0,\"ticks\":\"\"},\"colorscale\":[[0.0,\"#0d0887\"],[0.1111111111111111,\"#46039f\"],[0.2222222222222222,\"#7201a8\"],[0.3333333333333333,\"#9c179e\"],[0.4444444444444444,\"#bd3786\"],[0.5555555555555556,\"#d8576b\"],[0.6666666666666666,\"#ed7953\"],[0.7777777777777778,\"#fb9f3a\"],[0.8888888888888888,\"#fdca26\"],[1.0,\"#f0f921\"]]}],\"surface\":[{\"type\":\"surface\",\"colorbar\":{\"outlinewidth\":0,\"ticks\":\"\"},\"colorscale\":[[0.0,\"#0d0887\"],[0.1111111111111111,\"#46039f\"],[0.2222222222222222,\"#7201a8\"],[0.3333333333333333,\"#9c179e\"],[0.4444444444444444,\"#bd3786\"],[0.5555555555555556,\"#d8576b\"],[0.6666666666666666,\"#ed7953\"],[0.7777777777777778,\"#fb9f3a\"],[0.8888888888888888,\"#fdca26\"],[1.0,\"#f0f921\"]]}],\"mesh3d\":[{\"type\":\"mesh3d\",\"colorbar\":{\"outlinewidth\":0,\"ticks\":\"\"}}],\"scatter\":[{\"fillpattern\":{\"fillmode\":\"overlay\",\"size\":10,\"solidity\":0.2},\"type\":\"scatter\"}],\"parcoords\":[{\"type\":\"parcoords\",\"line\":{\"colorbar\":{\"outlinewidth\":0,\"ticks\":\"\"}}}],\"scatterpolargl\":[{\"type\":\"scatterpolargl\",\"marker\":{\"colorbar\":{\"outlinewidth\":0,\"ticks\":\"\"}}}],\"bar\":[{\"error_x\":{\"color\":\"#2a3f5f\"},\"error_y\":{\"color\":\"#2a3f5f\"},\"marker\":{\"line\":{\"color\":\"#E5ECF6\",\"width\":0.5},\"pattern\":{\"fillmode\":\"overlay\",\"size\":10,\"solidity\":0.2}},\"type\":\"bar\"}],\"scattergeo\":[{\"type\":\"scattergeo\",\"marker\":{\"colorbar\":{\"outlinewidth\":0,\"ticks\":\"\"}}}],\"scatterpolar\":[{\"type\":\"scatterpolar\",\"marker\":{\"colorbar\":{\"outlinewidth\":0,\"ticks\":\"\"}}}],\"histogram\":[{\"marker\":{\"pattern\":{\"fillmode\":\"overlay\",\"size\":10,\"solidity\":0.2}},\"type\":\"histogram\"}],\"scattergl\":[{\"type\":\"scattergl\",\"marker\":{\"colorbar\":{\"outlinewidth\":0,\"ticks\":\"\"}}}],\"scatter3d\":[{\"type\":\"scatter3d\",\"line\":{\"colorbar\":{\"outlinewidth\":0,\"ticks\":\"\"}},\"marker\":{\"colorbar\":{\"outlinewidth\":0,\"ticks\":\"\"}}}],\"scattermapbox\":[{\"type\":\"scattermapbox\",\"marker\":{\"colorbar\":{\"outlinewidth\":0,\"ticks\":\"\"}}}],\"scatterternary\":[{\"type\":\"scatterternary\",\"marker\":{\"colorbar\":{\"outlinewidth\":0,\"ticks\":\"\"}}}],\"scattercarpet\":[{\"type\":\"scattercarpet\",\"marker\":{\"colorbar\":{\"outlinewidth\":0,\"ticks\":\"\"}}}],\"carpet\":[{\"aaxis\":{\"endlinecolor\":\"#2a3f5f\",\"gridcolor\":\"white\",\"linecolor\":\"white\",\"minorgridcolor\":\"white\",\"startlinecolor\":\"#2a3f5f\"},\"baxis\":{\"endlinecolor\":\"#2a3f5f\",\"gridcolor\":\"white\",\"linecolor\":\"white\",\"minorgridcolor\":\"white\",\"startlinecolor\":\"#2a3f5f\"},\"type\":\"carpet\"}],\"table\":[{\"cells\":{\"fill\":{\"color\":\"#EBF0F8\"},\"line\":{\"color\":\"white\"}},\"header\":{\"fill\":{\"color\":\"#C8D4E3\"},\"line\":{\"color\":\"white\"}},\"type\":\"table\"}],\"barpolar\":[{\"marker\":{\"line\":{\"color\":\"#E5ECF6\",\"width\":0.5},\"pattern\":{\"fillmode\":\"overlay\",\"size\":10,\"solidity\":0.2}},\"type\":\"barpolar\"}],\"pie\":[{\"automargin\":true,\"type\":\"pie\"}]},\"layout\":{\"autotypenumbers\":\"strict\",\"colorway\":[\"#636efa\",\"#EF553B\",\"#00cc96\",\"#ab63fa\",\"#FFA15A\",\"#19d3f3\",\"#FF6692\",\"#B6E880\",\"#FF97FF\",\"#FECB52\"],\"font\":{\"color\":\"#2a3f5f\"},\"hovermode\":\"closest\",\"hoverlabel\":{\"align\":\"left\"},\"paper_bgcolor\":\"white\",\"plot_bgcolor\":\"#E5ECF6\",\"polar\":{\"bgcolor\":\"#E5ECF6\",\"angularaxis\":{\"gridcolor\":\"white\",\"linecolor\":\"white\",\"ticks\":\"\"},\"radialaxis\":{\"gridcolor\":\"white\",\"linecolor\":\"white\",\"ticks\":\"\"}},\"ternary\":{\"bgcolor\":\"#E5ECF6\",\"aaxis\":{\"gridcolor\":\"white\",\"linecolor\":\"white\",\"ticks\":\"\"},\"baxis\":{\"gridcolor\":\"white\",\"linecolor\":\"white\",\"ticks\":\"\"},\"caxis\":{\"gridcolor\":\"white\",\"linecolor\":\"white\",\"ticks\":\"\"}},\"coloraxis\":{\"colorbar\":{\"outlinewidth\":0,\"ticks\":\"\"}},\"colorscale\":{\"sequential\":[[0.0,\"#0d0887\"],[0.1111111111111111,\"#46039f\"],[0.2222222222222222,\"#7201a8\"],[0.3333333333333333,\"#9c179e\"],[0.4444444444444444,\"#bd3786\"],[0.5555555555555556,\"#d8576b\"],[0.6666666666666666,\"#ed7953\"],[0.7777777777777778,\"#fb9f3a\"],[0.8888888888888888,\"#fdca26\"],[1.0,\"#f0f921\"]],\"sequentialminus\":[[0.0,\"#0d0887\"],[0.1111111111111111,\"#46039f\"],[0.2222222222222222,\"#7201a8\"],[0.3333333333333333,\"#9c179e\"],[0.4444444444444444,\"#bd3786\"],[0.5555555555555556,\"#d8576b\"],[0.6666666666666666,\"#ed7953\"],[0.7777777777777778,\"#fb9f3a\"],[0.8888888888888888,\"#fdca26\"],[1.0,\"#f0f921\"]],\"diverging\":[[0,\"#8e0152\"],[0.1,\"#c51b7d\"],[0.2,\"#de77ae\"],[0.3,\"#f1b6da\"],[0.4,\"#fde0ef\"],[0.5,\"#f7f7f7\"],[0.6,\"#e6f5d0\"],[0.7,\"#b8e186\"],[0.8,\"#7fbc41\"],[0.9,\"#4d9221\"],[1,\"#276419\"]]},\"xaxis\":{\"gridcolor\":\"white\",\"linecolor\":\"white\",\"ticks\":\"\",\"title\":{\"standoff\":15},\"zerolinecolor\":\"white\",\"automargin\":true,\"zerolinewidth\":2},\"yaxis\":{\"gridcolor\":\"white\",\"linecolor\":\"white\",\"ticks\":\"\",\"title\":{\"standoff\":15},\"zerolinecolor\":\"white\",\"automargin\":true,\"zerolinewidth\":2},\"scene\":{\"xaxis\":{\"backgroundcolor\":\"#E5ECF6\",\"gridcolor\":\"white\",\"linecolor\":\"white\",\"showbackground\":true,\"ticks\":\"\",\"zerolinecolor\":\"white\",\"gridwidth\":2},\"yaxis\":{\"backgroundcolor\":\"#E5ECF6\",\"gridcolor\":\"white\",\"linecolor\":\"white\",\"showbackground\":true,\"ticks\":\"\",\"zerolinecolor\":\"white\",\"gridwidth\":2},\"zaxis\":{\"backgroundcolor\":\"#E5ECF6\",\"gridcolor\":\"white\",\"linecolor\":\"white\",\"showbackground\":true,\"ticks\":\"\",\"zerolinecolor\":\"white\",\"gridwidth\":2}},\"shapedefaults\":{\"line\":{\"color\":\"#2a3f5f\"}},\"annotationdefaults\":{\"arrowcolor\":\"#2a3f5f\",\"arrowhead\":0,\"arrowwidth\":1},\"geo\":{\"bgcolor\":\"white\",\"landcolor\":\"#E5ECF6\",\"subunitcolor\":\"white\",\"showland\":true,\"showlakes\":true,\"lakecolor\":\"white\"},\"title\":{\"x\":0.05},\"mapbox\":{\"style\":\"light\"}}},\"xaxis\":{\"anchor\":\"y\",\"domain\":[0.0,1.0],\"title\":{\"text\":\"Year\"}},\"yaxis\":{\"anchor\":\"x\",\"domain\":[0.0,1.0],\"title\":{\"text\":\"Number of Movies\"}},\"legend\":{\"tracegroupgap\":0},\"title\":{\"text\":\"Number of Movies Released Each Year\"},\"barmode\":\"relative\"},                        {\"responsive\": true}                    ).then(function(){\n",
              "                            \n",
              "var gd = document.getElementById('71aabdc3-d9b6-41e3-b39d-a218940b7360');\n",
              "var x = new MutationObserver(function (mutations, observer) {{\n",
              "        var display = window.getComputedStyle(gd).display;\n",
              "        if (!display || display === 'none') {{\n",
              "            console.log([gd, 'removed!']);\n",
              "            Plotly.purge(gd);\n",
              "            observer.disconnect();\n",
              "        }}\n",
              "}});\n",
              "\n",
              "// Listen for the removal of the full notebook cells\n",
              "var notebookContainer = gd.closest('#notebook-container');\n",
              "if (notebookContainer) {{\n",
              "    x.observe(notebookContainer, {childList: true});\n",
              "}}\n",
              "\n",
              "// Listen for the clearing of the current output cell\n",
              "var outputEl = gd.closest('.output');\n",
              "if (outputEl) {{\n",
              "    x.observe(outputEl, {childList: true});\n",
              "}}\n",
              "\n",
              "                        })                };                            </script>        </div>\n",
              "</body>\n",
              "</html>"
            ]
          },
          "metadata": {}
        }
      ]
    },
    {
      "cell_type": "code",
      "source": [
        "import plotly.express as px\n",
        "from pyspark.sql.functions import col\n",
        "\n",
        "# Ensure you have the necessary columns and filter the DataFrame\n",
        "ratings_df = df.filter((col(\"type\") == \"movie\") & (col(\"imdb_rating\").isNotNull()) & (col(\"year\").isNotNull()))\n",
        "\n",
        "# Convert the filtered DataFrame to a Pandas DataFrame for plotting\n",
        "ratings_pd = ratings_df.select(\"year\", \"imdb_rating\", \"imdb_id\").toPandas()\n",
        "\n",
        "# Aggregate the number of movies per year and rating\n",
        "ratings_pd_agg = ratings_pd.groupby(['year', 'imdb_rating']).size().reset_index(name='No_of_Movies')\n",
        "\n",
        "# Plotting\n",
        "fig = px.scatter_3d(ratings_pd_agg, x='year', y='imdb_rating', z='No_of_Movies',\n",
        "                    size='No_of_Movies', color='imdb_rating',\n",
        "                    title='3D Scatter Plot of Movie Ratings Over Years',\n",
        "                    labels={'year': 'Year', 'imdb_rating': 'IMDB Rating', 'No_of_Movies': 'Number of Movies'},\n",
        "                    opacity=0.7)\n",
        "\n",
        "fig.update_layout(scene=dict(\n",
        "                    xaxis_title='Year',\n",
        "                    yaxis_title='IMDB Rating',\n",
        "                    zaxis_title='Number of Movies'),\n",
        "                  margin=dict(l=0, r=0, b=0, t=40))\n",
        "fig.show()"
      ],
      "metadata": {
        "colab": {
          "base_uri": "https://localhost:8080/",
          "height": 542
        },
        "id": "7w0eVrUvr4gV",
        "outputId": "686d9597-c833-4c9d-bfc7-b6b52da6d768"
      },
      "execution_count": null,
      "outputs": [
        {
          "output_type": "display_data",
          "data": {
            "text/html": [
              "<html>\n",
              "<head><meta charset=\"utf-8\" /></head>\n",
              "<body>\n",
              "    <div>            <script src=\"https://cdnjs.cloudflare.com/ajax/libs/mathjax/2.7.5/MathJax.js?config=TeX-AMS-MML_SVG\"></script><script type=\"text/javascript\">if (window.MathJax && window.MathJax.Hub && window.MathJax.Hub.Config) {window.MathJax.Hub.Config({SVG: {font: \"STIX-Web\"}});}</script>                <script type=\"text/javascript\">window.PlotlyConfig = {MathJaxConfig: 'local'};</script>\n",
              "        <script charset=\"utf-8\" src=\"https://cdn.plot.ly/plotly-2.24.1.min.js\"></script>                <div id=\"66454d8a-7d5e-487d-891d-66d6f054ccec\" class=\"plotly-graph-div\" style=\"height:525px; width:100%;\"></div>            <script type=\"text/javascript\">                                    window.PLOTLYENV=window.PLOTLYENV || {};                                    if (document.getElementById(\"66454d8a-7d5e-487d-891d-66d6f054ccec\")) {                    Plotly.newPlot(                        \"66454d8a-7d5e-487d-891d-66d6f054ccec\",                        [{\"hovertemplate\":\"IMDB Rating=%{y}\\u003cbr\\u003eYear=%{x}\\u003cbr\\u003eNumber of Movies=%{marker.size}\\u003cextra\\u003e\\u003c\\u002fextra\\u003e\",\"legendgroup\":\"7.6\",\"marker\":{\"color\":\"#636efa\",\"opacity\":0.7,\"size\":[1,1,1,1,1,1,1,1,1,1,1,1,1,1,1,1,1,1,1,1,2],\"sizemode\":\"area\",\"sizeref\":0.01,\"symbol\":\"circle\"},\"mode\":\"markers\",\"name\":\"7.6\",\"scene\":\"scene\",\"showlegend\":true,\"x\":[\"1928\",\"1937\",\"1939\",\"1949\",\"1951\",\"1955\",\"1967\",\"1973\",\"1977\",\"1979\",\"1989\",\"1998\",\"2005\",\"2009\",\"2011\",\"2013\",\"2014\",\"2016\",\"2017\",\"2018\",\"2020\"],\"y\":[\"7.6\",\"7.6\",\"7.6\",\"7.6\",\"7.6\",\"7.6\",\"7.6\",\"7.6\",\"7.6\",\"7.6\",\"7.6\",\"7.6\",\"7.6\",\"7.6\",\"7.6\",\"7.6\",\"7.6\",\"7.6\",\"7.6\",\"7.6\",\"7.6\"],\"z\":[1,1,1,1,1,1,1,1,1,1,1,1,1,1,1,1,1,1,1,1,2],\"type\":\"scatter3d\"},{\"hovertemplate\":\"IMDB Rating=%{y}\\u003cbr\\u003eYear=%{x}\\u003cbr\\u003eNumber of Movies=%{marker.size}\\u003cextra\\u003e\\u003c\\u002fextra\\u003e\",\"legendgroup\":\"6.8\",\"marker\":{\"color\":\"#EF553B\",\"opacity\":0.7,\"size\":[1,1,2,1,1,1,1,1,1,2,2,2,1,2,1],\"sizemode\":\"area\",\"sizeref\":0.01,\"symbol\":\"circle\"},\"mode\":\"markers\",\"name\":\"6.8\",\"scene\":\"scene\",\"showlegend\":true,\"x\":[\"1932\",\"1961\",\"1965\",\"1975\",\"1977\",\"1982\",\"1995\",\"1998\",\"2002\",\"2003\",\"2004\",\"2008\",\"2010\",\"2016\",\"2017\"],\"y\":[\"6.8\",\"6.8\",\"6.8\",\"6.8\",\"6.8\",\"6.8\",\"6.8\",\"6.8\",\"6.8\",\"6.8\",\"6.8\",\"6.8\",\"6.8\",\"6.8\",\"6.8\"],\"z\":[1,1,2,1,1,1,1,1,1,2,2,2,1,2,1],\"type\":\"scatter3d\"},{\"hovertemplate\":\"IMDB Rating=%{y}\\u003cbr\\u003eYear=%{x}\\u003cbr\\u003eNumber of Movies=%{marker.size}\\u003cextra\\u003e\\u003c\\u002fextra\\u003e\",\"legendgroup\":\"7.4\",\"marker\":{\"color\":\"#00cc96\",\"opacity\":0.7,\"size\":[1,1,1,1,2,1,2,1,1,1,2,3,1,1,1,1],\"sizemode\":\"area\",\"sizeref\":0.01,\"symbol\":\"circle\"},\"mode\":\"markers\",\"name\":\"7.4\",\"scene\":\"scene\",\"showlegend\":true,\"x\":[\"1932\",\"1940\",\"1947\",\"1949\",\"1951\",\"1955\",\"1960\",\"2000\",\"2003\",\"2005\",\"2011\",\"2014\",\"2016\",\"2018\",\"2019\",\"2020\"],\"y\":[\"7.4\",\"7.4\",\"7.4\",\"7.4\",\"7.4\",\"7.4\",\"7.4\",\"7.4\",\"7.4\",\"7.4\",\"7.4\",\"7.4\",\"7.4\",\"7.4\",\"7.4\",\"7.4\"],\"z\":[1,1,1,1,2,1,2,1,1,1,2,3,1,1,1,1],\"type\":\"scatter3d\"},{\"hovertemplate\":\"IMDB Rating=%{y}\\u003cbr\\u003eYear=%{x}\\u003cbr\\u003eNumber of Movies=%{marker.size}\\u003cextra\\u003e\\u003c\\u002fextra\\u003e\",\"legendgroup\":\"7.5\",\"marker\":{\"color\":\"#ab63fa\",\"opacity\":0.7,\"size\":[1,1,1,1,1,2,2,1,1,1,1,2,1,1,1,1],\"sizemode\":\"area\",\"sizeref\":0.01,\"symbol\":\"circle\"},\"mode\":\"markers\",\"name\":\"7.5\",\"scene\":\"scene\",\"showlegend\":true,\"x\":[\"1932\",\"1933\",\"1935\",\"1937\",\"1940\",\"1953\",\"2002\",\"2004\",\"2005\",\"2011\",\"2013\",\"2014\",\"2016\",\"2017\",\"2018\",\"2020\"],\"y\":[\"7.5\",\"7.5\",\"7.5\",\"7.5\",\"7.5\",\"7.5\",\"7.5\",\"7.5\",\"7.5\",\"7.5\",\"7.5\",\"7.5\",\"7.5\",\"7.5\",\"7.5\",\"7.5\"],\"z\":[1,1,1,1,1,2,2,1,1,1,1,2,1,1,1,1],\"type\":\"scatter3d\"},{\"hovertemplate\":\"IMDB Rating=%{y}\\u003cbr\\u003eYear=%{x}\\u003cbr\\u003eNumber of Movies=%{marker.size}\\u003cextra\\u003e\\u003c\\u002fextra\\u003e\",\"legendgroup\":\"6.7\",\"marker\":{\"color\":\"#FFA15A\",\"opacity\":0.7,\"size\":[1,1,1,1,1,1,1,1,1,1,1,1,1,1,1,1,1,1,1,2,4],\"sizemode\":\"area\",\"sizeref\":0.01,\"symbol\":\"circle\"},\"mode\":\"markers\",\"name\":\"6.7\",\"scene\":\"scene\",\"showlegend\":true,\"x\":[\"1933\",\"1939\",\"1941\",\"1952\",\"1966\",\"1985\",\"1990\",\"1991\",\"1995\",\"1996\",\"1999\",\"2002\",\"2003\",\"2009\",\"2012\",\"2014\",\"2015\",\"2016\",\"2017\",\"2019\",\"2020\"],\"y\":[\"6.7\",\"6.7\",\"6.7\",\"6.7\",\"6.7\",\"6.7\",\"6.7\",\"6.7\",\"6.7\",\"6.7\",\"6.7\",\"6.7\",\"6.7\",\"6.7\",\"6.7\",\"6.7\",\"6.7\",\"6.7\",\"6.7\",\"6.7\",\"6.7\"],\"z\":[1,1,1,1,1,1,1,1,1,1,1,1,1,1,1,1,1,1,1,2,4],\"type\":\"scatter3d\"},{\"hovertemplate\":\"IMDB Rating=%{y}\\u003cbr\\u003eYear=%{x}\\u003cbr\\u003eNumber of Movies=%{marker.size}\\u003cextra\\u003e\\u003c\\u002fextra\\u003e\",\"legendgroup\":\"6.9\",\"marker\":{\"color\":\"#19d3f3\",\"opacity\":0.7,\"size\":[1,1,1,1,1,1,1,1,1,1,2,2,1,1,1,1,1,1,2,1,1,1,3],\"sizemode\":\"area\",\"sizeref\":0.01,\"symbol\":\"circle\"},\"mode\":\"markers\",\"name\":\"6.9\",\"scene\":\"scene\",\"showlegend\":true,\"x\":[\"1934\",\"1935\",\"1936\",\"1939\",\"1946\",\"1950\",\"1952\",\"1963\",\"1968\",\"1986\",\"1990\",\"1993\",\"1999\",\"2001\",\"2002\",\"2004\",\"2005\",\"2010\",\"2011\",\"2012\",\"2013\",\"2015\",\"2019\"],\"y\":[\"6.9\",\"6.9\",\"6.9\",\"6.9\",\"6.9\",\"6.9\",\"6.9\",\"6.9\",\"6.9\",\"6.9\",\"6.9\",\"6.9\",\"6.9\",\"6.9\",\"6.9\",\"6.9\",\"6.9\",\"6.9\",\"6.9\",\"6.9\",\"6.9\",\"6.9\",\"6.9\"],\"z\":[1,1,1,1,1,1,1,1,1,1,2,2,1,1,1,1,1,1,2,1,1,1,3],\"type\":\"scatter3d\"},{\"hovertemplate\":\"IMDB Rating=%{y}\\u003cbr\\u003eYear=%{x}\\u003cbr\\u003eNumber of Movies=%{marker.size}\\u003cextra\\u003e\\u003c\\u002fextra\\u003e\",\"legendgroup\":\"7.1\",\"marker\":{\"color\":\"#FF6692\",\"opacity\":0.7,\"size\":[2,2,1,1,2,1,1,1,1,1,1,1,1,1,1,1,1,2,2,1,2,2,1,2,1],\"sizemode\":\"area\",\"sizeref\":0.01,\"symbol\":\"circle\"},\"mode\":\"markers\",\"name\":\"7.1\",\"scene\":\"scene\",\"showlegend\":true,\"x\":[\"1934\",\"1939\",\"1940\",\"1941\",\"1942\",\"1950\",\"1958\",\"1961\",\"1962\",\"1963\",\"1970\",\"1971\",\"1977\",\"1990\",\"1997\",\"2002\",\"2005\",\"2006\",\"2007\",\"2009\",\"2011\",\"2012\",\"2014\",\"2018\",\"2019\"],\"y\":[\"7.1\",\"7.1\",\"7.1\",\"7.1\",\"7.1\",\"7.1\",\"7.1\",\"7.1\",\"7.1\",\"7.1\",\"7.1\",\"7.1\",\"7.1\",\"7.1\",\"7.1\",\"7.1\",\"7.1\",\"7.1\",\"7.1\",\"7.1\",\"7.1\",\"7.1\",\"7.1\",\"7.1\",\"7.1\"],\"z\":[2,2,1,1,2,1,1,1,1,1,1,1,1,1,1,1,1,2,2,1,2,2,1,2,1],\"type\":\"scatter3d\"},{\"hovertemplate\":\"IMDB Rating=%{y}\\u003cbr\\u003eYear=%{x}\\u003cbr\\u003eNumber of Movies=%{marker.size}\\u003cextra\\u003e\\u003c\\u002fextra\\u003e\",\"legendgroup\":\"7.3\",\"marker\":{\"color\":\"#B6E880\",\"opacity\":0.7,\"size\":[1,1,1,1,2,1,1,2,1,1,1,1,1,1,1,1,2,1,1,1,1,3,1,1],\"sizemode\":\"area\",\"sizeref\":0.01,\"symbol\":\"circle\"},\"mode\":\"markers\",\"name\":\"7.3\",\"scene\":\"scene\",\"showlegend\":true,\"x\":[\"1934\",\"1937\",\"1938\",\"1941\",\"1942\",\"1950\",\"1953\",\"1955\",\"1957\",\"1961\",\"1981\",\"1984\",\"1988\",\"1997\",\"1999\",\"2000\",\"2006\",\"2007\",\"2008\",\"2009\",\"2011\",\"2015\",\"2016\",\"2018\"],\"y\":[\"7.3\",\"7.3\",\"7.3\",\"7.3\",\"7.3\",\"7.3\",\"7.3\",\"7.3\",\"7.3\",\"7.3\",\"7.3\",\"7.3\",\"7.3\",\"7.3\",\"7.3\",\"7.3\",\"7.3\",\"7.3\",\"7.3\",\"7.3\",\"7.3\",\"7.3\",\"7.3\",\"7.3\"],\"z\":[1,1,1,1,2,1,1,2,1,1,1,1,1,1,1,1,2,1,1,1,1,3,1,1],\"type\":\"scatter3d\"},{\"hovertemplate\":\"IMDB Rating=%{y}\\u003cbr\\u003eYear=%{x}\\u003cbr\\u003eNumber of Movies=%{marker.size}\\u003cextra\\u003e\\u003c\\u002fextra\\u003e\",\"legendgroup\":\"7.2\",\"marker\":{\"color\":\"#FF97FF\",\"opacity\":0.7,\"size\":[1,1,1,1,1,1,2,1,1,1,1,1,1,1,1,1,1,2,2,1,1,1,1],\"sizemode\":\"area\",\"sizeref\":0.01,\"symbol\":\"circle\"},\"mode\":\"markers\",\"name\":\"7.2\",\"scene\":\"scene\",\"showlegend\":true,\"x\":[\"1935\",\"1937\",\"1938\",\"1940\",\"1944\",\"1952\",\"1954\",\"1957\",\"1959\",\"1960\",\"1961\",\"1963\",\"1981\",\"1998\",\"1999\",\"2001\",\"2002\",\"2006\",\"2010\",\"2011\",\"2012\",\"2016\",\"2019\"],\"y\":[\"7.2\",\"7.2\",\"7.2\",\"7.2\",\"7.2\",\"7.2\",\"7.2\",\"7.2\",\"7.2\",\"7.2\",\"7.2\",\"7.2\",\"7.2\",\"7.2\",\"7.2\",\"7.2\",\"7.2\",\"7.2\",\"7.2\",\"7.2\",\"7.2\",\"7.2\",\"7.2\"],\"z\":[1,1,1,1,1,1,2,1,1,1,1,1,1,1,1,1,1,2,2,1,1,1,1],\"type\":\"scatter3d\"},{\"hovertemplate\":\"IMDB Rating=%{y}\\u003cbr\\u003eYear=%{x}\\u003cbr\\u003eNumber of Movies=%{marker.size}\\u003cextra\\u003e\\u003c\\u002fextra\\u003e\",\"legendgroup\":\"7.9\",\"marker\":{\"color\":\"#FECB52\",\"opacity\":0.7,\"size\":[1,1,1,1,1,1,1,1,1,1,3],\"sizemode\":\"area\",\"sizeref\":0.01,\"symbol\":\"circle\"},\"mode\":\"markers\",\"name\":\"7.9\",\"scene\":\"scene\",\"showlegend\":true,\"x\":[\"1935\",\"1937\",\"1938\",\"1947\",\"1997\",\"1999\",\"2003\",\"2006\",\"2008\",\"2015\",\"2017\"],\"y\":[\"7.9\",\"7.9\",\"7.9\",\"7.9\",\"7.9\",\"7.9\",\"7.9\",\"7.9\",\"7.9\",\"7.9\",\"7.9\"],\"z\":[1,1,1,1,1,1,1,1,1,1,3],\"type\":\"scatter3d\"},{\"hovertemplate\":\"IMDB Rating=%{y}\\u003cbr\\u003eYear=%{x}\\u003cbr\\u003eNumber of Movies=%{marker.size}\\u003cextra\\u003e\\u003c\\u002fextra\\u003e\",\"legendgroup\":\"7.0\",\"marker\":{\"color\":\"#636efa\",\"opacity\":0.7,\"size\":[1,1,1,1,1,1,1,1,1,1,1,1,1,2,1,1,1,2,1],\"sizemode\":\"area\",\"sizeref\":0.01,\"symbol\":\"circle\"},\"mode\":\"markers\",\"name\":\"7.0\",\"scene\":\"scene\",\"showlegend\":true,\"x\":[\"1936\",\"1940\",\"1942\",\"1943\",\"1946\",\"1952\",\"1955\",\"1959\",\"1985\",\"1992\",\"1993\",\"1996\",\"1998\",\"2003\",\"2009\",\"2010\",\"2011\",\"2017\",\"2019\"],\"y\":[\"7.0\",\"7.0\",\"7.0\",\"7.0\",\"7.0\",\"7.0\",\"7.0\",\"7.0\",\"7.0\",\"7.0\",\"7.0\",\"7.0\",\"7.0\",\"7.0\",\"7.0\",\"7.0\",\"7.0\",\"7.0\",\"7.0\"],\"z\":[1,1,1,1,1,1,1,1,1,1,1,1,1,2,1,1,1,2,1],\"type\":\"scatter3d\"},{\"hovertemplate\":\"IMDB Rating=%{y}\\u003cbr\\u003eYear=%{x}\\u003cbr\\u003eNumber of Movies=%{marker.size}\\u003cextra\\u003e\\u003c\\u002fextra\\u003e\",\"legendgroup\":\"7.7\",\"marker\":{\"color\":\"#EF553B\",\"opacity\":0.7,\"size\":[1,1,2,1,1,1,1,1,1,1,1,2],\"sizemode\":\"area\",\"sizeref\":0.01,\"symbol\":\"circle\"},\"mode\":\"markers\",\"name\":\"7.7\",\"scene\":\"scene\",\"showlegend\":true,\"x\":[\"1937\",\"1951\",\"1952\",\"1954\",\"1988\",\"1992\",\"2005\",\"2008\",\"2012\",\"2014\",\"2018\",\"2019\"],\"y\":[\"7.7\",\"7.7\",\"7.7\",\"7.7\",\"7.7\",\"7.7\",\"7.7\",\"7.7\",\"7.7\",\"7.7\",\"7.7\",\"7.7\"],\"z\":[1,1,2,1,1,1,1,1,1,1,1,2],\"type\":\"scatter3d\"},{\"hovertemplate\":\"IMDB Rating=%{y}\\u003cbr\\u003eYear=%{x}\\u003cbr\\u003eNumber of Movies=%{marker.size}\\u003cextra\\u003e\\u003c\\u002fextra\\u003e\",\"legendgroup\":\"6.5\",\"marker\":{\"color\":\"#00cc96\",\"opacity\":0.7,\"size\":[1,1,1,1,1,2,1,1,1,1,2,1,2,1,1,1,1,2,1,1,2],\"sizemode\":\"area\",\"sizeref\":0.01,\"symbol\":\"circle\"},\"mode\":\"markers\",\"name\":\"6.5\",\"scene\":\"scene\",\"showlegend\":true,\"x\":[\"1940\",\"1944\",\"1952\",\"1959\",\"1968\",\"1972\",\"1975\",\"1986\",\"1988\",\"1994\",\"1998\",\"1999\",\"2000\",\"2002\",\"2003\",\"2004\",\"2007\",\"2008\",\"2012\",\"2013\",\"2017\"],\"y\":[\"6.5\",\"6.5\",\"6.5\",\"6.5\",\"6.5\",\"6.5\",\"6.5\",\"6.5\",\"6.5\",\"6.5\",\"6.5\",\"6.5\",\"6.5\",\"6.5\",\"6.5\",\"6.5\",\"6.5\",\"6.5\",\"6.5\",\"6.5\",\"6.5\"],\"z\":[1,1,1,1,1,2,1,1,1,1,2,1,2,1,1,1,1,2,1,1,2],\"type\":\"scatter3d\"},{\"hovertemplate\":\"IMDB Rating=%{y}\\u003cbr\\u003eYear=%{x}\\u003cbr\\u003eNumber of Movies=%{marker.size}\\u003cextra\\u003e\\u003c\\u002fextra\\u003e\",\"legendgroup\":\"7.8\",\"marker\":{\"color\":\"#ab63fa\",\"opacity\":0.7,\"size\":[1,1,1,1,1,1,1,1,2,1,1,1],\"sizemode\":\"area\",\"sizeref\":0.01,\"symbol\":\"circle\"},\"mode\":\"markers\",\"name\":\"7.8\",\"scene\":\"scene\",\"showlegend\":true,\"x\":[\"1940\",\"1956\",\"1964\",\"1978\",\"1995\",\"2000\",\"2009\",\"2014\",\"2016\",\"2017\",\"2018\",\"2019\"],\"y\":[\"7.8\",\"7.8\",\"7.8\",\"7.8\",\"7.8\",\"7.8\",\"7.8\",\"7.8\",\"7.8\",\"7.8\",\"7.8\",\"7.8\"],\"z\":[1,1,1,1,1,1,1,1,2,1,1,1],\"type\":\"scatter3d\"},{\"hovertemplate\":\"IMDB Rating=%{y}\\u003cbr\\u003eYear=%{x}\\u003cbr\\u003eNumber of Movies=%{marker.size}\\u003cextra\\u003e\\u003c\\u002fextra\\u003e\",\"legendgroup\":\"English\",\"marker\":{\"color\":\"#FFA15A\",\"opacity\":0.7,\"size\":[1],\"sizemode\":\"area\",\"sizeref\":0.01,\"symbol\":\"circle\"},\"mode\":\"markers\",\"name\":\"English\",\"scene\":\"scene\",\"showlegend\":true,\"x\":[\"1941\"],\"y\":[\"English\"],\"z\":[1],\"type\":\"scatter3d\"},{\"hovertemplate\":\"IMDB Rating=%{y}\\u003cbr\\u003eYear=%{x}\\u003cbr\\u003eNumber of Movies=%{marker.size}\\u003cextra\\u003e\\u003c\\u002fextra\\u003e\",\"legendgroup\":\"6.2\",\"marker\":{\"color\":\"#19d3f3\",\"opacity\":0.7,\"size\":[1,1,1,1,1,1,1,1,1,2,2,2,2,2,1,1,1,1,1,1],\"sizemode\":\"area\",\"sizeref\":0.01,\"symbol\":\"circle\"},\"mode\":\"markers\",\"name\":\"6.2\",\"scene\":\"scene\",\"showlegend\":true,\"x\":[\"1942\",\"1962\",\"1964\",\"1971\",\"1974\",\"1984\",\"1989\",\"1993\",\"1999\",\"2000\",\"2001\",\"2003\",\"2004\",\"2006\",\"2009\",\"2010\",\"2012\",\"2017\",\"2019\",\"2020\"],\"y\":[\"6.2\",\"6.2\",\"6.2\",\"6.2\",\"6.2\",\"6.2\",\"6.2\",\"6.2\",\"6.2\",\"6.2\",\"6.2\",\"6.2\",\"6.2\",\"6.2\",\"6.2\",\"6.2\",\"6.2\",\"6.2\",\"6.2\",\"6.2\"],\"z\":[1,1,1,1,1,1,1,1,1,2,2,2,2,2,1,1,1,1,1,1],\"type\":\"scatter3d\"},{\"hovertemplate\":\"IMDB Rating=%{y}\\u003cbr\\u003eYear=%{x}\\u003cbr\\u003eNumber of Movies=%{marker.size}\\u003cextra\\u003e\\u003c\\u002fextra\\u003e\",\"legendgroup\":\"6.6\",\"marker\":{\"color\":\"#FF6692\",\"opacity\":0.7,\"size\":[1,1,1,1,1,1,1,1,2,1,1,1,1,1,2,1,1],\"sizemode\":\"area\",\"sizeref\":0.01,\"symbol\":\"circle\"},\"mode\":\"markers\",\"name\":\"6.6\",\"scene\":\"scene\",\"showlegend\":true,\"x\":[\"1942\",\"1948\",\"1967\",\"1980\",\"1981\",\"1985\",\"1994\",\"1995\",\"2001\",\"2002\",\"2004\",\"2006\",\"2009\",\"2011\",\"2012\",\"2014\",\"2017\"],\"y\":[\"6.6\",\"6.6\",\"6.6\",\"6.6\",\"6.6\",\"6.6\",\"6.6\",\"6.6\",\"6.6\",\"6.6\",\"6.6\",\"6.6\",\"6.6\",\"6.6\",\"6.6\",\"6.6\",\"6.6\"],\"z\":[1,1,1,1,1,1,1,1,2,1,1,1,1,1,2,1,1],\"type\":\"scatter3d\"},{\"hovertemplate\":\"IMDB Rating=%{y}\\u003cbr\\u003eYear=%{x}\\u003cbr\\u003eNumber of Movies=%{marker.size}\\u003cextra\\u003e\\u003c\\u002fextra\\u003e\",\"legendgroup\":\"6.4\",\"marker\":{\"color\":\"#B6E880\",\"opacity\":0.7,\"size\":[1,1,1,1,1,1,1,1,1,1,1,1,2,1,1,2,1,1,1,1,1],\"sizemode\":\"area\",\"sizeref\":0.01,\"symbol\":\"circle\"},\"mode\":\"markers\",\"name\":\"6.4\",\"scene\":\"scene\",\"showlegend\":true,\"x\":[\"1948\",\"1975\",\"1977\",\"1985\",\"1987\",\"1988\",\"1992\",\"1993\",\"1996\",\"1999\",\"2000\",\"2004\",\"2005\",\"2009\",\"2010\",\"2011\",\"2012\",\"2014\",\"2015\",\"2016\",\"2018\"],\"y\":[\"6.4\",\"6.4\",\"6.4\",\"6.4\",\"6.4\",\"6.4\",\"6.4\",\"6.4\",\"6.4\",\"6.4\",\"6.4\",\"6.4\",\"6.4\",\"6.4\",\"6.4\",\"6.4\",\"6.4\",\"6.4\",\"6.4\",\"6.4\",\"6.4\"],\"z\":[1,1,1,1,1,1,1,1,1,1,1,1,2,1,1,2,1,1,1,1,1],\"type\":\"scatter3d\"},{\"hovertemplate\":\"IMDB Rating=%{y}\\u003cbr\\u003eYear=%{x}\\u003cbr\\u003eNumber of Movies=%{marker.size}\\u003cextra\\u003e\\u003c\\u002fextra\\u003e\",\"legendgroup\":\" Homer Brightman (story)\",\"marker\":{\"color\":\"#FF97FF\",\"opacity\":0.7,\"size\":[1],\"sizemode\":\"area\",\"sizeref\":0.01,\"symbol\":\"circle\"},\"mode\":\"markers\",\"name\":\" Homer Brightman (story)\",\"scene\":\"scene\",\"showlegend\":true,\"x\":[\"1949\"],\"y\":[\" Homer Brightman (story)\"],\"z\":[1],\"type\":\"scatter3d\"},{\"hovertemplate\":\"IMDB Rating=%{y}\\u003cbr\\u003eYear=%{x}\\u003cbr\\u003eNumber of Movies=%{marker.size}\\u003cextra\\u003e\\u003c\\u002fextra\\u003e\",\"legendgroup\":\"8.1\",\"marker\":{\"color\":\"#FECB52\",\"opacity\":0.7,\"size\":[1,1,1,1,1,1,1],\"sizemode\":\"area\",\"sizeref\":0.01,\"symbol\":\"circle\"},\"mode\":\"markers\",\"name\":\"8.1\",\"scene\":\"scene\",\"showlegend\":true,\"x\":[\"1953\",\"1987\",\"2003\",\"2010\",\"2016\",\"2019\",\"2020\"],\"y\":[\"8.1\",\"8.1\",\"8.1\",\"8.1\",\"8.1\",\"8.1\",\"8.1\"],\"z\":[1,1,1,1,1,1,1],\"type\":\"scatter3d\"},{\"hovertemplate\":\"IMDB Rating=%{y}\\u003cbr\\u003eYear=%{x}\\u003cbr\\u003eNumber of Movies=%{marker.size}\\u003cextra\\u003e\\u003c\\u002fextra\\u003e\",\"legendgroup\":\" Milt Banta (additional story)\\\"\",\"marker\":{\"color\":\"#636efa\",\"opacity\":0.7,\"size\":[1],\"sizemode\":\"area\",\"sizeref\":0.01,\"symbol\":\"circle\"},\"mode\":\"markers\",\"name\":\" Milt Banta (additional story)\\\"\",\"scene\":\"scene\",\"showlegend\":true,\"x\":[\"1959\"],\"y\":[\" Milt Banta (additional story)\\\"\"],\"z\":[1],\"type\":\"scatter3d\"},{\"hovertemplate\":\"IMDB Rating=%{y}\\u003cbr\\u003eYear=%{x}\\u003cbr\\u003eNumber of Movies=%{marker.size}\\u003cextra\\u003e\\u003c\\u002fextra\\u003e\",\"legendgroup\":\"6.3\",\"marker\":{\"color\":\"#EF553B\",\"opacity\":0.7,\"size\":[1,2,1,1,1,1,3,1,1,1,3,1,1,1,1,2],\"sizemode\":\"area\",\"sizeref\":0.01,\"symbol\":\"circle\"},\"mode\":\"markers\",\"name\":\"6.3\",\"scene\":\"scene\",\"showlegend\":true,\"x\":[\"1961\",\"1976\",\"1987\",\"1989\",\"1994\",\"1997\",\"1999\",\"2000\",\"2001\",\"2003\",\"2005\",\"2008\",\"2009\",\"2011\",\"2018\",\"2019\"],\"y\":[\"6.3\",\"6.3\",\"6.3\",\"6.3\",\"6.3\",\"6.3\",\"6.3\",\"6.3\",\"6.3\",\"6.3\",\"6.3\",\"6.3\",\"6.3\",\"6.3\",\"6.3\",\"6.3\"],\"z\":[1,2,1,1,1,1,3,1,1,1,3,1,1,1,1,2],\"type\":\"scatter3d\"},{\"hovertemplate\":\"IMDB Rating=%{y}\\u003cbr\\u003eYear=%{x}\\u003cbr\\u003eNumber of Movies=%{marker.size}\\u003cextra\\u003e\\u003c\\u002fextra\\u003e\",\"legendgroup\":\"8.0\",\"marker\":{\"color\":\"#00cc96\",\"opacity\":0.7,\"size\":[1,1,1,1,1,1,1,1,1,1,1,1,1,1],\"sizemode\":\"area\",\"sizeref\":0.01,\"symbol\":\"circle\"},\"mode\":\"markers\",\"name\":\"8.0\",\"scene\":\"scene\",\"showlegend\":true,\"x\":[\"1965\",\"1991\",\"1992\",\"1993\",\"1999\",\"2000\",\"2001\",\"2004\",\"2007\",\"2011\",\"2012\",\"2014\",\"2016\",\"2019\"],\"y\":[\"8.0\",\"8.0\",\"8.0\",\"8.0\",\"8.0\",\"8.0\",\"8.0\",\"8.0\",\"8.0\",\"8.0\",\"8.0\",\"8.0\",\"8.0\",\"8.0\"],\"z\":[1,1,1,1,1,1,1,1,1,1,1,1,1,1],\"type\":\"scatter3d\"},{\"hovertemplate\":\"IMDB Rating=%{y}\\u003cbr\\u003eYear=%{x}\\u003cbr\\u003eNumber of Movies=%{marker.size}\\u003cextra\\u003e\\u003c\\u002fextra\\u003e\",\"legendgroup\":\"6.0\",\"marker\":{\"color\":\"#ab63fa\",\"opacity\":0.7,\"size\":[1,1,1,1,2,1,1,1,1,1,1,1,1,1],\"sizemode\":\"area\",\"sizeref\":0.01,\"symbol\":\"circle\"},\"mode\":\"markers\",\"name\":\"6.0\",\"scene\":\"scene\",\"showlegend\":true,\"x\":[\"1969\",\"1979\",\"1993\",\"1999\",\"2000\",\"2003\",\"2004\",\"2005\",\"2007\",\"2008\",\"2010\",\"2014\",\"2015\",\"2016\"],\"y\":[\"6.0\",\"6.0\",\"6.0\",\"6.0\",\"6.0\",\"6.0\",\"6.0\",\"6.0\",\"6.0\",\"6.0\",\"6.0\",\"6.0\",\"6.0\",\"6.0\"],\"z\":[1,1,1,1,2,1,1,1,1,1,1,1,1,1],\"type\":\"scatter3d\"},{\"hovertemplate\":\"IMDB Rating=%{y}\\u003cbr\\u003eYear=%{x}\\u003cbr\\u003eNumber of Movies=%{marker.size}\\u003cextra\\u003e\\u003c\\u002fextra\\u003e\",\"legendgroup\":\"5.9\",\"marker\":{\"color\":\"#FFA15A\",\"opacity\":0.7,\"size\":[1,1,2,1,1,1,1,2,2,1,1,1,1,1,1,1,1],\"sizemode\":\"area\",\"sizeref\":0.01,\"symbol\":\"circle\"},\"mode\":\"markers\",\"name\":\"5.9\",\"scene\":\"scene\",\"showlegend\":true,\"x\":[\"1971\",\"1974\",\"1976\",\"1978\",\"1994\",\"1995\",\"1996\",\"2000\",\"2001\",\"2003\",\"2004\",\"2007\",\"2008\",\"2012\",\"2013\",\"2016\",\"2018\"],\"y\":[\"5.9\",\"5.9\",\"5.9\",\"5.9\",\"5.9\",\"5.9\",\"5.9\",\"5.9\",\"5.9\",\"5.9\",\"5.9\",\"5.9\",\"5.9\",\"5.9\",\"5.9\",\"5.9\",\"5.9\"],\"z\":[1,1,2,1,1,1,1,2,2,1,1,1,1,1,1,1,1],\"type\":\"scatter3d\"},{\"hovertemplate\":\"IMDB Rating=%{y}\\u003cbr\\u003eYear=%{x}\\u003cbr\\u003eNumber of Movies=%{marker.size}\\u003cextra\\u003e\\u003c\\u002fextra\\u003e\",\"legendgroup\":\"5.7\",\"marker\":{\"color\":\"#19d3f3\",\"opacity\":0.7,\"size\":[1,1,1,1,1,1,1,2,3,1,1],\"sizemode\":\"area\",\"sizeref\":0.01,\"symbol\":\"circle\"},\"mode\":\"markers\",\"name\":\"5.7\",\"scene\":\"scene\",\"showlegend\":true,\"x\":[\"1972\",\"1974\",\"1977\",\"1996\",\"1998\",\"2000\",\"2003\",\"2004\",\"2005\",\"2010\",\"2015\"],\"y\":[\"5.7\",\"5.7\",\"5.7\",\"5.7\",\"5.7\",\"5.7\",\"5.7\",\"5.7\",\"5.7\",\"5.7\",\"5.7\"],\"z\":[1,1,1,1,1,1,1,2,3,1,1],\"type\":\"scatter3d\"},{\"hovertemplate\":\"IMDB Rating=%{y}\\u003cbr\\u003eYear=%{x}\\u003cbr\\u003eNumber of Movies=%{marker.size}\\u003cextra\\u003e\\u003c\\u002fextra\\u003e\",\"legendgroup\":\"6.1\",\"marker\":{\"color\":\"#FF6692\",\"opacity\":0.7,\"size\":[1,1,1,1,1,1,2,2,3,1,1,1,1,2,1,1,1],\"sizemode\":\"area\",\"sizeref\":0.01,\"symbol\":\"circle\"},\"mode\":\"markers\",\"name\":\"6.1\",\"scene\":\"scene\",\"showlegend\":true,\"x\":[\"1975\",\"1978\",\"1979\",\"1989\",\"1994\",\"1997\",\"2000\",\"2002\",\"2003\",\"2006\",\"2007\",\"2010\",\"2011\",\"2015\",\"2016\",\"2018\",\"2020\"],\"y\":[\"6.1\",\"6.1\",\"6.1\",\"6.1\",\"6.1\",\"6.1\",\"6.1\",\"6.1\",\"6.1\",\"6.1\",\"6.1\",\"6.1\",\"6.1\",\"6.1\",\"6.1\",\"6.1\",\"6.1\"],\"z\":[1,1,1,1,1,1,2,2,3,1,1,1,1,2,1,1,1],\"type\":\"scatter3d\"},{\"hovertemplate\":\"IMDB Rating=%{y}\\u003cbr\\u003eYear=%{x}\\u003cbr\\u003eNumber of Movies=%{marker.size}\\u003cextra\\u003e\\u003c\\u002fextra\\u003e\",\"legendgroup\":\" Ted Berman (story)\",\"marker\":{\"color\":\"#B6E880\",\"opacity\":0.7,\"size\":[1],\"sizemode\":\"area\",\"sizeref\":0.01,\"symbol\":\"circle\"},\"mode\":\"markers\",\"name\":\" Ted Berman (story)\",\"scene\":\"scene\",\"showlegend\":true,\"x\":[\"1977\"],\"y\":[\" Ted Berman (story)\"],\"z\":[1],\"type\":\"scatter3d\"},{\"hovertemplate\":\"IMDB Rating=%{y}\\u003cbr\\u003eYear=%{x}\\u003cbr\\u003eNumber of Movies=%{marker.size}\\u003cextra\\u003e\\u003c\\u002fextra\\u003e\",\"legendgroup\":\"8.6\",\"marker\":{\"color\":\"#FF97FF\",\"opacity\":0.7,\"size\":[1],\"sizemode\":\"area\",\"sizeref\":0.01,\"symbol\":\"circle\"},\"mode\":\"markers\",\"name\":\"8.6\",\"scene\":\"scene\",\"showlegend\":true,\"x\":[\"1977\"],\"y\":[\"8.6\"],\"z\":[1],\"type\":\"scatter3d\"},{\"hovertemplate\":\"IMDB Rating=%{y}\\u003cbr\\u003eYear=%{x}\\u003cbr\\u003eNumber of Movies=%{marker.size}\\u003cextra\\u003e\\u003c\\u002fextra\\u003e\",\"legendgroup\":\"5.3\",\"marker\":{\"color\":\"#FECB52\",\"opacity\":0.7,\"size\":[1,1,1,1,2,2,1],\"sizemode\":\"area\",\"sizeref\":0.01,\"symbol\":\"circle\"},\"mode\":\"markers\",\"name\":\"5.3\",\"scene\":\"scene\",\"showlegend\":true,\"x\":[\"1979\",\"1994\",\"2000\",\"2004\",\"2006\",\"2007\",\"2011\"],\"y\":[\"5.3\",\"5.3\",\"5.3\",\"5.3\",\"5.3\",\"5.3\",\"5.3\"],\"z\":[1,1,1,1,2,2,1],\"type\":\"scatter3d\"},{\"hovertemplate\":\"IMDB Rating=%{y}\\u003cbr\\u003eYear=%{x}\\u003cbr\\u003eNumber of Movies=%{marker.size}\\u003cextra\\u003e\\u003c\\u002fextra\\u003e\",\"legendgroup\":\"5.0\",\"marker\":{\"color\":\"#636efa\",\"opacity\":0.7,\"size\":[1,1,2,1,1,1,1,1,1,1,1],\"sizemode\":\"area\",\"sizeref\":0.01,\"symbol\":\"circle\"},\"mode\":\"markers\",\"name\":\"5.0\",\"scene\":\"scene\",\"showlegend\":true,\"x\":[\"1980\",\"1997\",\"1999\",\"2000\",\"2001\",\"2003\",\"2006\",\"2007\",\"2009\",\"2012\",\"2019\"],\"y\":[\"5.0\",\"5.0\",\"5.0\",\"5.0\",\"5.0\",\"5.0\",\"5.0\",\"5.0\",\"5.0\",\"5.0\",\"5.0\"],\"z\":[1,1,2,1,1,1,1,1,1,1,1],\"type\":\"scatter3d\"},{\"hovertemplate\":\"IMDB Rating=%{y}\\u003cbr\\u003eYear=%{x}\\u003cbr\\u003eNumber of Movies=%{marker.size}\\u003cextra\\u003e\\u003c\\u002fextra\\u003e\",\"legendgroup\":\"8.7\",\"marker\":{\"color\":\"#EF553B\",\"opacity\":0.7,\"size\":[1],\"sizemode\":\"area\",\"sizeref\":0.01,\"symbol\":\"circle\"},\"mode\":\"markers\",\"name\":\"8.7\",\"scene\":\"scene\",\"showlegend\":true,\"x\":[\"1980\"],\"y\":[\"8.7\"],\"z\":[1],\"type\":\"scatter3d\"},{\"hovertemplate\":\"IMDB Rating=%{y}\\u003cbr\\u003eYear=%{x}\\u003cbr\\u003eNumber of Movies=%{marker.size}\\u003cextra\\u003e\\u003c\\u002fextra\\u003e\",\"legendgroup\":\" Alan Dinehart (story adaptation)\\\"\",\"marker\":{\"color\":\"#00cc96\",\"opacity\":0.7,\"size\":[1],\"sizemode\":\"area\",\"sizeref\":0.01,\"symbol\":\"circle\"},\"mode\":\"markers\",\"name\":\" Alan Dinehart (story adaptation)\\\"\",\"scene\":\"scene\",\"showlegend\":true,\"x\":[\"1983\"],\"y\":[\" Alan Dinehart (story adaptation)\\\"\"],\"z\":[1],\"type\":\"scatter3d\"},{\"hovertemplate\":\"IMDB Rating=%{y}\\u003cbr\\u003eYear=%{x}\\u003cbr\\u003eNumber of Movies=%{marker.size}\\u003cextra\\u003e\\u003c\\u002fextra\\u003e\",\"legendgroup\":\"8.3\",\"marker\":{\"color\":\"#ab63fa\",\"opacity\":0.7,\"size\":[1,1,1,1,1],\"sizemode\":\"area\",\"sizeref\":0.01,\"symbol\":\"circle\"},\"mode\":\"markers\",\"name\":\"8.3\",\"scene\":\"scene\",\"showlegend\":true,\"x\":[\"1983\",\"1995\",\"2004\",\"2010\",\"2016\"],\"y\":[\"8.3\",\"8.3\",\"8.3\",\"8.3\",\"8.3\"],\"z\":[1,1,1,1,1],\"type\":\"scatter3d\"},{\"hovertemplate\":\"IMDB Rating=%{y}\\u003cbr\\u003eYear=%{x}\\u003cbr\\u003eNumber of Movies=%{marker.size}\\u003cextra\\u003e\\u003c\\u002fextra\\u003e\",\"legendgroup\":\"73\",\"marker\":{\"color\":\"#FFA15A\",\"opacity\":0.7,\"size\":[1],\"sizemode\":\"area\",\"sizeref\":0.01,\"symbol\":\"circle\"},\"mode\":\"markers\",\"name\":\"73\",\"scene\":\"scene\",\"showlegend\":true,\"x\":[\"1986\"],\"y\":[\"73\"],\"z\":[1],\"type\":\"scatter3d\"},{\"hovertemplate\":\"IMDB Rating=%{y}\\u003cbr\\u003eYear=%{x}\\u003cbr\\u003eNumber of Movies=%{marker.size}\\u003cextra\\u003e\\u003c\\u002fextra\\u003e\",\"legendgroup\":\"2 wins & 1 nomination.\",\"marker\":{\"color\":\"#19d3f3\",\"opacity\":0.7,\"size\":[1],\"sizemode\":\"area\",\"sizeref\":0.01,\"symbol\":\"circle\"},\"mode\":\"markers\",\"name\":\"2 wins & 1 nomination.\",\"scene\":\"scene\",\"showlegend\":true,\"x\":[\"1987\"],\"y\":[\"2 wins & 1 nomination.\"],\"z\":[1],\"type\":\"scatter3d\"},{\"hovertemplate\":\"IMDB Rating=%{y}\\u003cbr\\u003eYear=%{x}\\u003cbr\\u003eNumber of Movies=%{marker.size}\\u003cextra\\u003e\\u003c\\u002fextra\\u003e\",\"legendgroup\":\"Joey Lawrence, Billy Joel, Cheech Marin, Richard Mulligan\",\"marker\":{\"color\":\"#FF6692\",\"opacity\":0.7,\"size\":[1],\"sizemode\":\"area\",\"sizeref\":0.01,\"symbol\":\"circle\"},\"mode\":\"markers\",\"name\":\"Joey Lawrence, Billy Joel, Cheech Marin, Richard Mulligan\",\"scene\":\"scene\",\"showlegend\":true,\"x\":[\"1988\"],\"y\":[\"Joey Lawrence, Billy Joel, Cheech Marin, Richard Mulligan\"],\"z\":[1],\"type\":\"scatter3d\"},{\"hovertemplate\":\"IMDB Rating=%{y}\\u003cbr\\u003eYear=%{x}\\u003cbr\\u003eNumber of Movies=%{marker.size}\\u003cextra\\u003e\\u003c\\u002fextra\\u003e\",\"legendgroup\":\"USA\",\"marker\":{\"color\":\"#B6E880\",\"opacity\":0.7,\"size\":[1,1],\"sizemode\":\"area\",\"sizeref\":0.01,\"symbol\":\"circle\"},\"mode\":\"markers\",\"name\":\"USA\",\"scene\":\"scene\",\"showlegend\":true,\"x\":[\"1990\",\"2013\"],\"y\":[\"USA\",\"USA\"],\"z\":[1,1],\"type\":\"scatter3d\"},{\"hovertemplate\":\"IMDB Rating=%{y}\\u003cbr\\u003eYear=%{x}\\u003cbr\\u003eNumber of Movies=%{marker.size}\\u003cextra\\u003e\\u003c\\u002fextra\\u003e\",\"legendgroup\":\"Billy Campbell, Jennifer Connelly, Alan Arkin, Timothy Dalton\",\"marker\":{\"color\":\"#FF97FF\",\"opacity\":0.7,\"size\":[1],\"sizemode\":\"area\",\"sizeref\":0.01,\"symbol\":\"circle\"},\"mode\":\"markers\",\"name\":\"Billy Campbell, Jennifer Connelly, Alan Arkin, Timothy Dalton\",\"scene\":\"scene\",\"showlegend\":true,\"x\":[\"1991\"],\"y\":[\"Billy Campbell, Jennifer Connelly, Alan Arkin, Timothy Dalton\"],\"z\":[1],\"type\":\"scatter3d\"},{\"hovertemplate\":\"IMDB Rating=%{y}\\u003cbr\\u003eYear=%{x}\\u003cbr\\u003eNumber of Movies=%{marker.size}\\u003cextra\\u003e\\u003c\\u002fextra\\u003e\",\"legendgroup\":\"4.8\",\"marker\":{\"color\":\"#FECB52\",\"opacity\":0.7,\"size\":[1,1,1,1,1,1],\"sizemode\":\"area\",\"sizeref\":0.01,\"symbol\":\"circle\"},\"mode\":\"markers\",\"name\":\"4.8\",\"scene\":\"scene\",\"showlegend\":true,\"x\":[\"1992\",\"2003\",\"2004\",\"2005\",\"2008\",\"2018\"],\"y\":[\"4.8\",\"4.8\",\"4.8\",\"4.8\",\"4.8\",\"4.8\"],\"z\":[1,1,1,1,1,1],\"type\":\"scatter3d\"},{\"hovertemplate\":\"IMDB Rating=%{y}\\u003cbr\\u003eYear=%{x}\\u003cbr\\u003eNumber of Movies=%{marker.size}\\u003cextra\\u003e\\u003c\\u002fextra\\u003e\",\"legendgroup\":\"5.6\",\"marker\":{\"color\":\"#636efa\",\"opacity\":0.7,\"size\":[2,1,2,1,1,1,1,1,1],\"sizemode\":\"area\",\"sizeref\":0.01,\"symbol\":\"circle\"},\"mode\":\"markers\",\"name\":\"5.6\",\"scene\":\"scene\",\"showlegend\":true,\"x\":[\"1993\",\"1998\",\"2000\",\"2002\",\"2003\",\"2004\",\"2006\",\"2009\",\"2017\"],\"y\":[\"5.6\",\"5.6\",\"5.6\",\"5.6\",\"5.6\",\"5.6\",\"5.6\",\"5.6\",\"5.6\"],\"z\":[2,1,2,1,1,1,1,1,1],\"type\":\"scatter3d\"},{\"hovertemplate\":\"IMDB Rating=%{y}\\u003cbr\\u003eYear=%{x}\\u003cbr\\u003eNumber of Movies=%{marker.size}\\u003cextra\\u003e\\u003c\\u002fextra\\u003e\",\"legendgroup\":\"8.5\",\"marker\":{\"color\":\"#EF553B\",\"opacity\":0.7,\"size\":[1,1],\"sizemode\":\"area\",\"sizeref\":0.01,\"symbol\":\"circle\"},\"mode\":\"markers\",\"name\":\"8.5\",\"scene\":\"scene\",\"showlegend\":true,\"x\":[\"1994\",\"2017\"],\"y\":[\"8.5\",\"8.5\"],\"z\":[1,1],\"type\":\"scatter3d\"},{\"hovertemplate\":\"IMDB Rating=%{y}\\u003cbr\\u003eYear=%{x}\\u003cbr\\u003eNumber of Movies=%{marker.size}\\u003cextra\\u003e\\u003c\\u002fextra\\u003e\",\"legendgroup\":\"4.7\",\"marker\":{\"color\":\"#00cc96\",\"opacity\":0.7,\"size\":[1,1,1,2,1,1,1,1,1,1],\"sizemode\":\"area\",\"sizeref\":0.01,\"symbol\":\"circle\"},\"mode\":\"markers\",\"name\":\"4.7\",\"scene\":\"scene\",\"showlegend\":true,\"x\":[\"1995\",\"1997\",\"1998\",\"2001\",\"2002\",\"2006\",\"2008\",\"2011\",\"2013\",\"2020\"],\"y\":[\"4.7\",\"4.7\",\"4.7\",\"4.7\",\"4.7\",\"4.7\",\"4.7\",\"4.7\",\"4.7\",\"4.7\"],\"z\":[1,1,1,2,1,1,1,1,1,1],\"type\":\"scatter3d\"},{\"hovertemplate\":\"IMDB Rating=%{y}\\u003cbr\\u003eYear=%{x}\\u003cbr\\u003eNumber of Movies=%{marker.size}\\u003cextra\\u003e\\u003c\\u002fextra\\u003e\",\"legendgroup\":\"5.1\",\"marker\":{\"color\":\"#ab63fa\",\"opacity\":0.7,\"size\":[1,1,1,1,1,1,1,1],\"sizemode\":\"area\",\"sizeref\":0.01,\"symbol\":\"circle\"},\"mode\":\"markers\",\"name\":\"5.1\",\"scene\":\"scene\",\"showlegend\":true,\"x\":[\"1995\",\"1999\",\"2001\",\"2002\",\"2003\",\"2009\",\"2017\",\"2018\"],\"y\":[\"5.1\",\"5.1\",\"5.1\",\"5.1\",\"5.1\",\"5.1\",\"5.1\",\"5.1\"],\"z\":[1,1,1,1,1,1,1,1],\"type\":\"scatter3d\"},{\"hovertemplate\":\"IMDB Rating=%{y}\\u003cbr\\u003eYear=%{x}\\u003cbr\\u003eNumber of Movies=%{marker.size}\\u003cextra\\u003e\\u003c\\u002fextra\\u003e\",\"legendgroup\":\"5.5\",\"marker\":{\"color\":\"#FFA15A\",\"opacity\":0.7,\"size\":[1,1,1,1,1,1,1,1,1,1,1,1,2],\"sizemode\":\"area\",\"sizeref\":0.01,\"symbol\":\"circle\"},\"mode\":\"markers\",\"name\":\"5.5\",\"scene\":\"scene\",\"showlegend\":true,\"x\":[\"1995\",\"1998\",\"2001\",\"2002\",\"2003\",\"2005\",\"2006\",\"2007\",\"2011\",\"2012\",\"2014\",\"2017\",\"2019\"],\"y\":[\"5.5\",\"5.5\",\"5.5\",\"5.5\",\"5.5\",\"5.5\",\"5.5\",\"5.5\",\"5.5\",\"5.5\",\"5.5\",\"5.5\",\"5.5\"],\"z\":[1,1,1,1,1,1,1,1,1,1,1,1,2],\"type\":\"scatter3d\"},{\"hovertemplate\":\"IMDB Rating=%{y}\\u003cbr\\u003eYear=%{x}\\u003cbr\\u003eNumber of Movies=%{marker.size}\\u003cextra\\u003e\\u003c\\u002fextra\\u003e\",\"legendgroup\":\" Kevin Harkey (story)\",\"marker\":{\"color\":\"#19d3f3\",\"opacity\":0.7,\"size\":[1],\"sizemode\":\"area\",\"sizeref\":0.01,\"symbol\":\"circle\"},\"mode\":\"markers\",\"name\":\" Kevin Harkey (story)\",\"scene\":\"scene\",\"showlegend\":true,\"x\":[\"1996\"],\"y\":[\" Kevin Harkey (story)\"],\"z\":[1],\"type\":\"scatter3d\"},{\"hovertemplate\":\"IMDB Rating=%{y}\\u003cbr\\u003eYear=%{x}\\u003cbr\\u003eNumber of Movies=%{marker.size}\\u003cextra\\u003e\\u003c\\u002fextra\\u003e\",\"legendgroup\":\"3.0\",\"marker\":{\"color\":\"#FF6692\",\"opacity\":0.7,\"size\":[1],\"sizemode\":\"area\",\"sizeref\":0.01,\"symbol\":\"circle\"},\"mode\":\"markers\",\"name\":\"3.0\",\"scene\":\"scene\",\"showlegend\":true,\"x\":[\"1996\"],\"y\":[\"3.0\"],\"z\":[1],\"type\":\"scatter3d\"},{\"hovertemplate\":\"IMDB Rating=%{y}\\u003cbr\\u003eYear=%{x}\\u003cbr\\u003eNumber of Movies=%{marker.size}\\u003cextra\\u003e\\u003c\\u002fextra\\u003e\",\"legendgroup\":\"5.2\",\"marker\":{\"color\":\"#B6E880\",\"opacity\":0.7,\"size\":[1,1,1,1,1],\"sizemode\":\"area\",\"sizeref\":0.01,\"symbol\":\"circle\"},\"mode\":\"markers\",\"name\":\"5.2\",\"scene\":\"scene\",\"showlegend\":true,\"x\":[\"1996\",\"1997\",\"2002\",\"2006\",\"2008\"],\"y\":[\"5.2\",\"5.2\",\"5.2\",\"5.2\",\"5.2\"],\"z\":[1,1,1,1,1],\"type\":\"scatter3d\"},{\"hovertemplate\":\"IMDB Rating=%{y}\\u003cbr\\u003eYear=%{x}\\u003cbr\\u003eNumber of Movies=%{marker.size}\\u003cextra\\u003e\\u003c\\u002fextra\\u003e\",\"legendgroup\":\"5.8\",\"marker\":{\"color\":\"#FF97FF\",\"opacity\":0.7,\"size\":[1,3,2,2,1,1],\"sizemode\":\"area\",\"sizeref\":0.01,\"symbol\":\"circle\"},\"mode\":\"markers\",\"name\":\"5.8\",\"scene\":\"scene\",\"showlegend\":true,\"x\":[\"1996\",\"2002\",\"2004\",\"2005\",\"2007\",\"2008\"],\"y\":[\"5.8\",\"5.8\",\"5.8\",\"5.8\",\"5.8\",\"5.8\"],\"z\":[1,3,2,2,1,1],\"type\":\"scatter3d\"},{\"hovertemplate\":\"IMDB Rating=%{y}\\u003cbr\\u003eYear=%{x}\\u003cbr\\u003eNumber of Movies=%{marker.size}\\u003cextra\\u003e\\u003c\\u002fextra\\u003e\",\"legendgroup\":\"4.5\",\"marker\":{\"color\":\"#FECB52\",\"opacity\":0.7,\"size\":[1],\"sizemode\":\"area\",\"sizeref\":0.01,\"symbol\":\"circle\"},\"mode\":\"markers\",\"name\":\"4.5\",\"scene\":\"scene\",\"showlegend\":true,\"x\":[\"1997\"],\"y\":[\"4.5\"],\"z\":[1],\"type\":\"scatter3d\"},{\"hovertemplate\":\"IMDB Rating=%{y}\\u003cbr\\u003eYear=%{x}\\u003cbr\\u003eNumber of Movies=%{marker.size}\\u003cextra\\u003e\\u003c\\u002fextra\\u003e\",\"legendgroup\":\"5.4\",\"marker\":{\"color\":\"#636efa\",\"opacity\":0.7,\"size\":[1,1,1,1,2,2,1,2,1],\"sizemode\":\"area\",\"sizeref\":0.01,\"symbol\":\"circle\"},\"mode\":\"markers\",\"name\":\"5.4\",\"scene\":\"scene\",\"showlegend\":true,\"x\":[\"1997\",\"1998\",\"2003\",\"2005\",\"2006\",\"2009\",\"2010\",\"2011\",\"2017\"],\"y\":[\"5.4\",\"5.4\",\"5.4\",\"5.4\",\"5.4\",\"5.4\",\"5.4\",\"5.4\",\"5.4\"],\"z\":[1,1,1,1,2,2,1,2,1],\"type\":\"scatter3d\"},{\"hovertemplate\":\"IMDB Rating=%{y}\\u003cbr\\u003eYear=%{x}\\u003cbr\\u003eNumber of Movies=%{marker.size}\\u003cextra\\u003e\\u003c\\u002fextra\\u003e\",\"legendgroup\":\"4.1\",\"marker\":{\"color\":\"#EF553B\",\"opacity\":0.7,\"size\":[2,1,1],\"sizemode\":\"area\",\"sizeref\":0.01,\"symbol\":\"circle\"},\"mode\":\"markers\",\"name\":\"4.1\",\"scene\":\"scene\",\"showlegend\":true,\"x\":[\"1998\",\"1999\",\"2002\"],\"y\":[\"4.1\",\"4.1\",\"4.1\"],\"z\":[2,1,1],\"type\":\"scatter3d\"},{\"hovertemplate\":\"IMDB Rating=%{y}\\u003cbr\\u003eYear=%{x}\\u003cbr\\u003eNumber of Movies=%{marker.size}\\u003cextra\\u003e\\u003c\\u002fextra\\u003e\",\"legendgroup\":\"4.2\",\"marker\":{\"color\":\"#00cc96\",\"opacity\":0.7,\"size\":[1,1,1],\"sizemode\":\"area\",\"sizeref\":0.01,\"symbol\":\"circle\"},\"mode\":\"markers\",\"name\":\"4.2\",\"scene\":\"scene\",\"showlegend\":true,\"x\":[\"1998\",\"2013\",\"2018\"],\"y\":[\"4.2\",\"4.2\",\"4.2\"],\"z\":[1,1,1],\"type\":\"scatter3d\"},{\"hovertemplate\":\"IMDB Rating=%{y}\\u003cbr\\u003eYear=%{x}\\u003cbr\\u003eNumber of Movies=%{marker.size}\\u003cextra\\u003e\\u003c\\u002fextra\\u003e\",\"legendgroup\":\"4.9\",\"marker\":{\"color\":\"#ab63fa\",\"opacity\":0.7,\"size\":[1,1,1,1,1],\"sizemode\":\"area\",\"sizeref\":0.01,\"symbol\":\"circle\"},\"mode\":\"markers\",\"name\":\"4.9\",\"scene\":\"scene\",\"showlegend\":true,\"x\":[\"1998\",\"2000\",\"2005\",\"2009\",\"2012\"],\"y\":[\"4.9\",\"4.9\",\"4.9\",\"4.9\",\"4.9\"],\"z\":[1,1,1,1,1],\"type\":\"scatter3d\"},{\"hovertemplate\":\"IMDB Rating=%{y}\\u003cbr\\u003eYear=%{x}\\u003cbr\\u003eNumber of Movies=%{marker.size}\\u003cextra\\u003e\\u003c\\u002fextra\\u003e\",\"legendgroup\":\" O. Henry (story based on: \\\"\\\"The Gift of the Magi\\\"\\\")\",\"marker\":{\"color\":\"#FFA15A\",\"opacity\":0.7,\"size\":[1],\"sizemode\":\"area\",\"sizeref\":0.01,\"symbol\":\"circle\"},\"mode\":\"markers\",\"name\":\" O. Henry (story based on: \\\"\\\"The Gift of the Magi\\\"\\\")\",\"scene\":\"scene\",\"showlegend\":true,\"x\":[\"1999\"],\"y\":[\" O. Henry (story based on: \\\"\\\"The Gift of the Magi\\\"\\\")\"],\"z\":[1],\"type\":\"scatter3d\"},{\"hovertemplate\":\"IMDB Rating=%{y}\\u003cbr\\u003eYear=%{x}\\u003cbr\\u003eNumber of Movies=%{marker.size}\\u003cextra\\u003e\\u003c\\u002fextra\\u003e\",\"legendgroup\":\" Jim Peterson\",\"marker\":{\"color\":\"#19d3f3\",\"opacity\":0.7,\"size\":[1],\"sizemode\":\"area\",\"sizeref\":0.01,\"symbol\":\"circle\"},\"mode\":\"markers\",\"name\":\" Jim Peterson\",\"scene\":\"scene\",\"showlegend\":true,\"x\":[\"2002\"],\"y\":[\" Jim Peterson\"],\"z\":[1],\"type\":\"scatter3d\"},{\"hovertemplate\":\"IMDB Rating=%{y}\\u003cbr\\u003eYear=%{x}\\u003cbr\\u003eNumber of Movies=%{marker.size}\\u003cextra\\u003e\\u003c\\u002fextra\\u003e\",\"legendgroup\":\" Ted Elliott (animation story by)\",\"marker\":{\"color\":\"#FF6692\",\"opacity\":0.7,\"size\":[1],\"sizemode\":\"area\",\"sizeref\":0.01,\"symbol\":\"circle\"},\"mode\":\"markers\",\"name\":\" Ted Elliott (animation story by)\",\"scene\":\"scene\",\"showlegend\":true,\"x\":[\"2002\"],\"y\":[\" Ted Elliott (animation story by)\"],\"z\":[1],\"type\":\"scatter3d\"},{\"hovertemplate\":\"IMDB Rating=%{y}\\u003cbr\\u003eYear=%{x}\\u003cbr\\u003eNumber of Movies=%{marker.size}\\u003cextra\\u003e\\u003c\\u002fextra\\u003e\",\"legendgroup\":\"3.3\",\"marker\":{\"color\":\"#B6E880\",\"opacity\":0.7,\"size\":[1],\"sizemode\":\"area\",\"sizeref\":0.01,\"symbol\":\"circle\"},\"mode\":\"markers\",\"name\":\"3.3\",\"scene\":\"scene\",\"showlegend\":true,\"x\":[\"2003\"],\"y\":[\"3.3\"],\"z\":[1],\"type\":\"scatter3d\"},{\"hovertemplate\":\"IMDB Rating=%{y}\\u003cbr\\u003eYear=%{x}\\u003cbr\\u003eNumber of Movies=%{marker.size}\\u003cextra\\u003e\\u003c\\u002fextra\\u003e\",\"legendgroup\":\"3.4\",\"marker\":{\"color\":\"#FF97FF\",\"opacity\":0.7,\"size\":[1],\"sizemode\":\"area\",\"sizeref\":0.01,\"symbol\":\"circle\"},\"mode\":\"markers\",\"name\":\"3.4\",\"scene\":\"scene\",\"showlegend\":true,\"x\":[\"2003\"],\"y\":[\"3.4\"],\"z\":[1],\"type\":\"scatter3d\"},{\"hovertemplate\":\"IMDB Rating=%{y}\\u003cbr\\u003eYear=%{x}\\u003cbr\\u003eNumber of Movies=%{marker.size}\\u003cextra\\u003e\\u003c\\u002fextra\\u003e\",\"legendgroup\":\"4.6\",\"marker\":{\"color\":\"#FECB52\",\"opacity\":0.7,\"size\":[1,1],\"sizemode\":\"area\",\"sizeref\":0.01,\"symbol\":\"circle\"},\"mode\":\"markers\",\"name\":\"4.6\",\"scene\":\"scene\",\"showlegend\":true,\"x\":[\"2004\",\"2019\"],\"y\":[\"4.6\",\"4.6\"],\"z\":[1,1],\"type\":\"scatter3d\"},{\"hovertemplate\":\"IMDB Rating=%{y}\\u003cbr\\u003eYear=%{x}\\u003cbr\\u003eNumber of Movies=%{marker.size}\\u003cextra\\u003e\\u003c\\u002fextra\\u003e\",\"legendgroup\":\"N\\u002fA\",\"marker\":{\"color\":\"#636efa\",\"opacity\":0.7,\"size\":[1,1,1,2],\"sizemode\":\"area\",\"sizeref\":0.01,\"symbol\":\"circle\"},\"mode\":\"markers\",\"name\":\"N\\u002fA\",\"scene\":\"scene\",\"showlegend\":true,\"x\":[\"2004\",\"2013\",\"2017\",\"2019\"],\"y\":[\"N\\u002fA\",\"N\\u002fA\",\"N\\u002fA\",\"N\\u002fA\"],\"z\":[1,1,1,2],\"type\":\"scatter3d\"},{\"hovertemplate\":\"IMDB Rating=%{y}\\u003cbr\\u003eYear=%{x}\\u003cbr\\u003eNumber of Movies=%{marker.size}\\u003cextra\\u003e\\u003c\\u002fextra\\u003e\",\"legendgroup\":\"61\",\"marker\":{\"color\":\"#EF553B\",\"opacity\":0.7,\"size\":[1],\"sizemode\":\"area\",\"sizeref\":0.01,\"symbol\":\"circle\"},\"mode\":\"markers\",\"name\":\"61\",\"scene\":\"scene\",\"showlegend\":true,\"x\":[\"2007\"],\"y\":[\"61\"],\"z\":[1],\"type\":\"scatter3d\"},{\"hovertemplate\":\"IMDB Rating=%{y}\\u003cbr\\u003eYear=%{x}\\u003cbr\\u003eNumber of Movies=%{marker.size}\\u003cextra\\u003e\\u003c\\u002fextra\\u003e\",\"legendgroup\":\"2.3\",\"marker\":{\"color\":\"#00cc96\",\"opacity\":0.7,\"size\":[1],\"sizemode\":\"area\",\"sizeref\":0.01,\"symbol\":\"circle\"},\"mode\":\"markers\",\"name\":\"2.3\",\"scene\":\"scene\",\"showlegend\":true,\"x\":[\"2008\"],\"y\":[\"2.3\"],\"z\":[1],\"type\":\"scatter3d\"},{\"hovertemplate\":\"IMDB Rating=%{y}\\u003cbr\\u003eYear=%{x}\\u003cbr\\u003eNumber of Movies=%{marker.size}\\u003cextra\\u003e\\u003c\\u002fextra\\u003e\",\"legendgroup\":\"4.3\",\"marker\":{\"color\":\"#ab63fa\",\"opacity\":0.7,\"size\":[1],\"sizemode\":\"area\",\"sizeref\":0.01,\"symbol\":\"circle\"},\"mode\":\"markers\",\"name\":\"4.3\",\"scene\":\"scene\",\"showlegend\":true,\"x\":[\"2008\"],\"y\":[\"4.3\"],\"z\":[1],\"type\":\"scatter3d\"},{\"hovertemplate\":\"IMDB Rating=%{y}\\u003cbr\\u003eYear=%{x}\\u003cbr\\u003eNumber of Movies=%{marker.size}\\u003cextra\\u003e\\u003c\\u002fextra\\u003e\",\"legendgroup\":\"8.4\",\"marker\":{\"color\":\"#FFA15A\",\"opacity\":0.7,\"size\":[2,1,1,1],\"sizemode\":\"area\",\"sizeref\":0.01,\"symbol\":\"circle\"},\"mode\":\"markers\",\"name\":\"8.4\",\"scene\":\"scene\",\"showlegend\":true,\"x\":[\"2008\",\"2016\",\"2017\",\"2019\"],\"y\":[\"8.4\",\"8.4\",\"8.4\",\"8.4\"],\"z\":[2,1,1,1],\"type\":\"scatter3d\"},{\"hovertemplate\":\"IMDB Rating=%{y}\\u003cbr\\u003eYear=%{x}\\u003cbr\\u003eNumber of Movies=%{marker.size}\\u003cextra\\u003e\\u003c\\u002fextra\\u003e\",\"legendgroup\":\"4.4\",\"marker\":{\"color\":\"#19d3f3\",\"opacity\":0.7,\"size\":[1],\"sizemode\":\"area\",\"sizeref\":0.01,\"symbol\":\"circle\"},\"mode\":\"markers\",\"name\":\"4.4\",\"scene\":\"scene\",\"showlegend\":true,\"x\":[\"2009\"],\"y\":[\"4.4\"],\"z\":[1],\"type\":\"scatter3d\"},{\"hovertemplate\":\"IMDB Rating=%{y}\\u003cbr\\u003eYear=%{x}\\u003cbr\\u003eNumber of Movies=%{marker.size}\\u003cextra\\u003e\\u003c\\u002fextra\\u003e\",\"legendgroup\":\"8.2\",\"marker\":{\"color\":\"#FF6692\",\"opacity\":0.7,\"size\":[1,1,2],\"sizemode\":\"area\",\"sizeref\":0.01,\"symbol\":\"circle\"},\"mode\":\"markers\",\"name\":\"8.2\",\"scene\":\"scene\",\"showlegend\":true,\"x\":[\"2009\",\"2015\",\"2018\"],\"y\":[\"8.2\",\"8.2\",\"8.2\"],\"z\":[1,1,2],\"type\":\"scatter3d\"},{\"hovertemplate\":\"IMDB Rating=%{y}\\u003cbr\\u003eYear=%{x}\\u003cbr\\u003eNumber of Movies=%{marker.size}\\u003cextra\\u003e\\u003c\\u002fextra\\u003e\",\"legendgroup\":\"71\",\"marker\":{\"color\":\"#B6E880\",\"opacity\":0.7,\"size\":[1],\"sizemode\":\"area\",\"sizeref\":0.01,\"symbol\":\"circle\"},\"mode\":\"markers\",\"name\":\"71\",\"scene\":\"scene\",\"showlegend\":true,\"x\":[\"2010\"],\"y\":[\"71\"],\"z\":[1],\"type\":\"scatter3d\"},{\"hovertemplate\":\"IMDB Rating=%{y}\\u003cbr\\u003eYear=%{x}\\u003cbr\\u003eNumber of Movies=%{marker.size}\\u003cextra\\u003e\\u003c\\u002fextra\\u003e\",\"legendgroup\":\"62\",\"marker\":{\"color\":\"#FF97FF\",\"opacity\":0.7,\"size\":[1],\"sizemode\":\"area\",\"sizeref\":0.01,\"symbol\":\"circle\"},\"mode\":\"markers\",\"name\":\"62\",\"scene\":\"scene\",\"showlegend\":true,\"x\":[\"2013\"],\"y\":[\"62\"],\"z\":[1],\"type\":\"scatter3d\"},{\"hovertemplate\":\"IMDB Rating=%{y}\\u003cbr\\u003eYear=%{x}\\u003cbr\\u003eNumber of Movies=%{marker.size}\\u003cextra\\u003e\\u003c\\u002fextra\\u003e\",\"legendgroup\":\"Canada, USA\",\"marker\":{\"color\":\"#FECB52\",\"opacity\":0.7,\"size\":[1],\"sizemode\":\"area\",\"sizeref\":0.01,\"symbol\":\"circle\"},\"mode\":\"markers\",\"name\":\"Canada, USA\",\"scene\":\"scene\",\"showlegend\":true,\"x\":[\"2014\"],\"y\":[\"Canada, USA\"],\"z\":[1],\"type\":\"scatter3d\"},{\"hovertemplate\":\"IMDB Rating=%{y}\\u003cbr\\u003eYear=%{x}\\u003cbr\\u003eNumber of Movies=%{marker.size}\\u003cextra\\u003e\\u003c\\u002fextra\\u003e\",\"legendgroup\":\"3.7\",\"marker\":{\"color\":\"#636efa\",\"opacity\":0.7,\"size\":[1],\"sizemode\":\"area\",\"sizeref\":0.01,\"symbol\":\"circle\"},\"mode\":\"markers\",\"name\":\"3.7\",\"scene\":\"scene\",\"showlegend\":true,\"x\":[\"2018\"],\"y\":[\"3.7\"],\"z\":[1],\"type\":\"scatter3d\"},{\"hovertemplate\":\"IMDB Rating=%{y}\\u003cbr\\u003eYear=%{x}\\u003cbr\\u003eNumber of Movies=%{marker.size}\\u003cextra\\u003e\\u003c\\u002fextra\\u003e\",\"legendgroup\":\" Allison Schroeder (additional screenplay material by)\\\"\",\"marker\":{\"color\":\"#EF553B\",\"opacity\":0.7,\"size\":[1],\"sizemode\":\"area\",\"sizeref\":0.01,\"symbol\":\"circle\"},\"mode\":\"markers\",\"name\":\" Allison Schroeder (additional screenplay material by)\\\"\",\"scene\":\"scene\",\"showlegend\":true,\"x\":[\"2019\"],\"y\":[\" Allison Schroeder (additional screenplay material by)\\\"\"],\"z\":[1],\"type\":\"scatter3d\"},{\"hovertemplate\":\"IMDB Rating=%{y}\\u003cbr\\u003eYear=%{x}\\u003cbr\\u003eNumber of Movies=%{marker.size}\\u003cextra\\u003e\\u003c\\u002fextra\\u003e\",\"legendgroup\":\"3.6\",\"marker\":{\"color\":\"#00cc96\",\"opacity\":0.7,\"size\":[1],\"sizemode\":\"area\",\"sizeref\":0.01,\"symbol\":\"circle\"},\"mode\":\"markers\",\"name\":\"3.6\",\"scene\":\"scene\",\"showlegend\":true,\"x\":[\"2019\"],\"y\":[\"3.6\"],\"z\":[1],\"type\":\"scatter3d\"},{\"hovertemplate\":\"IMDB Rating=%{y}\\u003cbr\\u003eYear=%{x}\\u003cbr\\u003eNumber of Movies=%{marker.size}\\u003cextra\\u003e\\u003c\\u002fextra\\u003e\",\"legendgroup\":\"4.0\",\"marker\":{\"color\":\"#ab63fa\",\"opacity\":0.7,\"size\":[1],\"sizemode\":\"area\",\"sizeref\":0.01,\"symbol\":\"circle\"},\"mode\":\"markers\",\"name\":\"4.0\",\"scene\":\"scene\",\"showlegend\":true,\"x\":[\"2019\"],\"y\":[\"4.0\"],\"z\":[1],\"type\":\"scatter3d\"},{\"hovertemplate\":\"IMDB Rating=%{y}\\u003cbr\\u003eYear=%{x}\\u003cbr\\u003eNumber of Movies=%{marker.size}\\u003cextra\\u003e\\u003c\\u002fextra\\u003e\",\"legendgroup\":\"Nominated for 1 Oscar. Another 14 wins & 32 nominations.\",\"marker\":{\"color\":\"#FFA15A\",\"opacity\":0.7,\"size\":[1],\"sizemode\":\"area\",\"sizeref\":0.01,\"symbol\":\"circle\"},\"mode\":\"markers\",\"name\":\"Nominated for 1 Oscar. Another 14 wins & 32 nominations.\",\"scene\":\"scene\",\"showlegend\":true,\"x\":[\"2019\"],\"y\":[\"Nominated for 1 Oscar. Another 14 wins & 32 nominations.\"],\"z\":[1],\"type\":\"scatter3d\"}],                        {\"template\":{\"data\":{\"histogram2dcontour\":[{\"type\":\"histogram2dcontour\",\"colorbar\":{\"outlinewidth\":0,\"ticks\":\"\"},\"colorscale\":[[0.0,\"#0d0887\"],[0.1111111111111111,\"#46039f\"],[0.2222222222222222,\"#7201a8\"],[0.3333333333333333,\"#9c179e\"],[0.4444444444444444,\"#bd3786\"],[0.5555555555555556,\"#d8576b\"],[0.6666666666666666,\"#ed7953\"],[0.7777777777777778,\"#fb9f3a\"],[0.8888888888888888,\"#fdca26\"],[1.0,\"#f0f921\"]]}],\"choropleth\":[{\"type\":\"choropleth\",\"colorbar\":{\"outlinewidth\":0,\"ticks\":\"\"}}],\"histogram2d\":[{\"type\":\"histogram2d\",\"colorbar\":{\"outlinewidth\":0,\"ticks\":\"\"},\"colorscale\":[[0.0,\"#0d0887\"],[0.1111111111111111,\"#46039f\"],[0.2222222222222222,\"#7201a8\"],[0.3333333333333333,\"#9c179e\"],[0.4444444444444444,\"#bd3786\"],[0.5555555555555556,\"#d8576b\"],[0.6666666666666666,\"#ed7953\"],[0.7777777777777778,\"#fb9f3a\"],[0.8888888888888888,\"#fdca26\"],[1.0,\"#f0f921\"]]}],\"heatmap\":[{\"type\":\"heatmap\",\"colorbar\":{\"outlinewidth\":0,\"ticks\":\"\"},\"colorscale\":[[0.0,\"#0d0887\"],[0.1111111111111111,\"#46039f\"],[0.2222222222222222,\"#7201a8\"],[0.3333333333333333,\"#9c179e\"],[0.4444444444444444,\"#bd3786\"],[0.5555555555555556,\"#d8576b\"],[0.6666666666666666,\"#ed7953\"],[0.7777777777777778,\"#fb9f3a\"],[0.8888888888888888,\"#fdca26\"],[1.0,\"#f0f921\"]]}],\"heatmapgl\":[{\"type\":\"heatmapgl\",\"colorbar\":{\"outlinewidth\":0,\"ticks\":\"\"},\"colorscale\":[[0.0,\"#0d0887\"],[0.1111111111111111,\"#46039f\"],[0.2222222222222222,\"#7201a8\"],[0.3333333333333333,\"#9c179e\"],[0.4444444444444444,\"#bd3786\"],[0.5555555555555556,\"#d8576b\"],[0.6666666666666666,\"#ed7953\"],[0.7777777777777778,\"#fb9f3a\"],[0.8888888888888888,\"#fdca26\"],[1.0,\"#f0f921\"]]}],\"contourcarpet\":[{\"type\":\"contourcarpet\",\"colorbar\":{\"outlinewidth\":0,\"ticks\":\"\"}}],\"contour\":[{\"type\":\"contour\",\"colorbar\":{\"outlinewidth\":0,\"ticks\":\"\"},\"colorscale\":[[0.0,\"#0d0887\"],[0.1111111111111111,\"#46039f\"],[0.2222222222222222,\"#7201a8\"],[0.3333333333333333,\"#9c179e\"],[0.4444444444444444,\"#bd3786\"],[0.5555555555555556,\"#d8576b\"],[0.6666666666666666,\"#ed7953\"],[0.7777777777777778,\"#fb9f3a\"],[0.8888888888888888,\"#fdca26\"],[1.0,\"#f0f921\"]]}],\"surface\":[{\"type\":\"surface\",\"colorbar\":{\"outlinewidth\":0,\"ticks\":\"\"},\"colorscale\":[[0.0,\"#0d0887\"],[0.1111111111111111,\"#46039f\"],[0.2222222222222222,\"#7201a8\"],[0.3333333333333333,\"#9c179e\"],[0.4444444444444444,\"#bd3786\"],[0.5555555555555556,\"#d8576b\"],[0.6666666666666666,\"#ed7953\"],[0.7777777777777778,\"#fb9f3a\"],[0.8888888888888888,\"#fdca26\"],[1.0,\"#f0f921\"]]}],\"mesh3d\":[{\"type\":\"mesh3d\",\"colorbar\":{\"outlinewidth\":0,\"ticks\":\"\"}}],\"scatter\":[{\"fillpattern\":{\"fillmode\":\"overlay\",\"size\":10,\"solidity\":0.2},\"type\":\"scatter\"}],\"parcoords\":[{\"type\":\"parcoords\",\"line\":{\"colorbar\":{\"outlinewidth\":0,\"ticks\":\"\"}}}],\"scatterpolargl\":[{\"type\":\"scatterpolargl\",\"marker\":{\"colorbar\":{\"outlinewidth\":0,\"ticks\":\"\"}}}],\"bar\":[{\"error_x\":{\"color\":\"#2a3f5f\"},\"error_y\":{\"color\":\"#2a3f5f\"},\"marker\":{\"line\":{\"color\":\"#E5ECF6\",\"width\":0.5},\"pattern\":{\"fillmode\":\"overlay\",\"size\":10,\"solidity\":0.2}},\"type\":\"bar\"}],\"scattergeo\":[{\"type\":\"scattergeo\",\"marker\":{\"colorbar\":{\"outlinewidth\":0,\"ticks\":\"\"}}}],\"scatterpolar\":[{\"type\":\"scatterpolar\",\"marker\":{\"colorbar\":{\"outlinewidth\":0,\"ticks\":\"\"}}}],\"histogram\":[{\"marker\":{\"pattern\":{\"fillmode\":\"overlay\",\"size\":10,\"solidity\":0.2}},\"type\":\"histogram\"}],\"scattergl\":[{\"type\":\"scattergl\",\"marker\":{\"colorbar\":{\"outlinewidth\":0,\"ticks\":\"\"}}}],\"scatter3d\":[{\"type\":\"scatter3d\",\"line\":{\"colorbar\":{\"outlinewidth\":0,\"ticks\":\"\"}},\"marker\":{\"colorbar\":{\"outlinewidth\":0,\"ticks\":\"\"}}}],\"scattermapbox\":[{\"type\":\"scattermapbox\",\"marker\":{\"colorbar\":{\"outlinewidth\":0,\"ticks\":\"\"}}}],\"scatterternary\":[{\"type\":\"scatterternary\",\"marker\":{\"colorbar\":{\"outlinewidth\":0,\"ticks\":\"\"}}}],\"scattercarpet\":[{\"type\":\"scattercarpet\",\"marker\":{\"colorbar\":{\"outlinewidth\":0,\"ticks\":\"\"}}}],\"carpet\":[{\"aaxis\":{\"endlinecolor\":\"#2a3f5f\",\"gridcolor\":\"white\",\"linecolor\":\"white\",\"minorgridcolor\":\"white\",\"startlinecolor\":\"#2a3f5f\"},\"baxis\":{\"endlinecolor\":\"#2a3f5f\",\"gridcolor\":\"white\",\"linecolor\":\"white\",\"minorgridcolor\":\"white\",\"startlinecolor\":\"#2a3f5f\"},\"type\":\"carpet\"}],\"table\":[{\"cells\":{\"fill\":{\"color\":\"#EBF0F8\"},\"line\":{\"color\":\"white\"}},\"header\":{\"fill\":{\"color\":\"#C8D4E3\"},\"line\":{\"color\":\"white\"}},\"type\":\"table\"}],\"barpolar\":[{\"marker\":{\"line\":{\"color\":\"#E5ECF6\",\"width\":0.5},\"pattern\":{\"fillmode\":\"overlay\",\"size\":10,\"solidity\":0.2}},\"type\":\"barpolar\"}],\"pie\":[{\"automargin\":true,\"type\":\"pie\"}]},\"layout\":{\"autotypenumbers\":\"strict\",\"colorway\":[\"#636efa\",\"#EF553B\",\"#00cc96\",\"#ab63fa\",\"#FFA15A\",\"#19d3f3\",\"#FF6692\",\"#B6E880\",\"#FF97FF\",\"#FECB52\"],\"font\":{\"color\":\"#2a3f5f\"},\"hovermode\":\"closest\",\"hoverlabel\":{\"align\":\"left\"},\"paper_bgcolor\":\"white\",\"plot_bgcolor\":\"#E5ECF6\",\"polar\":{\"bgcolor\":\"#E5ECF6\",\"angularaxis\":{\"gridcolor\":\"white\",\"linecolor\":\"white\",\"ticks\":\"\"},\"radialaxis\":{\"gridcolor\":\"white\",\"linecolor\":\"white\",\"ticks\":\"\"}},\"ternary\":{\"bgcolor\":\"#E5ECF6\",\"aaxis\":{\"gridcolor\":\"white\",\"linecolor\":\"white\",\"ticks\":\"\"},\"baxis\":{\"gridcolor\":\"white\",\"linecolor\":\"white\",\"ticks\":\"\"},\"caxis\":{\"gridcolor\":\"white\",\"linecolor\":\"white\",\"ticks\":\"\"}},\"coloraxis\":{\"colorbar\":{\"outlinewidth\":0,\"ticks\":\"\"}},\"colorscale\":{\"sequential\":[[0.0,\"#0d0887\"],[0.1111111111111111,\"#46039f\"],[0.2222222222222222,\"#7201a8\"],[0.3333333333333333,\"#9c179e\"],[0.4444444444444444,\"#bd3786\"],[0.5555555555555556,\"#d8576b\"],[0.6666666666666666,\"#ed7953\"],[0.7777777777777778,\"#fb9f3a\"],[0.8888888888888888,\"#fdca26\"],[1.0,\"#f0f921\"]],\"sequentialminus\":[[0.0,\"#0d0887\"],[0.1111111111111111,\"#46039f\"],[0.2222222222222222,\"#7201a8\"],[0.3333333333333333,\"#9c179e\"],[0.4444444444444444,\"#bd3786\"],[0.5555555555555556,\"#d8576b\"],[0.6666666666666666,\"#ed7953\"],[0.7777777777777778,\"#fb9f3a\"],[0.8888888888888888,\"#fdca26\"],[1.0,\"#f0f921\"]],\"diverging\":[[0,\"#8e0152\"],[0.1,\"#c51b7d\"],[0.2,\"#de77ae\"],[0.3,\"#f1b6da\"],[0.4,\"#fde0ef\"],[0.5,\"#f7f7f7\"],[0.6,\"#e6f5d0\"],[0.7,\"#b8e186\"],[0.8,\"#7fbc41\"],[0.9,\"#4d9221\"],[1,\"#276419\"]]},\"xaxis\":{\"gridcolor\":\"white\",\"linecolor\":\"white\",\"ticks\":\"\",\"title\":{\"standoff\":15},\"zerolinecolor\":\"white\",\"automargin\":true,\"zerolinewidth\":2},\"yaxis\":{\"gridcolor\":\"white\",\"linecolor\":\"white\",\"ticks\":\"\",\"title\":{\"standoff\":15},\"zerolinecolor\":\"white\",\"automargin\":true,\"zerolinewidth\":2},\"scene\":{\"xaxis\":{\"backgroundcolor\":\"#E5ECF6\",\"gridcolor\":\"white\",\"linecolor\":\"white\",\"showbackground\":true,\"ticks\":\"\",\"zerolinecolor\":\"white\",\"gridwidth\":2},\"yaxis\":{\"backgroundcolor\":\"#E5ECF6\",\"gridcolor\":\"white\",\"linecolor\":\"white\",\"showbackground\":true,\"ticks\":\"\",\"zerolinecolor\":\"white\",\"gridwidth\":2},\"zaxis\":{\"backgroundcolor\":\"#E5ECF6\",\"gridcolor\":\"white\",\"linecolor\":\"white\",\"showbackground\":true,\"ticks\":\"\",\"zerolinecolor\":\"white\",\"gridwidth\":2}},\"shapedefaults\":{\"line\":{\"color\":\"#2a3f5f\"}},\"annotationdefaults\":{\"arrowcolor\":\"#2a3f5f\",\"arrowhead\":0,\"arrowwidth\":1},\"geo\":{\"bgcolor\":\"white\",\"landcolor\":\"#E5ECF6\",\"subunitcolor\":\"white\",\"showland\":true,\"showlakes\":true,\"lakecolor\":\"white\"},\"title\":{\"x\":0.05},\"mapbox\":{\"style\":\"light\"}}},\"scene\":{\"domain\":{\"x\":[0.0,1.0],\"y\":[0.0,1.0]},\"xaxis\":{\"title\":{\"text\":\"Year\"}},\"yaxis\":{\"title\":{\"text\":\"IMDB Rating\"},\"categoryorder\":\"array\",\"categoryarray\":[\"7.6\",\"6.8\",\"7.4\",\"7.5\",\"6.7\",\"6.9\",\"7.1\",\"7.3\",\"7.2\",\"7.9\",\"7.0\",\"7.7\",\"6.5\",\"7.8\",\"English\",\"6.2\",\"6.6\",\"6.4\",\" Homer Brightman (story)\",\"8.1\",\" Milt Banta (additional story)\\\"\",\"6.3\",\"8.0\",\"6.0\",\"5.9\",\"5.7\",\"6.1\",\" Ted Berman (story)\",\"8.6\",\"5.3\",\"5.0\",\"8.7\",\" Alan Dinehart (story adaptation)\\\"\",\"8.3\",\"73\",\"2 wins & 1 nomination.\",\"Joey Lawrence, Billy Joel, Cheech Marin, Richard Mulligan\",\"USA\",\"Billy Campbell, Jennifer Connelly, Alan Arkin, Timothy Dalton\",\"4.8\",\"5.6\",\"8.5\",\"4.7\",\"5.1\",\"5.5\",\" Kevin Harkey (story)\",\"3.0\",\"5.2\",\"5.8\",\"4.5\",\"5.4\",\"4.1\",\"4.2\",\"4.9\",\" O. Henry (story based on: \\\"\\\"The Gift of the Magi\\\"\\\")\",\" Jim Peterson\",\" Ted Elliott (animation story by)\",\"3.3\",\"3.4\",\"4.6\",\"N\\u002fA\",\"61\",\"2.3\",\"4.3\",\"8.4\",\"4.4\",\"8.2\",\"71\",\"62\",\"Canada, USA\",\"3.7\",\" Allison Schroeder (additional screenplay material by)\\\"\",\"3.6\",\"4.0\",\"Nominated for 1 Oscar. Another 14 wins & 32 nominations.\"]},\"zaxis\":{\"title\":{\"text\":\"Number of Movies\"}}},\"legend\":{\"title\":{\"text\":\"IMDB Rating\"},\"tracegroupgap\":0,\"itemsizing\":\"constant\"},\"title\":{\"text\":\"3D Scatter Plot of Movie Ratings Over Years\"},\"margin\":{\"l\":0,\"r\":0,\"b\":0,\"t\":40}},                        {\"responsive\": true}                    ).then(function(){\n",
              "                            \n",
              "var gd = document.getElementById('66454d8a-7d5e-487d-891d-66d6f054ccec');\n",
              "var x = new MutationObserver(function (mutations, observer) {{\n",
              "        var display = window.getComputedStyle(gd).display;\n",
              "        if (!display || display === 'none') {{\n",
              "            console.log([gd, 'removed!']);\n",
              "            Plotly.purge(gd);\n",
              "            observer.disconnect();\n",
              "        }}\n",
              "}});\n",
              "\n",
              "// Listen for the removal of the full notebook cells\n",
              "var notebookContainer = gd.closest('#notebook-container');\n",
              "if (notebookContainer) {{\n",
              "    x.observe(notebookContainer, {childList: true});\n",
              "}}\n",
              "\n",
              "// Listen for the clearing of the current output cell\n",
              "var outputEl = gd.closest('.output');\n",
              "if (outputEl) {{\n",
              "    x.observe(outputEl, {childList: true});\n",
              "}}\n",
              "\n",
              "                        })                };                            </script>        </div>\n",
              "</body>\n",
              "</html>"
            ]
          },
          "metadata": {}
        }
      ]
    },
    {
      "cell_type": "code",
      "source": [
        "from pyspark.sql import SparkSession\n",
        "from pyspark.sql.functions import col\n",
        "\n",
        "# Initialize Spark session\n",
        "spark = SparkSession.builder.appName(\"3DModelMapReduce\").getOrCreate()\n",
        "\n",
        "# Load data into DataFrame (assuming df is your DataFrame)\n",
        "# df = spark.read.csv(\"path/to/your/csv\", header=True, inferSchema=True)\n",
        "\n",
        "# Filter the data for movies with non-null ratings and years\n",
        "ratings_df = df.filter((col(\"type\") == \"movie\") & (col(\"imdb_rating\").isNotNull()) & (col(\"year\").isNotNull()))\n",
        "\n",
        "# Aggregate the number of movies per year and rating\n",
        "ratings_agg = ratings_df.groupBy(\"year\", \"imdb_rating\").count().withColumnRenamed(\"count\", \"No_of_Movies\")\n",
        "\n",
        "# Convert to Pandas DataFrame for plotting\n",
        "ratings_pd_agg = ratings_agg.toPandas()"
      ],
      "metadata": {
        "id": "b-JYKd7zuDv2"
      },
      "execution_count": null,
      "outputs": []
    },
    {
      "cell_type": "code",
      "source": [
        "import plotly.express as px\n",
        "\n",
        "# Plotting the aggregated data\n",
        "fig = px.scatter_3d(ratings_pd_agg, x='year', y='imdb_rating', z='No_of_Movies',\n",
        "                    size='No_of_Movies', color='imdb_rating',\n",
        "                    title='3D Scatter Plot of Movie Ratings Over Years',\n",
        "                    labels={'year': 'Year', 'imdb_rating': 'IMDB Rating', 'No_of_Movies': 'Number of Movies'},\n",
        "                    opacity=0.7)\n",
        "\n",
        "fig.update_layout(scene=dict(\n",
        "                    xaxis_title='Year',\n",
        "                    yaxis_title='IMDB Rating',\n",
        "                    zaxis_title='Number of Movies'),\n",
        "                  margin=dict(l=0, r=0, b=0, t=40))\n",
        "\n",
        "fig.show()"
      ],
      "metadata": {
        "colab": {
          "base_uri": "https://localhost:8080/",
          "height": 542
        },
        "id": "UViTYsjfuPrX",
        "outputId": "00f23969-e3c6-4a6e-ffcc-5a0c85ba2828"
      },
      "execution_count": null,
      "outputs": [
        {
          "output_type": "display_data",
          "data": {
            "text/html": [
              "<html>\n",
              "<head><meta charset=\"utf-8\" /></head>\n",
              "<body>\n",
              "    <div>            <script src=\"https://cdnjs.cloudflare.com/ajax/libs/mathjax/2.7.5/MathJax.js?config=TeX-AMS-MML_SVG\"></script><script type=\"text/javascript\">if (window.MathJax && window.MathJax.Hub && window.MathJax.Hub.Config) {window.MathJax.Hub.Config({SVG: {font: \"STIX-Web\"}});}</script>                <script type=\"text/javascript\">window.PlotlyConfig = {MathJaxConfig: 'local'};</script>\n",
              "        <script charset=\"utf-8\" src=\"https://cdn.plot.ly/plotly-2.24.1.min.js\"></script>                <div id=\"0a600d8e-0c26-4f36-adf6-4f8b7c413b93\" class=\"plotly-graph-div\" style=\"height:525px; width:100%;\"></div>            <script type=\"text/javascript\">                                    window.PLOTLYENV=window.PLOTLYENV || {};                                    if (document.getElementById(\"0a600d8e-0c26-4f36-adf6-4f8b7c413b93\")) {                    Plotly.newPlot(                        \"0a600d8e-0c26-4f36-adf6-4f8b7c413b93\",                        [{\"hovertemplate\":\"IMDB Rating=%{y}\\u003cbr\\u003eYear=%{x}\\u003cbr\\u003eNumber of Movies=%{marker.size}\\u003cextra\\u003e\\u003c\\u002fextra\\u003e\",\"legendgroup\":\"6.4\",\"marker\":{\"color\":\"#636efa\",\"opacity\":0.7,\"size\":[1,2,1,1,1,1,1,1,1,1,1,1,1,1,1,1,1,2,1,1,1],\"sizemode\":\"area\",\"sizeref\":0.01,\"symbol\":\"circle\"},\"mode\":\"markers\",\"name\":\"6.4\",\"scene\":\"scene\",\"showlegend\":true,\"x\":[\"1975\",\"2005\",\"1996\",\"2010\",\"2000\",\"1948\",\"2014\",\"2018\",\"1992\",\"1977\",\"1999\",\"1993\",\"1987\",\"1985\",\"2015\",\"2004\",\"2012\",\"2011\",\"2009\",\"1988\",\"2016\"],\"y\":[\"6.4\",\"6.4\",\"6.4\",\"6.4\",\"6.4\",\"6.4\",\"6.4\",\"6.4\",\"6.4\",\"6.4\",\"6.4\",\"6.4\",\"6.4\",\"6.4\",\"6.4\",\"6.4\",\"6.4\",\"6.4\",\"6.4\",\"6.4\",\"6.4\"],\"z\":[1,2,1,1,1,1,1,1,1,1,1,1,1,1,1,1,1,2,1,1,1],\"type\":\"scatter3d\"},{\"hovertemplate\":\"IMDB Rating=%{y}\\u003cbr\\u003eYear=%{x}\\u003cbr\\u003eNumber of Movies=%{marker.size}\\u003cextra\\u003e\\u003c\\u002fextra\\u003e\",\"legendgroup\":\"5.6\",\"marker\":{\"color\":\"#EF553B\",\"opacity\":0.7,\"size\":[1,2,2,1,1,1,1,1,1],\"sizemode\":\"area\",\"sizeref\":0.01,\"symbol\":\"circle\"},\"mode\":\"markers\",\"name\":\"5.6\",\"scene\":\"scene\",\"showlegend\":true,\"x\":[\"1998\",\"2000\",\"1993\",\"2003\",\"2006\",\"2017\",\"2002\",\"2004\",\"2009\"],\"y\":[\"5.6\",\"5.6\",\"5.6\",\"5.6\",\"5.6\",\"5.6\",\"5.6\",\"5.6\",\"5.6\"],\"z\":[1,2,2,1,1,1,1,1,1],\"type\":\"scatter3d\"},{\"hovertemplate\":\"IMDB Rating=%{y}\\u003cbr\\u003eYear=%{x}\\u003cbr\\u003eNumber of Movies=%{marker.size}\\u003cextra\\u003e\\u003c\\u002fextra\\u003e\",\"legendgroup\":\"6.8\",\"marker\":{\"color\":\"#00cc96\",\"opacity\":0.7,\"size\":[1,1,1,1,1,2,2,2,1,1,1,1,2,2,1],\"sizemode\":\"area\",\"sizeref\":0.01,\"symbol\":\"circle\"},\"mode\":\"markers\",\"name\":\"6.8\",\"scene\":\"scene\",\"showlegend\":true,\"x\":[\"2002\",\"1998\",\"2017\",\"1995\",\"1982\",\"2004\",\"1965\",\"2003\",\"1961\",\"2010\",\"1977\",\"1932\",\"2016\",\"2008\",\"1975\"],\"y\":[\"6.8\",\"6.8\",\"6.8\",\"6.8\",\"6.8\",\"6.8\",\"6.8\",\"6.8\",\"6.8\",\"6.8\",\"6.8\",\"6.8\",\"6.8\",\"6.8\",\"6.8\"],\"z\":[1,1,1,1,1,2,2,2,1,1,1,1,2,2,1],\"type\":\"scatter3d\"},{\"hovertemplate\":\"IMDB Rating=%{y}\\u003cbr\\u003eYear=%{x}\\u003cbr\\u003eNumber of Movies=%{marker.size}\\u003cextra\\u003e\\u003c\\u002fextra\\u003e\",\"legendgroup\":\"4.9\",\"marker\":{\"color\":\"#ab63fa\",\"opacity\":0.7,\"size\":[1,1,1,1,1],\"sizemode\":\"area\",\"sizeref\":0.01,\"symbol\":\"circle\"},\"mode\":\"markers\",\"name\":\"4.9\",\"scene\":\"scene\",\"showlegend\":true,\"x\":[\"2009\",\"1998\",\"2012\",\"2000\",\"2005\"],\"y\":[\"4.9\",\"4.9\",\"4.9\",\"4.9\",\"4.9\"],\"z\":[1,1,1,1,1],\"type\":\"scatter3d\"},{\"hovertemplate\":\"IMDB Rating=%{y}\\u003cbr\\u003eYear=%{x}\\u003cbr\\u003eNumber of Movies=%{marker.size}\\u003cextra\\u003e\\u003c\\u002fextra\\u003e\",\"legendgroup\":\"5.7\",\"marker\":{\"color\":\"#FFA15A\",\"opacity\":0.7,\"size\":[1,1,1,1,2,1,1,3,1,1,1],\"sizemode\":\"area\",\"sizeref\":0.01,\"symbol\":\"circle\"},\"mode\":\"markers\",\"name\":\"5.7\",\"scene\":\"scene\",\"showlegend\":true,\"x\":[\"2003\",\"2000\",\"2010\",\"1974\",\"2004\",\"1972\",\"1996\",\"2005\",\"1977\",\"1998\",\"2015\"],\"y\":[\"5.7\",\"5.7\",\"5.7\",\"5.7\",\"5.7\",\"5.7\",\"5.7\",\"5.7\",\"5.7\",\"5.7\",\"5.7\"],\"z\":[1,1,1,1,2,1,1,3,1,1,1],\"type\":\"scatter3d\"},{\"hovertemplate\":\"IMDB Rating=%{y}\\u003cbr\\u003eYear=%{x}\\u003cbr\\u003eNumber of Movies=%{marker.size}\\u003cextra\\u003e\\u003c\\u002fextra\\u003e\",\"legendgroup\":\"8.3\",\"marker\":{\"color\":\"#19d3f3\",\"opacity\":0.7,\"size\":[1,1,1,1,1],\"sizemode\":\"area\",\"sizeref\":0.01,\"symbol\":\"circle\"},\"mode\":\"markers\",\"name\":\"8.3\",\"scene\":\"scene\",\"showlegend\":true,\"x\":[\"1983\",\"2016\",\"1995\",\"2010\",\"2004\"],\"y\":[\"8.3\",\"8.3\",\"8.3\",\"8.3\",\"8.3\"],\"z\":[1,1,1,1,1],\"type\":\"scatter3d\"},{\"hovertemplate\":\"IMDB Rating=%{y}\\u003cbr\\u003eYear=%{x}\\u003cbr\\u003eNumber of Movies=%{marker.size}\\u003cextra\\u003e\\u003c\\u002fextra\\u003e\",\"legendgroup\":\"6.0\",\"marker\":{\"color\":\"#FF6692\",\"opacity\":0.7,\"size\":[1,1,1,1,1,1,1,1,1,2,1,1,1,1],\"sizemode\":\"area\",\"sizeref\":0.01,\"symbol\":\"circle\"},\"mode\":\"markers\",\"name\":\"6.0\",\"scene\":\"scene\",\"showlegend\":true,\"x\":[\"2015\",\"1969\",\"2014\",\"1999\",\"2010\",\"2003\",\"1993\",\"2007\",\"2016\",\"2000\",\"1979\",\"2008\",\"2005\",\"2004\"],\"y\":[\"6.0\",\"6.0\",\"6.0\",\"6.0\",\"6.0\",\"6.0\",\"6.0\",\"6.0\",\"6.0\",\"6.0\",\"6.0\",\"6.0\",\"6.0\",\"6.0\"],\"z\":[1,1,1,1,1,1,1,1,1,2,1,1,1,1],\"type\":\"scatter3d\"},{\"hovertemplate\":\"IMDB Rating=%{y}\\u003cbr\\u003eYear=%{x}\\u003cbr\\u003eNumber of Movies=%{marker.size}\\u003cextra\\u003e\\u003c\\u002fextra\\u003e\",\"legendgroup\":\"7.5\",\"marker\":{\"color\":\"#B6E880\",\"opacity\":0.7,\"size\":[1,1,1,2,1,2,1,1,1,1,1,1,2,1,1,1],\"sizemode\":\"area\",\"sizeref\":0.01,\"symbol\":\"circle\"},\"mode\":\"markers\",\"name\":\"7.5\",\"scene\":\"scene\",\"showlegend\":true,\"x\":[\"2011\",\"1932\",\"2017\",\"2014\",\"2013\",\"2002\",\"2020\",\"2016\",\"2004\",\"1937\",\"1940\",\"1935\",\"1953\",\"1933\",\"2018\",\"2005\"],\"y\":[\"7.5\",\"7.5\",\"7.5\",\"7.5\",\"7.5\",\"7.5\",\"7.5\",\"7.5\",\"7.5\",\"7.5\",\"7.5\",\"7.5\",\"7.5\",\"7.5\",\"7.5\",\"7.5\"],\"z\":[1,1,1,2,1,2,1,1,1,1,1,1,2,1,1,1],\"type\":\"scatter3d\"},{\"hovertemplate\":\"IMDB Rating=%{y}\\u003cbr\\u003eYear=%{x}\\u003cbr\\u003eNumber of Movies=%{marker.size}\\u003cextra\\u003e\\u003c\\u002fextra\\u003e\",\"legendgroup\":\"7.4\",\"marker\":{\"color\":\"#FF97FF\",\"opacity\":0.7,\"size\":[1,3,1,2,1,1,1,2,1,2,1,1,1,1,1,1],\"sizemode\":\"area\",\"sizeref\":0.01,\"symbol\":\"circle\"},\"mode\":\"markers\",\"name\":\"7.4\",\"scene\":\"scene\",\"showlegend\":true,\"x\":[\"2018\",\"2014\",\"2020\",\"1960\",\"2000\",\"2019\",\"1940\",\"2011\",\"2005\",\"1951\",\"2003\",\"1932\",\"2016\",\"1947\",\"1949\",\"1955\"],\"y\":[\"7.4\",\"7.4\",\"7.4\",\"7.4\",\"7.4\",\"7.4\",\"7.4\",\"7.4\",\"7.4\",\"7.4\",\"7.4\",\"7.4\",\"7.4\",\"7.4\",\"7.4\",\"7.4\"],\"z\":[1,3,1,2,1,1,1,2,1,2,1,1,1,1,1,1],\"type\":\"scatter3d\"},{\"hovertemplate\":\"IMDB Rating=%{y}\\u003cbr\\u003eYear=%{x}\\u003cbr\\u003eNumber of Movies=%{marker.size}\\u003cextra\\u003e\\u003c\\u002fextra\\u003e\",\"legendgroup\":\"7.8\",\"marker\":{\"color\":\"#FECB52\",\"opacity\":0.7,\"size\":[2,1,1,1,1,1,1,1,1,1,1,1],\"sizemode\":\"area\",\"sizeref\":0.01,\"symbol\":\"circle\"},\"mode\":\"markers\",\"name\":\"7.8\",\"scene\":\"scene\",\"showlegend\":true,\"x\":[\"2016\",\"2014\",\"2018\",\"1964\",\"1995\",\"1956\",\"1940\",\"1978\",\"2017\",\"2000\",\"2019\",\"2009\"],\"y\":[\"7.8\",\"7.8\",\"7.8\",\"7.8\",\"7.8\",\"7.8\",\"7.8\",\"7.8\",\"7.8\",\"7.8\",\"7.8\",\"7.8\"],\"z\":[2,1,1,1,1,1,1,1,1,1,1,1],\"type\":\"scatter3d\"},{\"hovertemplate\":\"IMDB Rating=%{y}\\u003cbr\\u003eYear=%{x}\\u003cbr\\u003eNumber of Movies=%{marker.size}\\u003cextra\\u003e\\u003c\\u002fextra\\u003e\",\"legendgroup\":\"7.9\",\"marker\":{\"color\":\"#636efa\",\"opacity\":0.7,\"size\":[1,1,1,1,1,1,1,1,3,1,1],\"sizemode\":\"area\",\"sizeref\":0.01,\"symbol\":\"circle\"},\"mode\":\"markers\",\"name\":\"7.9\",\"scene\":\"scene\",\"showlegend\":true,\"x\":[\"1999\",\"2015\",\"1935\",\"2003\",\"2006\",\"1938\",\"1937\",\"2008\",\"2017\",\"1947\",\"1997\"],\"y\":[\"7.9\",\"7.9\",\"7.9\",\"7.9\",\"7.9\",\"7.9\",\"7.9\",\"7.9\",\"7.9\",\"7.9\",\"7.9\"],\"z\":[1,1,1,1,1,1,1,1,3,1,1],\"type\":\"scatter3d\"},{\"hovertemplate\":\"IMDB Rating=%{y}\\u003cbr\\u003eYear=%{x}\\u003cbr\\u003eNumber of Movies=%{marker.size}\\u003cextra\\u003e\\u003c\\u002fextra\\u003e\",\"legendgroup\":\"7.3\",\"marker\":{\"color\":\"#EF553B\",\"opacity\":0.7,\"size\":[1,1,1,1,1,1,1,1,2,1,1,1,1,1,1,1,1,1,1,1,1,3,2,2],\"sizemode\":\"area\",\"sizeref\":0.01,\"symbol\":\"circle\"},\"mode\":\"markers\",\"name\":\"7.3\",\"scene\":\"scene\",\"showlegend\":true,\"x\":[\"2016\",\"1937\",\"1950\",\"1941\",\"1957\",\"2007\",\"1953\",\"2000\",\"1942\",\"1999\",\"2008\",\"2018\",\"1997\",\"1988\",\"2009\",\"2011\",\"1938\",\"1961\",\"1981\",\"1934\",\"1984\",\"2015\",\"2006\",\"1955\"],\"y\":[\"7.3\",\"7.3\",\"7.3\",\"7.3\",\"7.3\",\"7.3\",\"7.3\",\"7.3\",\"7.3\",\"7.3\",\"7.3\",\"7.3\",\"7.3\",\"7.3\",\"7.3\",\"7.3\",\"7.3\",\"7.3\",\"7.3\",\"7.3\",\"7.3\",\"7.3\",\"7.3\",\"7.3\"],\"z\":[1,1,1,1,1,1,1,1,2,1,1,1,1,1,1,1,1,1,1,1,1,3,2,2],\"type\":\"scatter3d\"},{\"hovertemplate\":\"IMDB Rating=%{y}\\u003cbr\\u003eYear=%{x}\\u003cbr\\u003eNumber of Movies=%{marker.size}\\u003cextra\\u003e\\u003c\\u002fextra\\u003e\",\"legendgroup\":\" O. Henry (story based on: \\\"\\\"The Gift of the Magi\\\"\\\")\",\"marker\":{\"color\":\"#00cc96\",\"opacity\":0.7,\"size\":[1],\"sizemode\":\"area\",\"sizeref\":0.01,\"symbol\":\"circle\"},\"mode\":\"markers\",\"name\":\" O. Henry (story based on: \\\"\\\"The Gift of the Magi\\\"\\\")\",\"scene\":\"scene\",\"showlegend\":true,\"x\":[\"1999\"],\"y\":[\" O. Henry (story based on: \\\"\\\"The Gift of the Magi\\\"\\\")\"],\"z\":[1],\"type\":\"scatter3d\"},{\"hovertemplate\":\"IMDB Rating=%{y}\\u003cbr\\u003eYear=%{x}\\u003cbr\\u003eNumber of Movies=%{marker.size}\\u003cextra\\u003e\\u003c\\u002fextra\\u003e\",\"legendgroup\":\"71\",\"marker\":{\"color\":\"#ab63fa\",\"opacity\":0.7,\"size\":[1],\"sizemode\":\"area\",\"sizeref\":0.01,\"symbol\":\"circle\"},\"mode\":\"markers\",\"name\":\"71\",\"scene\":\"scene\",\"showlegend\":true,\"x\":[\"2010\"],\"y\":[\"71\"],\"z\":[1],\"type\":\"scatter3d\"},{\"hovertemplate\":\"IMDB Rating=%{y}\\u003cbr\\u003eYear=%{x}\\u003cbr\\u003eNumber of Movies=%{marker.size}\\u003cextra\\u003e\\u003c\\u002fextra\\u003e\",\"legendgroup\":\"4.1\",\"marker\":{\"color\":\"#FFA15A\",\"opacity\":0.7,\"size\":[2,1,1],\"sizemode\":\"area\",\"sizeref\":0.01,\"symbol\":\"circle\"},\"mode\":\"markers\",\"name\":\"4.1\",\"scene\":\"scene\",\"showlegend\":true,\"x\":[\"1998\",\"1999\",\"2002\"],\"y\":[\"4.1\",\"4.1\",\"4.1\"],\"z\":[2,1,1],\"type\":\"scatter3d\"},{\"hovertemplate\":\"IMDB Rating=%{y}\\u003cbr\\u003eYear=%{x}\\u003cbr\\u003eNumber of Movies=%{marker.size}\\u003cextra\\u003e\\u003c\\u002fextra\\u003e\",\"legendgroup\":\"7.7\",\"marker\":{\"color\":\"#19d3f3\",\"opacity\":0.7,\"size\":[1,1,1,1,1,2,1,2,1,1,1,1],\"sizemode\":\"area\",\"sizeref\":0.01,\"symbol\":\"circle\"},\"mode\":\"markers\",\"name\":\"7.7\",\"scene\":\"scene\",\"showlegend\":true,\"x\":[\"1992\",\"2008\",\"2018\",\"2005\",\"2014\",\"2019\",\"1954\",\"1952\",\"2012\",\"1937\",\"1988\",\"1951\"],\"y\":[\"7.7\",\"7.7\",\"7.7\",\"7.7\",\"7.7\",\"7.7\",\"7.7\",\"7.7\",\"7.7\",\"7.7\",\"7.7\",\"7.7\"],\"z\":[1,1,1,1,1,2,1,2,1,1,1,1],\"type\":\"scatter3d\"},{\"hovertemplate\":\"IMDB Rating=%{y}\\u003cbr\\u003eYear=%{x}\\u003cbr\\u003eNumber of Movies=%{marker.size}\\u003cextra\\u003e\\u003c\\u002fextra\\u003e\",\"legendgroup\":\"Canada, USA\",\"marker\":{\"color\":\"#FF6692\",\"opacity\":0.7,\"size\":[1],\"sizemode\":\"area\",\"sizeref\":0.01,\"symbol\":\"circle\"},\"mode\":\"markers\",\"name\":\"Canada, USA\",\"scene\":\"scene\",\"showlegend\":true,\"x\":[\"2014\"],\"y\":[\"Canada, USA\"],\"z\":[1],\"type\":\"scatter3d\"},{\"hovertemplate\":\"IMDB Rating=%{y}\\u003cbr\\u003eYear=%{x}\\u003cbr\\u003eNumber of Movies=%{marker.size}\\u003cextra\\u003e\\u003c\\u002fextra\\u003e\",\"legendgroup\":\"6.1\",\"marker\":{\"color\":\"#B6E880\",\"opacity\":0.7,\"size\":[1,2,1,1,2,1,1,1,3,2,1,1,1,1,1,1,1],\"sizemode\":\"area\",\"sizeref\":0.01,\"symbol\":\"circle\"},\"mode\":\"markers\",\"name\":\"6.1\",\"scene\":\"scene\",\"showlegend\":true,\"x\":[\"2018\",\"2000\",\"1989\",\"1997\",\"2015\",\"2010\",\"1979\",\"2011\",\"2003\",\"2002\",\"1994\",\"2020\",\"2007\",\"2016\",\"1978\",\"2006\",\"1975\"],\"y\":[\"6.1\",\"6.1\",\"6.1\",\"6.1\",\"6.1\",\"6.1\",\"6.1\",\"6.1\",\"6.1\",\"6.1\",\"6.1\",\"6.1\",\"6.1\",\"6.1\",\"6.1\",\"6.1\",\"6.1\"],\"z\":[1,2,1,1,2,1,1,1,3,2,1,1,1,1,1,1,1],\"type\":\"scatter3d\"},{\"hovertemplate\":\"IMDB Rating=%{y}\\u003cbr\\u003eYear=%{x}\\u003cbr\\u003eNumber of Movies=%{marker.size}\\u003cextra\\u003e\\u003c\\u002fextra\\u003e\",\"legendgroup\":\"Joey Lawrence, Billy Joel, Cheech Marin, Richard Mulligan\",\"marker\":{\"color\":\"#FF97FF\",\"opacity\":0.7,\"size\":[1],\"sizemode\":\"area\",\"sizeref\":0.01,\"symbol\":\"circle\"},\"mode\":\"markers\",\"name\":\"Joey Lawrence, Billy Joel, Cheech Marin, Richard Mulligan\",\"scene\":\"scene\",\"showlegend\":true,\"x\":[\"1988\"],\"y\":[\"Joey Lawrence, Billy Joel, Cheech Marin, Richard Mulligan\"],\"z\":[1],\"type\":\"scatter3d\"},{\"hovertemplate\":\"IMDB Rating=%{y}\\u003cbr\\u003eYear=%{x}\\u003cbr\\u003eNumber of Movies=%{marker.size}\\u003cextra\\u003e\\u003c\\u002fextra\\u003e\",\"legendgroup\":\"6.6\",\"marker\":{\"color\":\"#FECB52\",\"opacity\":0.7,\"size\":[1,1,1,1,2,1,1,1,1,1,1,1,1,2,1,1,1],\"sizemode\":\"area\",\"sizeref\":0.01,\"symbol\":\"circle\"},\"mode\":\"markers\",\"name\":\"6.6\",\"scene\":\"scene\",\"showlegend\":true,\"x\":[\"2017\",\"2014\",\"1942\",\"1981\",\"2012\",\"2002\",\"2006\",\"1948\",\"1994\",\"2004\",\"2011\",\"2009\",\"1967\",\"2001\",\"1985\",\"1980\",\"1995\"],\"y\":[\"6.6\",\"6.6\",\"6.6\",\"6.6\",\"6.6\",\"6.6\",\"6.6\",\"6.6\",\"6.6\",\"6.6\",\"6.6\",\"6.6\",\"6.6\",\"6.6\",\"6.6\",\"6.6\",\"6.6\"],\"z\":[1,1,1,1,2,1,1,1,1,1,1,1,1,2,1,1,1],\"type\":\"scatter3d\"},{\"hovertemplate\":\"IMDB Rating=%{y}\\u003cbr\\u003eYear=%{x}\\u003cbr\\u003eNumber of Movies=%{marker.size}\\u003cextra\\u003e\\u003c\\u002fextra\\u003e\",\"legendgroup\":\"7.2\",\"marker\":{\"color\":\"#636efa\",\"opacity\":0.7,\"size\":[1,1,1,1,1,1,1,1,1,1,1,2,1,1,1,1,1,1,1,1,1,2,2],\"sizemode\":\"area\",\"sizeref\":0.01,\"symbol\":\"circle\"},\"mode\":\"markers\",\"name\":\"7.2\",\"scene\":\"scene\",\"showlegend\":true,\"x\":[\"1960\",\"1998\",\"2011\",\"1999\",\"1959\",\"2001\",\"2019\",\"1963\",\"1961\",\"1952\",\"2012\",\"1954\",\"1940\",\"1981\",\"1957\",\"2002\",\"1937\",\"1944\",\"1935\",\"1938\",\"2016\",\"2010\",\"2006\"],\"y\":[\"7.2\",\"7.2\",\"7.2\",\"7.2\",\"7.2\",\"7.2\",\"7.2\",\"7.2\",\"7.2\",\"7.2\",\"7.2\",\"7.2\",\"7.2\",\"7.2\",\"7.2\",\"7.2\",\"7.2\",\"7.2\",\"7.2\",\"7.2\",\"7.2\",\"7.2\",\"7.2\"],\"z\":[1,1,1,1,1,1,1,1,1,1,1,2,1,1,1,1,1,1,1,1,1,2,2],\"type\":\"scatter3d\"},{\"hovertemplate\":\"IMDB Rating=%{y}\\u003cbr\\u003eYear=%{x}\\u003cbr\\u003eNumber of Movies=%{marker.size}\\u003cextra\\u003e\\u003c\\u002fextra\\u003e\",\"legendgroup\":\"7.6\",\"marker\":{\"color\":\"#EF553B\",\"opacity\":0.7,\"size\":[1,1,1,1,1,1,1,2,1,1,1,1,1,1,1,1,1,1,1,1,1],\"sizemode\":\"area\",\"sizeref\":0.01,\"symbol\":\"circle\"},\"mode\":\"markers\",\"name\":\"7.6\",\"scene\":\"scene\",\"showlegend\":true,\"x\":[\"2013\",\"1949\",\"1977\",\"2018\",\"2016\",\"1998\",\"1937\",\"2020\",\"1979\",\"2011\",\"2017\",\"2014\",\"1939\",\"1928\",\"1967\",\"1955\",\"1951\",\"2005\",\"2009\",\"1989\",\"1973\"],\"y\":[\"7.6\",\"7.6\",\"7.6\",\"7.6\",\"7.6\",\"7.6\",\"7.6\",\"7.6\",\"7.6\",\"7.6\",\"7.6\",\"7.6\",\"7.6\",\"7.6\",\"7.6\",\"7.6\",\"7.6\",\"7.6\",\"7.6\",\"7.6\",\"7.6\"],\"z\":[1,1,1,1,1,1,1,2,1,1,1,1,1,1,1,1,1,1,1,1,1],\"type\":\"scatter3d\"},{\"hovertemplate\":\"IMDB Rating=%{y}\\u003cbr\\u003eYear=%{x}\\u003cbr\\u003eNumber of Movies=%{marker.size}\\u003cextra\\u003e\\u003c\\u002fextra\\u003e\",\"legendgroup\":\"6.7\",\"marker\":{\"color\":\"#00cc96\",\"opacity\":0.7,\"size\":[2,1,1,1,1,1,1,1,1,1,4,1,1,1,1,1,1,1,1,1,1],\"sizemode\":\"area\",\"sizeref\":0.01,\"symbol\":\"circle\"},\"mode\":\"markers\",\"name\":\"6.7\",\"scene\":\"scene\",\"showlegend\":true,\"x\":[\"2019\",\"1985\",\"1990\",\"1996\",\"1952\",\"1991\",\"1941\",\"2014\",\"2003\",\"1966\",\"2020\",\"2015\",\"1995\",\"2017\",\"2012\",\"1999\",\"2002\",\"2016\",\"1939\",\"2009\",\"1933\"],\"y\":[\"6.7\",\"6.7\",\"6.7\",\"6.7\",\"6.7\",\"6.7\",\"6.7\",\"6.7\",\"6.7\",\"6.7\",\"6.7\",\"6.7\",\"6.7\",\"6.7\",\"6.7\",\"6.7\",\"6.7\",\"6.7\",\"6.7\",\"6.7\",\"6.7\"],\"z\":[2,1,1,1,1,1,1,1,1,1,4,1,1,1,1,1,1,1,1,1,1],\"type\":\"scatter3d\"},{\"hovertemplate\":\"IMDB Rating=%{y}\\u003cbr\\u003eYear=%{x}\\u003cbr\\u003eNumber of Movies=%{marker.size}\\u003cextra\\u003e\\u003c\\u002fextra\\u003e\",\"legendgroup\":\"2.3\",\"marker\":{\"color\":\"#ab63fa\",\"opacity\":0.7,\"size\":[1],\"sizemode\":\"area\",\"sizeref\":0.01,\"symbol\":\"circle\"},\"mode\":\"markers\",\"name\":\"2.3\",\"scene\":\"scene\",\"showlegend\":true,\"x\":[\"2008\"],\"y\":[\"2.3\"],\"z\":[1],\"type\":\"scatter3d\"},{\"hovertemplate\":\"IMDB Rating=%{y}\\u003cbr\\u003eYear=%{x}\\u003cbr\\u003eNumber of Movies=%{marker.size}\\u003cextra\\u003e\\u003c\\u002fextra\\u003e\",\"legendgroup\":\"8.0\",\"marker\":{\"color\":\"#FFA15A\",\"opacity\":0.7,\"size\":[1,1,1,1,1,1,1,1,1,1,1,1,1,1],\"sizemode\":\"area\",\"sizeref\":0.01,\"symbol\":\"circle\"},\"mode\":\"markers\",\"name\":\"8.0\",\"scene\":\"scene\",\"showlegend\":true,\"x\":[\"1993\",\"2016\",\"1965\",\"2012\",\"2014\",\"2019\",\"1999\",\"1992\",\"1991\",\"2004\",\"2007\",\"2011\",\"2001\",\"2000\"],\"y\":[\"8.0\",\"8.0\",\"8.0\",\"8.0\",\"8.0\",\"8.0\",\"8.0\",\"8.0\",\"8.0\",\"8.0\",\"8.0\",\"8.0\",\"8.0\",\"8.0\"],\"z\":[1,1,1,1,1,1,1,1,1,1,1,1,1,1],\"type\":\"scatter3d\"},{\"hovertemplate\":\"IMDB Rating=%{y}\\u003cbr\\u003eYear=%{x}\\u003cbr\\u003eNumber of Movies=%{marker.size}\\u003cextra\\u003e\\u003c\\u002fextra\\u003e\",\"legendgroup\":\"5.9\",\"marker\":{\"color\":\"#19d3f3\",\"opacity\":0.7,\"size\":[2,2,1,1,1,1,1,1,1,1,1,1,1,1,1,1,2],\"sizemode\":\"area\",\"sizeref\":0.01,\"symbol\":\"circle\"},\"mode\":\"markers\",\"name\":\"5.9\",\"scene\":\"scene\",\"showlegend\":true,\"x\":[\"1976\",\"2001\",\"2007\",\"1978\",\"2003\",\"1994\",\"1996\",\"2004\",\"2012\",\"2008\",\"1974\",\"2013\",\"1971\",\"1995\",\"2018\",\"2016\",\"2000\"],\"y\":[\"5.9\",\"5.9\",\"5.9\",\"5.9\",\"5.9\",\"5.9\",\"5.9\",\"5.9\",\"5.9\",\"5.9\",\"5.9\",\"5.9\",\"5.9\",\"5.9\",\"5.9\",\"5.9\",\"5.9\"],\"z\":[2,2,1,1,1,1,1,1,1,1,1,1,1,1,1,1,2],\"type\":\"scatter3d\"},{\"hovertemplate\":\"IMDB Rating=%{y}\\u003cbr\\u003eYear=%{x}\\u003cbr\\u003eNumber of Movies=%{marker.size}\\u003cextra\\u003e\\u003c\\u002fextra\\u003e\",\"legendgroup\":\"7.0\",\"marker\":{\"color\":\"#FF6692\",\"opacity\":0.7,\"size\":[1,1,1,1,1,1,2,1,1,1,1,1,1,1,1,2,1,1,1],\"sizemode\":\"area\",\"sizeref\":0.01,\"symbol\":\"circle\"},\"mode\":\"markers\",\"name\":\"7.0\",\"scene\":\"scene\",\"showlegend\":true,\"x\":[\"1985\",\"1955\",\"2011\",\"1942\",\"1952\",\"1998\",\"2003\",\"1996\",\"2010\",\"1993\",\"1946\",\"2009\",\"1943\",\"2019\",\"1959\",\"2017\",\"1936\",\"1940\",\"1992\"],\"y\":[\"7.0\",\"7.0\",\"7.0\",\"7.0\",\"7.0\",\"7.0\",\"7.0\",\"7.0\",\"7.0\",\"7.0\",\"7.0\",\"7.0\",\"7.0\",\"7.0\",\"7.0\",\"7.0\",\"7.0\",\"7.0\",\"7.0\"],\"z\":[1,1,1,1,1,1,2,1,1,1,1,1,1,1,1,2,1,1,1],\"type\":\"scatter3d\"},{\"hovertemplate\":\"IMDB Rating=%{y}\\u003cbr\\u003eYear=%{x}\\u003cbr\\u003eNumber of Movies=%{marker.size}\\u003cextra\\u003e\\u003c\\u002fextra\\u003e\",\"legendgroup\":\" Ted Berman (story)\",\"marker\":{\"color\":\"#B6E880\",\"opacity\":0.7,\"size\":[1],\"sizemode\":\"area\",\"sizeref\":0.01,\"symbol\":\"circle\"},\"mode\":\"markers\",\"name\":\" Ted Berman (story)\",\"scene\":\"scene\",\"showlegend\":true,\"x\":[\"1977\"],\"y\":[\" Ted Berman (story)\"],\"z\":[1],\"type\":\"scatter3d\"},{\"hovertemplate\":\"IMDB Rating=%{y}\\u003cbr\\u003eYear=%{x}\\u003cbr\\u003eNumber of Movies=%{marker.size}\\u003cextra\\u003e\\u003c\\u002fextra\\u003e\",\"legendgroup\":\"73\",\"marker\":{\"color\":\"#FF97FF\",\"opacity\":0.7,\"size\":[1],\"sizemode\":\"area\",\"sizeref\":0.01,\"symbol\":\"circle\"},\"mode\":\"markers\",\"name\":\"73\",\"scene\":\"scene\",\"showlegend\":true,\"x\":[\"1986\"],\"y\":[\"73\"],\"z\":[1],\"type\":\"scatter3d\"},{\"hovertemplate\":\"IMDB Rating=%{y}\\u003cbr\\u003eYear=%{x}\\u003cbr\\u003eNumber of Movies=%{marker.size}\\u003cextra\\u003e\\u003c\\u002fextra\\u003e\",\"legendgroup\":\"6.3\",\"marker\":{\"color\":\"#FECB52\",\"opacity\":0.7,\"size\":[2,3,1,1,1,3,1,1,1,1,1,1,1,1,1,2],\"sizemode\":\"area\",\"sizeref\":0.01,\"symbol\":\"circle\"},\"mode\":\"markers\",\"name\":\"6.3\",\"scene\":\"scene\",\"showlegend\":true,\"x\":[\"1976\",\"2005\",\"1994\",\"2008\",\"1989\",\"1999\",\"1987\",\"2011\",\"2001\",\"1961\",\"2009\",\"2000\",\"1997\",\"2003\",\"2018\",\"2019\"],\"y\":[\"6.3\",\"6.3\",\"6.3\",\"6.3\",\"6.3\",\"6.3\",\"6.3\",\"6.3\",\"6.3\",\"6.3\",\"6.3\",\"6.3\",\"6.3\",\"6.3\",\"6.3\",\"6.3\"],\"z\":[2,3,1,1,1,3,1,1,1,1,1,1,1,1,1,2],\"type\":\"scatter3d\"},{\"hovertemplate\":\"IMDB Rating=%{y}\\u003cbr\\u003eYear=%{x}\\u003cbr\\u003eNumber of Movies=%{marker.size}\\u003cextra\\u003e\\u003c\\u002fextra\\u003e\",\"legendgroup\":\"6.5\",\"marker\":{\"color\":\"#636efa\",\"opacity\":0.7,\"size\":[1,1,1,2,1,1,1,1,2,1,2,1,2,2,1,1,1,1,1,1,1],\"sizemode\":\"area\",\"sizeref\":0.01,\"symbol\":\"circle\"},\"mode\":\"markers\",\"name\":\"6.5\",\"scene\":\"scene\",\"showlegend\":true,\"x\":[\"1975\",\"1994\",\"1952\",\"1998\",\"1986\",\"2012\",\"1940\",\"1988\",\"2000\",\"2003\",\"2017\",\"2013\",\"1972\",\"2008\",\"1959\",\"2002\",\"1944\",\"1968\",\"2004\",\"1999\",\"2007\"],\"y\":[\"6.5\",\"6.5\",\"6.5\",\"6.5\",\"6.5\",\"6.5\",\"6.5\",\"6.5\",\"6.5\",\"6.5\",\"6.5\",\"6.5\",\"6.5\",\"6.5\",\"6.5\",\"6.5\",\"6.5\",\"6.5\",\"6.5\",\"6.5\",\"6.5\"],\"z\":[1,1,1,2,1,1,1,1,2,1,2,1,2,2,1,1,1,1,1,1,1],\"type\":\"scatter3d\"},{\"hovertemplate\":\"IMDB Rating=%{y}\\u003cbr\\u003eYear=%{x}\\u003cbr\\u003eNumber of Movies=%{marker.size}\\u003cextra\\u003e\\u003c\\u002fextra\\u003e\",\"legendgroup\":\"8.2\",\"marker\":{\"color\":\"#EF553B\",\"opacity\":0.7,\"size\":[2,1,1],\"sizemode\":\"area\",\"sizeref\":0.01,\"symbol\":\"circle\"},\"mode\":\"markers\",\"name\":\"8.2\",\"scene\":\"scene\",\"showlegend\":true,\"x\":[\"2018\",\"2015\",\"2009\"],\"y\":[\"8.2\",\"8.2\",\"8.2\"],\"z\":[2,1,1],\"type\":\"scatter3d\"},{\"hovertemplate\":\"IMDB Rating=%{y}\\u003cbr\\u003eYear=%{x}\\u003cbr\\u003eNumber of Movies=%{marker.size}\\u003cextra\\u003e\\u003c\\u002fextra\\u003e\",\"legendgroup\":\"7.1\",\"marker\":{\"color\":\"#00cc96\",\"opacity\":0.7,\"size\":[1,2,1,1,1,1,1,2,2,1,2,1,2,1,2,1,1,1,1,1,1,2,1,1,2],\"sizemode\":\"area\",\"sizeref\":0.01,\"symbol\":\"circle\"},\"mode\":\"markers\",\"name\":\"7.1\",\"scene\":\"scene\",\"showlegend\":true,\"x\":[\"1990\",\"2007\",\"2019\",\"1963\",\"2009\",\"1941\",\"1940\",\"1942\",\"2011\",\"1962\",\"1939\",\"1977\",\"1934\",\"1997\",\"2012\",\"2005\",\"1950\",\"1958\",\"1970\",\"2002\",\"1971\",\"2018\",\"1961\",\"2014\",\"2006\"],\"y\":[\"7.1\",\"7.1\",\"7.1\",\"7.1\",\"7.1\",\"7.1\",\"7.1\",\"7.1\",\"7.1\",\"7.1\",\"7.1\",\"7.1\",\"7.1\",\"7.1\",\"7.1\",\"7.1\",\"7.1\",\"7.1\",\"7.1\",\"7.1\",\"7.1\",\"7.1\",\"7.1\",\"7.1\",\"7.1\"],\"z\":[1,2,1,1,1,1,1,2,2,1,2,1,2,1,2,1,1,1,1,1,1,2,1,1,2],\"type\":\"scatter3d\"},{\"hovertemplate\":\"IMDB Rating=%{y}\\u003cbr\\u003eYear=%{x}\\u003cbr\\u003eNumber of Movies=%{marker.size}\\u003cextra\\u003e\\u003c\\u002fextra\\u003e\",\"legendgroup\":\"8.5\",\"marker\":{\"color\":\"#ab63fa\",\"opacity\":0.7,\"size\":[1,1],\"sizemode\":\"area\",\"sizeref\":0.01,\"symbol\":\"circle\"},\"mode\":\"markers\",\"name\":\"8.5\",\"scene\":\"scene\",\"showlegend\":true,\"x\":[\"2017\",\"1994\"],\"y\":[\"8.5\",\"8.5\"],\"z\":[1,1],\"type\":\"scatter3d\"},{\"hovertemplate\":\"IMDB Rating=%{y}\\u003cbr\\u003eYear=%{x}\\u003cbr\\u003eNumber of Movies=%{marker.size}\\u003cextra\\u003e\\u003c\\u002fextra\\u003e\",\"legendgroup\":\"5.5\",\"marker\":{\"color\":\"#FFA15A\",\"opacity\":0.7,\"size\":[1,1,1,1,1,1,1,1,2,1,1,1,1],\"sizemode\":\"area\",\"sizeref\":0.01,\"symbol\":\"circle\"},\"mode\":\"markers\",\"name\":\"5.5\",\"scene\":\"scene\",\"showlegend\":true,\"x\":[\"1998\",\"2017\",\"2002\",\"2001\",\"1995\",\"2006\",\"2003\",\"2014\",\"2019\",\"2012\",\"2011\",\"2005\",\"2007\"],\"y\":[\"5.5\",\"5.5\",\"5.5\",\"5.5\",\"5.5\",\"5.5\",\"5.5\",\"5.5\",\"5.5\",\"5.5\",\"5.5\",\"5.5\",\"5.5\"],\"z\":[1,1,1,1,1,1,1,1,2,1,1,1,1],\"type\":\"scatter3d\"},{\"hovertemplate\":\"IMDB Rating=%{y}\\u003cbr\\u003eYear=%{x}\\u003cbr\\u003eNumber of Movies=%{marker.size}\\u003cextra\\u003e\\u003c\\u002fextra\\u003e\",\"legendgroup\":\"6.9\",\"marker\":{\"color\":\"#19d3f3\",\"opacity\":0.7,\"size\":[1,3,1,1,2,1,1,2,1,1,1,1,1,1,1,1,1,1,2,1,1,1,1],\"sizemode\":\"area\",\"sizeref\":0.01,\"symbol\":\"circle\"},\"mode\":\"markers\",\"name\":\"6.9\",\"scene\":\"scene\",\"showlegend\":true,\"x\":[\"2015\",\"2019\",\"1952\",\"1968\",\"1993\",\"1939\",\"2004\",\"1990\",\"1946\",\"1999\",\"2010\",\"2001\",\"1963\",\"1986\",\"2013\",\"2012\",\"1936\",\"1950\",\"2011\",\"1935\",\"2005\",\"2002\",\"1934\"],\"y\":[\"6.9\",\"6.9\",\"6.9\",\"6.9\",\"6.9\",\"6.9\",\"6.9\",\"6.9\",\"6.9\",\"6.9\",\"6.9\",\"6.9\",\"6.9\",\"6.9\",\"6.9\",\"6.9\",\"6.9\",\"6.9\",\"6.9\",\"6.9\",\"6.9\",\"6.9\",\"6.9\"],\"z\":[1,3,1,1,2,1,1,2,1,1,1,1,1,1,1,1,1,1,2,1,1,1,1],\"type\":\"scatter3d\"},{\"hovertemplate\":\"IMDB Rating=%{y}\\u003cbr\\u003eYear=%{x}\\u003cbr\\u003eNumber of Movies=%{marker.size}\\u003cextra\\u003e\\u003c\\u002fextra\\u003e\",\"legendgroup\":\"5.8\",\"marker\":{\"color\":\"#FF6692\",\"opacity\":0.7,\"size\":[1,1,2,2,1,3],\"sizemode\":\"area\",\"sizeref\":0.01,\"symbol\":\"circle\"},\"mode\":\"markers\",\"name\":\"5.8\",\"scene\":\"scene\",\"showlegend\":true,\"x\":[\"2008\",\"1996\",\"2005\",\"2004\",\"2007\",\"2002\"],\"y\":[\"5.8\",\"5.8\",\"5.8\",\"5.8\",\"5.8\",\"5.8\"],\"z\":[1,1,2,2,1,3],\"type\":\"scatter3d\"},{\"hovertemplate\":\"IMDB Rating=%{y}\\u003cbr\\u003eYear=%{x}\\u003cbr\\u003eNumber of Movies=%{marker.size}\\u003cextra\\u003e\\u003c\\u002fextra\\u003e\",\"legendgroup\":\"5.1\",\"marker\":{\"color\":\"#B6E880\",\"opacity\":0.7,\"size\":[1,1,1,1,1,1,1,1],\"sizemode\":\"area\",\"sizeref\":0.01,\"symbol\":\"circle\"},\"mode\":\"markers\",\"name\":\"5.1\",\"scene\":\"scene\",\"showlegend\":true,\"x\":[\"1995\",\"2009\",\"1999\",\"2017\",\"2018\",\"2003\",\"2002\",\"2001\"],\"y\":[\"5.1\",\"5.1\",\"5.1\",\"5.1\",\"5.1\",\"5.1\",\"5.1\",\"5.1\"],\"z\":[1,1,1,1,1,1,1,1],\"type\":\"scatter3d\"},{\"hovertemplate\":\"IMDB Rating=%{y}\\u003cbr\\u003eYear=%{x}\\u003cbr\\u003eNumber of Movies=%{marker.size}\\u003cextra\\u003e\\u003c\\u002fextra\\u003e\",\"legendgroup\":\"4.7\",\"marker\":{\"color\":\"#FF97FF\",\"opacity\":0.7,\"size\":[1,1,1,1,1,1,2,1,1,1],\"sizemode\":\"area\",\"sizeref\":0.01,\"symbol\":\"circle\"},\"mode\":\"markers\",\"name\":\"4.7\",\"scene\":\"scene\",\"showlegend\":true,\"x\":[\"1995\",\"2013\",\"1997\",\"1998\",\"2020\",\"2006\",\"2001\",\"2008\",\"2002\",\"2011\"],\"y\":[\"4.7\",\"4.7\",\"4.7\",\"4.7\",\"4.7\",\"4.7\",\"4.7\",\"4.7\",\"4.7\",\"4.7\"],\"z\":[1,1,1,1,1,1,2,1,1,1],\"type\":\"scatter3d\"},{\"hovertemplate\":\"IMDB Rating=%{y}\\u003cbr\\u003eYear=%{x}\\u003cbr\\u003eNumber of Movies=%{marker.size}\\u003cextra\\u003e\\u003c\\u002fextra\\u003e\",\"legendgroup\":\"3.6\",\"marker\":{\"color\":\"#FECB52\",\"opacity\":0.7,\"size\":[1],\"sizemode\":\"area\",\"sizeref\":0.01,\"symbol\":\"circle\"},\"mode\":\"markers\",\"name\":\"3.6\",\"scene\":\"scene\",\"showlegend\":true,\"x\":[\"2019\"],\"y\":[\"3.6\"],\"z\":[1],\"type\":\"scatter3d\"},{\"hovertemplate\":\"IMDB Rating=%{y}\\u003cbr\\u003eYear=%{x}\\u003cbr\\u003eNumber of Movies=%{marker.size}\\u003cextra\\u003e\\u003c\\u002fextra\\u003e\",\"legendgroup\":\"6.2\",\"marker\":{\"color\":\"#636efa\",\"opacity\":0.7,\"size\":[1,1,2,1,1,1,2,2,2,1,1,1,2,1,1,1,1,1,1,1],\"sizemode\":\"area\",\"sizeref\":0.01,\"symbol\":\"circle\"},\"mode\":\"markers\",\"name\":\"6.2\",\"scene\":\"scene\",\"showlegend\":true,\"x\":[\"2009\",\"1964\",\"2004\",\"2010\",\"1999\",\"1971\",\"2003\",\"2006\",\"2000\",\"2017\",\"2020\",\"2012\",\"2001\",\"1974\",\"1989\",\"2019\",\"1962\",\"1984\",\"1993\",\"1942\"],\"y\":[\"6.2\",\"6.2\",\"6.2\",\"6.2\",\"6.2\",\"6.2\",\"6.2\",\"6.2\",\"6.2\",\"6.2\",\"6.2\",\"6.2\",\"6.2\",\"6.2\",\"6.2\",\"6.2\",\"6.2\",\"6.2\",\"6.2\",\"6.2\"],\"z\":[1,1,2,1,1,1,2,2,2,1,1,1,2,1,1,1,1,1,1,1],\"type\":\"scatter3d\"},{\"hovertemplate\":\"IMDB Rating=%{y}\\u003cbr\\u003eYear=%{x}\\u003cbr\\u003eNumber of Movies=%{marker.size}\\u003cextra\\u003e\\u003c\\u002fextra\\u003e\",\"legendgroup\":\"5.3\",\"marker\":{\"color\":\"#EF553B\",\"opacity\":0.7,\"size\":[1,2,1,1,1,1,2],\"sizemode\":\"area\",\"sizeref\":0.01,\"symbol\":\"circle\"},\"mode\":\"markers\",\"name\":\"5.3\",\"scene\":\"scene\",\"showlegend\":true,\"x\":[\"1994\",\"2007\",\"2004\",\"2011\",\"1979\",\"2000\",\"2006\"],\"y\":[\"5.3\",\"5.3\",\"5.3\",\"5.3\",\"5.3\",\"5.3\",\"5.3\"],\"z\":[1,2,1,1,1,1,2],\"type\":\"scatter3d\"},{\"hovertemplate\":\"IMDB Rating=%{y}\\u003cbr\\u003eYear=%{x}\\u003cbr\\u003eNumber of Movies=%{marker.size}\\u003cextra\\u003e\\u003c\\u002fextra\\u003e\",\"legendgroup\":\"5.0\",\"marker\":{\"color\":\"#00cc96\",\"opacity\":0.7,\"size\":[1,1,1,1,1,1,1,1,1,2,1],\"sizemode\":\"area\",\"sizeref\":0.01,\"symbol\":\"circle\"},\"mode\":\"markers\",\"name\":\"5.0\",\"scene\":\"scene\",\"showlegend\":true,\"x\":[\"2001\",\"2019\",\"1980\",\"2003\",\"1997\",\"2012\",\"2009\",\"2006\",\"2000\",\"1999\",\"2007\"],\"y\":[\"5.0\",\"5.0\",\"5.0\",\"5.0\",\"5.0\",\"5.0\",\"5.0\",\"5.0\",\"5.0\",\"5.0\",\"5.0\"],\"z\":[1,1,1,1,1,1,1,1,1,2,1],\"type\":\"scatter3d\"},{\"hovertemplate\":\"IMDB Rating=%{y}\\u003cbr\\u003eYear=%{x}\\u003cbr\\u003eNumber of Movies=%{marker.size}\\u003cextra\\u003e\\u003c\\u002fextra\\u003e\",\"legendgroup\":\" Milt Banta (additional story)\\\"\",\"marker\":{\"color\":\"#ab63fa\",\"opacity\":0.7,\"size\":[1],\"sizemode\":\"area\",\"sizeref\":0.01,\"symbol\":\"circle\"},\"mode\":\"markers\",\"name\":\" Milt Banta (additional story)\\\"\",\"scene\":\"scene\",\"showlegend\":true,\"x\":[\"1959\"],\"y\":[\" Milt Banta (additional story)\\\"\"],\"z\":[1],\"type\":\"scatter3d\"},{\"hovertemplate\":\"IMDB Rating=%{y}\\u003cbr\\u003eYear=%{x}\\u003cbr\\u003eNumber of Movies=%{marker.size}\\u003cextra\\u003e\\u003c\\u002fextra\\u003e\",\"legendgroup\":\"5.4\",\"marker\":{\"color\":\"#FFA15A\",\"opacity\":0.7,\"size\":[1,1,1,2,1,1,1,2,2],\"sizemode\":\"area\",\"sizeref\":0.01,\"symbol\":\"circle\"},\"mode\":\"markers\",\"name\":\"5.4\",\"scene\":\"scene\",\"showlegend\":true,\"x\":[\"1997\",\"2010\",\"2017\",\"2009\",\"2003\",\"1998\",\"2005\",\"2006\",\"2011\"],\"y\":[\"5.4\",\"5.4\",\"5.4\",\"5.4\",\"5.4\",\"5.4\",\"5.4\",\"5.4\",\"5.4\"],\"z\":[1,1,1,2,1,1,1,2,2],\"type\":\"scatter3d\"},{\"hovertemplate\":\"IMDB Rating=%{y}\\u003cbr\\u003eYear=%{x}\\u003cbr\\u003eNumber of Movies=%{marker.size}\\u003cextra\\u003e\\u003c\\u002fextra\\u003e\",\"legendgroup\":\"4.8\",\"marker\":{\"color\":\"#19d3f3\",\"opacity\":0.7,\"size\":[1,1,1,1,1,1],\"sizemode\":\"area\",\"sizeref\":0.01,\"symbol\":\"circle\"},\"mode\":\"markers\",\"name\":\"4.8\",\"scene\":\"scene\",\"showlegend\":true,\"x\":[\"2008\",\"2005\",\"2004\",\"2018\",\"1992\",\"2003\"],\"y\":[\"4.8\",\"4.8\",\"4.8\",\"4.8\",\"4.8\",\"4.8\"],\"z\":[1,1,1,1,1,1],\"type\":\"scatter3d\"},{\"hovertemplate\":\"IMDB Rating=%{y}\\u003cbr\\u003eYear=%{x}\\u003cbr\\u003eNumber of Movies=%{marker.size}\\u003cextra\\u003e\\u003c\\u002fextra\\u003e\",\"legendgroup\":\" Ted Elliott (animation story by)\",\"marker\":{\"color\":\"#FF6692\",\"opacity\":0.7,\"size\":[1],\"sizemode\":\"area\",\"sizeref\":0.01,\"symbol\":\"circle\"},\"mode\":\"markers\",\"name\":\" Ted Elliott (animation story by)\",\"scene\":\"scene\",\"showlegend\":true,\"x\":[\"2002\"],\"y\":[\" Ted Elliott (animation story by)\"],\"z\":[1],\"type\":\"scatter3d\"},{\"hovertemplate\":\"IMDB Rating=%{y}\\u003cbr\\u003eYear=%{x}\\u003cbr\\u003eNumber of Movies=%{marker.size}\\u003cextra\\u003e\\u003c\\u002fextra\\u003e\",\"legendgroup\":\"USA\",\"marker\":{\"color\":\"#B6E880\",\"opacity\":0.7,\"size\":[1,1],\"sizemode\":\"area\",\"sizeref\":0.01,\"symbol\":\"circle\"},\"mode\":\"markers\",\"name\":\"USA\",\"scene\":\"scene\",\"showlegend\":true,\"x\":[\"2013\",\"1990\"],\"y\":[\"USA\",\"USA\"],\"z\":[1,1],\"type\":\"scatter3d\"},{\"hovertemplate\":\"IMDB Rating=%{y}\\u003cbr\\u003eYear=%{x}\\u003cbr\\u003eNumber of Movies=%{marker.size}\\u003cextra\\u003e\\u003c\\u002fextra\\u003e\",\"legendgroup\":\"N\\u002fA\",\"marker\":{\"color\":\"#FF97FF\",\"opacity\":0.7,\"size\":[1,1,1,2],\"sizemode\":\"area\",\"sizeref\":0.01,\"symbol\":\"circle\"},\"mode\":\"markers\",\"name\":\"N\\u002fA\",\"scene\":\"scene\",\"showlegend\":true,\"x\":[\"2017\",\"2004\",\"2013\",\"2019\"],\"y\":[\"N\\u002fA\",\"N\\u002fA\",\"N\\u002fA\",\"N\\u002fA\"],\"z\":[1,1,1,2],\"type\":\"scatter3d\"},{\"hovertemplate\":\"IMDB Rating=%{y}\\u003cbr\\u003eYear=%{x}\\u003cbr\\u003eNumber of Movies=%{marker.size}\\u003cextra\\u003e\\u003c\\u002fextra\\u003e\",\"legendgroup\":\"Billy Campbell, Jennifer Connelly, Alan Arkin, Timothy Dalton\",\"marker\":{\"color\":\"#FECB52\",\"opacity\":0.7,\"size\":[1],\"sizemode\":\"area\",\"sizeref\":0.01,\"symbol\":\"circle\"},\"mode\":\"markers\",\"name\":\"Billy Campbell, Jennifer Connelly, Alan Arkin, Timothy Dalton\",\"scene\":\"scene\",\"showlegend\":true,\"x\":[\"1991\"],\"y\":[\"Billy Campbell, Jennifer Connelly, Alan Arkin, Timothy Dalton\"],\"z\":[1],\"type\":\"scatter3d\"},{\"hovertemplate\":\"IMDB Rating=%{y}\\u003cbr\\u003eYear=%{x}\\u003cbr\\u003eNumber of Movies=%{marker.size}\\u003cextra\\u003e\\u003c\\u002fextra\\u003e\",\"legendgroup\":\"61\",\"marker\":{\"color\":\"#636efa\",\"opacity\":0.7,\"size\":[1],\"sizemode\":\"area\",\"sizeref\":0.01,\"symbol\":\"circle\"},\"mode\":\"markers\",\"name\":\"61\",\"scene\":\"scene\",\"showlegend\":true,\"x\":[\"2007\"],\"y\":[\"61\"],\"z\":[1],\"type\":\"scatter3d\"},{\"hovertemplate\":\"IMDB Rating=%{y}\\u003cbr\\u003eYear=%{x}\\u003cbr\\u003eNumber of Movies=%{marker.size}\\u003cextra\\u003e\\u003c\\u002fextra\\u003e\",\"legendgroup\":\"3.7\",\"marker\":{\"color\":\"#EF553B\",\"opacity\":0.7,\"size\":[1],\"sizemode\":\"area\",\"sizeref\":0.01,\"symbol\":\"circle\"},\"mode\":\"markers\",\"name\":\"3.7\",\"scene\":\"scene\",\"showlegend\":true,\"x\":[\"2018\"],\"y\":[\"3.7\"],\"z\":[1],\"type\":\"scatter3d\"},{\"hovertemplate\":\"IMDB Rating=%{y}\\u003cbr\\u003eYear=%{x}\\u003cbr\\u003eNumber of Movies=%{marker.size}\\u003cextra\\u003e\\u003c\\u002fextra\\u003e\",\"legendgroup\":\" Alan Dinehart (story adaptation)\\\"\",\"marker\":{\"color\":\"#00cc96\",\"opacity\":0.7,\"size\":[1],\"sizemode\":\"area\",\"sizeref\":0.01,\"symbol\":\"circle\"},\"mode\":\"markers\",\"name\":\" Alan Dinehart (story adaptation)\\\"\",\"scene\":\"scene\",\"showlegend\":true,\"x\":[\"1983\"],\"y\":[\" Alan Dinehart (story adaptation)\\\"\"],\"z\":[1],\"type\":\"scatter3d\"},{\"hovertemplate\":\"IMDB Rating=%{y}\\u003cbr\\u003eYear=%{x}\\u003cbr\\u003eNumber of Movies=%{marker.size}\\u003cextra\\u003e\\u003c\\u002fextra\\u003e\",\"legendgroup\":\"5.2\",\"marker\":{\"color\":\"#ab63fa\",\"opacity\":0.7,\"size\":[1,1,1,1,1],\"sizemode\":\"area\",\"sizeref\":0.01,\"symbol\":\"circle\"},\"mode\":\"markers\",\"name\":\"5.2\",\"scene\":\"scene\",\"showlegend\":true,\"x\":[\"2008\",\"1996\",\"2006\",\"1997\",\"2002\"],\"y\":[\"5.2\",\"5.2\",\"5.2\",\"5.2\",\"5.2\"],\"z\":[1,1,1,1,1],\"type\":\"scatter3d\"},{\"hovertemplate\":\"IMDB Rating=%{y}\\u003cbr\\u003eYear=%{x}\\u003cbr\\u003eNumber of Movies=%{marker.size}\\u003cextra\\u003e\\u003c\\u002fextra\\u003e\",\"legendgroup\":\"4.2\",\"marker\":{\"color\":\"#FFA15A\",\"opacity\":0.7,\"size\":[1,1,1],\"sizemode\":\"area\",\"sizeref\":0.01,\"symbol\":\"circle\"},\"mode\":\"markers\",\"name\":\"4.2\",\"scene\":\"scene\",\"showlegend\":true,\"x\":[\"2018\",\"1998\",\"2013\"],\"y\":[\"4.2\",\"4.2\",\"4.2\"],\"z\":[1,1,1],\"type\":\"scatter3d\"},{\"hovertemplate\":\"IMDB Rating=%{y}\\u003cbr\\u003eYear=%{x}\\u003cbr\\u003eNumber of Movies=%{marker.size}\\u003cextra\\u003e\\u003c\\u002fextra\\u003e\",\"legendgroup\":\" Homer Brightman (story)\",\"marker\":{\"color\":\"#19d3f3\",\"opacity\":0.7,\"size\":[1],\"sizemode\":\"area\",\"sizeref\":0.01,\"symbol\":\"circle\"},\"mode\":\"markers\",\"name\":\" Homer Brightman (story)\",\"scene\":\"scene\",\"showlegend\":true,\"x\":[\"1949\"],\"y\":[\" Homer Brightman (story)\"],\"z\":[1],\"type\":\"scatter3d\"},{\"hovertemplate\":\"IMDB Rating=%{y}\\u003cbr\\u003eYear=%{x}\\u003cbr\\u003eNumber of Movies=%{marker.size}\\u003cextra\\u003e\\u003c\\u002fextra\\u003e\",\"legendgroup\":\"8.1\",\"marker\":{\"color\":\"#FF6692\",\"opacity\":0.7,\"size\":[1,1,1,1,1,1,1],\"sizemode\":\"area\",\"sizeref\":0.01,\"symbol\":\"circle\"},\"mode\":\"markers\",\"name\":\"8.1\",\"scene\":\"scene\",\"showlegend\":true,\"x\":[\"2020\",\"2003\",\"1987\",\"2016\",\"2010\",\"2019\",\"1953\"],\"y\":[\"8.1\",\"8.1\",\"8.1\",\"8.1\",\"8.1\",\"8.1\",\"8.1\"],\"z\":[1,1,1,1,1,1,1],\"type\":\"scatter3d\"},{\"hovertemplate\":\"IMDB Rating=%{y}\\u003cbr\\u003eYear=%{x}\\u003cbr\\u003eNumber of Movies=%{marker.size}\\u003cextra\\u003e\\u003c\\u002fextra\\u003e\",\"legendgroup\":\"8.6\",\"marker\":{\"color\":\"#B6E880\",\"opacity\":0.7,\"size\":[1],\"sizemode\":\"area\",\"sizeref\":0.01,\"symbol\":\"circle\"},\"mode\":\"markers\",\"name\":\"8.6\",\"scene\":\"scene\",\"showlegend\":true,\"x\":[\"1977\"],\"y\":[\"8.6\"],\"z\":[1],\"type\":\"scatter3d\"},{\"hovertemplate\":\"IMDB Rating=%{y}\\u003cbr\\u003eYear=%{x}\\u003cbr\\u003eNumber of Movies=%{marker.size}\\u003cextra\\u003e\\u003c\\u002fextra\\u003e\",\"legendgroup\":\"8.7\",\"marker\":{\"color\":\"#FF97FF\",\"opacity\":0.7,\"size\":[1],\"sizemode\":\"area\",\"sizeref\":0.01,\"symbol\":\"circle\"},\"mode\":\"markers\",\"name\":\"8.7\",\"scene\":\"scene\",\"showlegend\":true,\"x\":[\"1980\"],\"y\":[\"8.7\"],\"z\":[1],\"type\":\"scatter3d\"},{\"hovertemplate\":\"IMDB Rating=%{y}\\u003cbr\\u003eYear=%{x}\\u003cbr\\u003eNumber of Movies=%{marker.size}\\u003cextra\\u003e\\u003c\\u002fextra\\u003e\",\"legendgroup\":\"English\",\"marker\":{\"color\":\"#FECB52\",\"opacity\":0.7,\"size\":[1],\"sizemode\":\"area\",\"sizeref\":0.01,\"symbol\":\"circle\"},\"mode\":\"markers\",\"name\":\"English\",\"scene\":\"scene\",\"showlegend\":true,\"x\":[\"1941\"],\"y\":[\"English\"],\"z\":[1],\"type\":\"scatter3d\"},{\"hovertemplate\":\"IMDB Rating=%{y}\\u003cbr\\u003eYear=%{x}\\u003cbr\\u003eNumber of Movies=%{marker.size}\\u003cextra\\u003e\\u003c\\u002fextra\\u003e\",\"legendgroup\":\"4.6\",\"marker\":{\"color\":\"#636efa\",\"opacity\":0.7,\"size\":[1,1],\"sizemode\":\"area\",\"sizeref\":0.01,\"symbol\":\"circle\"},\"mode\":\"markers\",\"name\":\"4.6\",\"scene\":\"scene\",\"showlegend\":true,\"x\":[\"2019\",\"2004\"],\"y\":[\"4.6\",\"4.6\"],\"z\":[1,1],\"type\":\"scatter3d\"},{\"hovertemplate\":\"IMDB Rating=%{y}\\u003cbr\\u003eYear=%{x}\\u003cbr\\u003eNumber of Movies=%{marker.size}\\u003cextra\\u003e\\u003c\\u002fextra\\u003e\",\"legendgroup\":\"8.4\",\"marker\":{\"color\":\"#EF553B\",\"opacity\":0.7,\"size\":[2,1,1,1],\"sizemode\":\"area\",\"sizeref\":0.01,\"symbol\":\"circle\"},\"mode\":\"markers\",\"name\":\"8.4\",\"scene\":\"scene\",\"showlegend\":true,\"x\":[\"2008\",\"2016\",\"2019\",\"2017\"],\"y\":[\"8.4\",\"8.4\",\"8.4\",\"8.4\"],\"z\":[2,1,1,1],\"type\":\"scatter3d\"},{\"hovertemplate\":\"IMDB Rating=%{y}\\u003cbr\\u003eYear=%{x}\\u003cbr\\u003eNumber of Movies=%{marker.size}\\u003cextra\\u003e\\u003c\\u002fextra\\u003e\",\"legendgroup\":\"3.3\",\"marker\":{\"color\":\"#00cc96\",\"opacity\":0.7,\"size\":[1],\"sizemode\":\"area\",\"sizeref\":0.01,\"symbol\":\"circle\"},\"mode\":\"markers\",\"name\":\"3.3\",\"scene\":\"scene\",\"showlegend\":true,\"x\":[\"2003\"],\"y\":[\"3.3\"],\"z\":[1],\"type\":\"scatter3d\"},{\"hovertemplate\":\"IMDB Rating=%{y}\\u003cbr\\u003eYear=%{x}\\u003cbr\\u003eNumber of Movies=%{marker.size}\\u003cextra\\u003e\\u003c\\u002fextra\\u003e\",\"legendgroup\":\"Nominated for 1 Oscar. Another 14 wins & 32 nominations.\",\"marker\":{\"color\":\"#ab63fa\",\"opacity\":0.7,\"size\":[1],\"sizemode\":\"area\",\"sizeref\":0.01,\"symbol\":\"circle\"},\"mode\":\"markers\",\"name\":\"Nominated for 1 Oscar. Another 14 wins & 32 nominations.\",\"scene\":\"scene\",\"showlegend\":true,\"x\":[\"2019\"],\"y\":[\"Nominated for 1 Oscar. Another 14 wins & 32 nominations.\"],\"z\":[1],\"type\":\"scatter3d\"},{\"hovertemplate\":\"IMDB Rating=%{y}\\u003cbr\\u003eYear=%{x}\\u003cbr\\u003eNumber of Movies=%{marker.size}\\u003cextra\\u003e\\u003c\\u002fextra\\u003e\",\"legendgroup\":\"3.4\",\"marker\":{\"color\":\"#FFA15A\",\"opacity\":0.7,\"size\":[1],\"sizemode\":\"area\",\"sizeref\":0.01,\"symbol\":\"circle\"},\"mode\":\"markers\",\"name\":\"3.4\",\"scene\":\"scene\",\"showlegend\":true,\"x\":[\"2003\"],\"y\":[\"3.4\"],\"z\":[1],\"type\":\"scatter3d\"},{\"hovertemplate\":\"IMDB Rating=%{y}\\u003cbr\\u003eYear=%{x}\\u003cbr\\u003eNumber of Movies=%{marker.size}\\u003cextra\\u003e\\u003c\\u002fextra\\u003e\",\"legendgroup\":\"4.0\",\"marker\":{\"color\":\"#19d3f3\",\"opacity\":0.7,\"size\":[1],\"sizemode\":\"area\",\"sizeref\":0.01,\"symbol\":\"circle\"},\"mode\":\"markers\",\"name\":\"4.0\",\"scene\":\"scene\",\"showlegend\":true,\"x\":[\"2019\"],\"y\":[\"4.0\"],\"z\":[1],\"type\":\"scatter3d\"},{\"hovertemplate\":\"IMDB Rating=%{y}\\u003cbr\\u003eYear=%{x}\\u003cbr\\u003eNumber of Movies=%{marker.size}\\u003cextra\\u003e\\u003c\\u002fextra\\u003e\",\"legendgroup\":\" Kevin Harkey (story)\",\"marker\":{\"color\":\"#FF6692\",\"opacity\":0.7,\"size\":[1],\"sizemode\":\"area\",\"sizeref\":0.01,\"symbol\":\"circle\"},\"mode\":\"markers\",\"name\":\" Kevin Harkey (story)\",\"scene\":\"scene\",\"showlegend\":true,\"x\":[\"1996\"],\"y\":[\" Kevin Harkey (story)\"],\"z\":[1],\"type\":\"scatter3d\"},{\"hovertemplate\":\"IMDB Rating=%{y}\\u003cbr\\u003eYear=%{x}\\u003cbr\\u003eNumber of Movies=%{marker.size}\\u003cextra\\u003e\\u003c\\u002fextra\\u003e\",\"legendgroup\":\" Allison Schroeder (additional screenplay material by)\\\"\",\"marker\":{\"color\":\"#B6E880\",\"opacity\":0.7,\"size\":[1],\"sizemode\":\"area\",\"sizeref\":0.01,\"symbol\":\"circle\"},\"mode\":\"markers\",\"name\":\" Allison Schroeder (additional screenplay material by)\\\"\",\"scene\":\"scene\",\"showlegend\":true,\"x\":[\"2019\"],\"y\":[\" Allison Schroeder (additional screenplay material by)\\\"\"],\"z\":[1],\"type\":\"scatter3d\"},{\"hovertemplate\":\"IMDB Rating=%{y}\\u003cbr\\u003eYear=%{x}\\u003cbr\\u003eNumber of Movies=%{marker.size}\\u003cextra\\u003e\\u003c\\u002fextra\\u003e\",\"legendgroup\":\"4.3\",\"marker\":{\"color\":\"#FF97FF\",\"opacity\":0.7,\"size\":[1],\"sizemode\":\"area\",\"sizeref\":0.01,\"symbol\":\"circle\"},\"mode\":\"markers\",\"name\":\"4.3\",\"scene\":\"scene\",\"showlegend\":true,\"x\":[\"2008\"],\"y\":[\"4.3\"],\"z\":[1],\"type\":\"scatter3d\"},{\"hovertemplate\":\"IMDB Rating=%{y}\\u003cbr\\u003eYear=%{x}\\u003cbr\\u003eNumber of Movies=%{marker.size}\\u003cextra\\u003e\\u003c\\u002fextra\\u003e\",\"legendgroup\":\"4.5\",\"marker\":{\"color\":\"#FECB52\",\"opacity\":0.7,\"size\":[1],\"sizemode\":\"area\",\"sizeref\":0.01,\"symbol\":\"circle\"},\"mode\":\"markers\",\"name\":\"4.5\",\"scene\":\"scene\",\"showlegend\":true,\"x\":[\"1997\"],\"y\":[\"4.5\"],\"z\":[1],\"type\":\"scatter3d\"},{\"hovertemplate\":\"IMDB Rating=%{y}\\u003cbr\\u003eYear=%{x}\\u003cbr\\u003eNumber of Movies=%{marker.size}\\u003cextra\\u003e\\u003c\\u002fextra\\u003e\",\"legendgroup\":\"4.4\",\"marker\":{\"color\":\"#636efa\",\"opacity\":0.7,\"size\":[1],\"sizemode\":\"area\",\"sizeref\":0.01,\"symbol\":\"circle\"},\"mode\":\"markers\",\"name\":\"4.4\",\"scene\":\"scene\",\"showlegend\":true,\"x\":[\"2009\"],\"y\":[\"4.4\"],\"z\":[1],\"type\":\"scatter3d\"},{\"hovertemplate\":\"IMDB Rating=%{y}\\u003cbr\\u003eYear=%{x}\\u003cbr\\u003eNumber of Movies=%{marker.size}\\u003cextra\\u003e\\u003c\\u002fextra\\u003e\",\"legendgroup\":\"3.0\",\"marker\":{\"color\":\"#EF553B\",\"opacity\":0.7,\"size\":[1],\"sizemode\":\"area\",\"sizeref\":0.01,\"symbol\":\"circle\"},\"mode\":\"markers\",\"name\":\"3.0\",\"scene\":\"scene\",\"showlegend\":true,\"x\":[\"1996\"],\"y\":[\"3.0\"],\"z\":[1],\"type\":\"scatter3d\"},{\"hovertemplate\":\"IMDB Rating=%{y}\\u003cbr\\u003eYear=%{x}\\u003cbr\\u003eNumber of Movies=%{marker.size}\\u003cextra\\u003e\\u003c\\u002fextra\\u003e\",\"legendgroup\":\" Jim Peterson\",\"marker\":{\"color\":\"#00cc96\",\"opacity\":0.7,\"size\":[1],\"sizemode\":\"area\",\"sizeref\":0.01,\"symbol\":\"circle\"},\"mode\":\"markers\",\"name\":\" Jim Peterson\",\"scene\":\"scene\",\"showlegend\":true,\"x\":[\"2002\"],\"y\":[\" Jim Peterson\"],\"z\":[1],\"type\":\"scatter3d\"},{\"hovertemplate\":\"IMDB Rating=%{y}\\u003cbr\\u003eYear=%{x}\\u003cbr\\u003eNumber of Movies=%{marker.size}\\u003cextra\\u003e\\u003c\\u002fextra\\u003e\",\"legendgroup\":\"62\",\"marker\":{\"color\":\"#ab63fa\",\"opacity\":0.7,\"size\":[1],\"sizemode\":\"area\",\"sizeref\":0.01,\"symbol\":\"circle\"},\"mode\":\"markers\",\"name\":\"62\",\"scene\":\"scene\",\"showlegend\":true,\"x\":[\"2013\"],\"y\":[\"62\"],\"z\":[1],\"type\":\"scatter3d\"},{\"hovertemplate\":\"IMDB Rating=%{y}\\u003cbr\\u003eYear=%{x}\\u003cbr\\u003eNumber of Movies=%{marker.size}\\u003cextra\\u003e\\u003c\\u002fextra\\u003e\",\"legendgroup\":\"2 wins & 1 nomination.\",\"marker\":{\"color\":\"#FFA15A\",\"opacity\":0.7,\"size\":[1],\"sizemode\":\"area\",\"sizeref\":0.01,\"symbol\":\"circle\"},\"mode\":\"markers\",\"name\":\"2 wins & 1 nomination.\",\"scene\":\"scene\",\"showlegend\":true,\"x\":[\"1987\"],\"y\":[\"2 wins & 1 nomination.\"],\"z\":[1],\"type\":\"scatter3d\"}],                        {\"template\":{\"data\":{\"histogram2dcontour\":[{\"type\":\"histogram2dcontour\",\"colorbar\":{\"outlinewidth\":0,\"ticks\":\"\"},\"colorscale\":[[0.0,\"#0d0887\"],[0.1111111111111111,\"#46039f\"],[0.2222222222222222,\"#7201a8\"],[0.3333333333333333,\"#9c179e\"],[0.4444444444444444,\"#bd3786\"],[0.5555555555555556,\"#d8576b\"],[0.6666666666666666,\"#ed7953\"],[0.7777777777777778,\"#fb9f3a\"],[0.8888888888888888,\"#fdca26\"],[1.0,\"#f0f921\"]]}],\"choropleth\":[{\"type\":\"choropleth\",\"colorbar\":{\"outlinewidth\":0,\"ticks\":\"\"}}],\"histogram2d\":[{\"type\":\"histogram2d\",\"colorbar\":{\"outlinewidth\":0,\"ticks\":\"\"},\"colorscale\":[[0.0,\"#0d0887\"],[0.1111111111111111,\"#46039f\"],[0.2222222222222222,\"#7201a8\"],[0.3333333333333333,\"#9c179e\"],[0.4444444444444444,\"#bd3786\"],[0.5555555555555556,\"#d8576b\"],[0.6666666666666666,\"#ed7953\"],[0.7777777777777778,\"#fb9f3a\"],[0.8888888888888888,\"#fdca26\"],[1.0,\"#f0f921\"]]}],\"heatmap\":[{\"type\":\"heatmap\",\"colorbar\":{\"outlinewidth\":0,\"ticks\":\"\"},\"colorscale\":[[0.0,\"#0d0887\"],[0.1111111111111111,\"#46039f\"],[0.2222222222222222,\"#7201a8\"],[0.3333333333333333,\"#9c179e\"],[0.4444444444444444,\"#bd3786\"],[0.5555555555555556,\"#d8576b\"],[0.6666666666666666,\"#ed7953\"],[0.7777777777777778,\"#fb9f3a\"],[0.8888888888888888,\"#fdca26\"],[1.0,\"#f0f921\"]]}],\"heatmapgl\":[{\"type\":\"heatmapgl\",\"colorbar\":{\"outlinewidth\":0,\"ticks\":\"\"},\"colorscale\":[[0.0,\"#0d0887\"],[0.1111111111111111,\"#46039f\"],[0.2222222222222222,\"#7201a8\"],[0.3333333333333333,\"#9c179e\"],[0.4444444444444444,\"#bd3786\"],[0.5555555555555556,\"#d8576b\"],[0.6666666666666666,\"#ed7953\"],[0.7777777777777778,\"#fb9f3a\"],[0.8888888888888888,\"#fdca26\"],[1.0,\"#f0f921\"]]}],\"contourcarpet\":[{\"type\":\"contourcarpet\",\"colorbar\":{\"outlinewidth\":0,\"ticks\":\"\"}}],\"contour\":[{\"type\":\"contour\",\"colorbar\":{\"outlinewidth\":0,\"ticks\":\"\"},\"colorscale\":[[0.0,\"#0d0887\"],[0.1111111111111111,\"#46039f\"],[0.2222222222222222,\"#7201a8\"],[0.3333333333333333,\"#9c179e\"],[0.4444444444444444,\"#bd3786\"],[0.5555555555555556,\"#d8576b\"],[0.6666666666666666,\"#ed7953\"],[0.7777777777777778,\"#fb9f3a\"],[0.8888888888888888,\"#fdca26\"],[1.0,\"#f0f921\"]]}],\"surface\":[{\"type\":\"surface\",\"colorbar\":{\"outlinewidth\":0,\"ticks\":\"\"},\"colorscale\":[[0.0,\"#0d0887\"],[0.1111111111111111,\"#46039f\"],[0.2222222222222222,\"#7201a8\"],[0.3333333333333333,\"#9c179e\"],[0.4444444444444444,\"#bd3786\"],[0.5555555555555556,\"#d8576b\"],[0.6666666666666666,\"#ed7953\"],[0.7777777777777778,\"#fb9f3a\"],[0.8888888888888888,\"#fdca26\"],[1.0,\"#f0f921\"]]}],\"mesh3d\":[{\"type\":\"mesh3d\",\"colorbar\":{\"outlinewidth\":0,\"ticks\":\"\"}}],\"scatter\":[{\"fillpattern\":{\"fillmode\":\"overlay\",\"size\":10,\"solidity\":0.2},\"type\":\"scatter\"}],\"parcoords\":[{\"type\":\"parcoords\",\"line\":{\"colorbar\":{\"outlinewidth\":0,\"ticks\":\"\"}}}],\"scatterpolargl\":[{\"type\":\"scatterpolargl\",\"marker\":{\"colorbar\":{\"outlinewidth\":0,\"ticks\":\"\"}}}],\"bar\":[{\"error_x\":{\"color\":\"#2a3f5f\"},\"error_y\":{\"color\":\"#2a3f5f\"},\"marker\":{\"line\":{\"color\":\"#E5ECF6\",\"width\":0.5},\"pattern\":{\"fillmode\":\"overlay\",\"size\":10,\"solidity\":0.2}},\"type\":\"bar\"}],\"scattergeo\":[{\"type\":\"scattergeo\",\"marker\":{\"colorbar\":{\"outlinewidth\":0,\"ticks\":\"\"}}}],\"scatterpolar\":[{\"type\":\"scatterpolar\",\"marker\":{\"colorbar\":{\"outlinewidth\":0,\"ticks\":\"\"}}}],\"histogram\":[{\"marker\":{\"pattern\":{\"fillmode\":\"overlay\",\"size\":10,\"solidity\":0.2}},\"type\":\"histogram\"}],\"scattergl\":[{\"type\":\"scattergl\",\"marker\":{\"colorbar\":{\"outlinewidth\":0,\"ticks\":\"\"}}}],\"scatter3d\":[{\"type\":\"scatter3d\",\"line\":{\"colorbar\":{\"outlinewidth\":0,\"ticks\":\"\"}},\"marker\":{\"colorbar\":{\"outlinewidth\":0,\"ticks\":\"\"}}}],\"scattermapbox\":[{\"type\":\"scattermapbox\",\"marker\":{\"colorbar\":{\"outlinewidth\":0,\"ticks\":\"\"}}}],\"scatterternary\":[{\"type\":\"scatterternary\",\"marker\":{\"colorbar\":{\"outlinewidth\":0,\"ticks\":\"\"}}}],\"scattercarpet\":[{\"type\":\"scattercarpet\",\"marker\":{\"colorbar\":{\"outlinewidth\":0,\"ticks\":\"\"}}}],\"carpet\":[{\"aaxis\":{\"endlinecolor\":\"#2a3f5f\",\"gridcolor\":\"white\",\"linecolor\":\"white\",\"minorgridcolor\":\"white\",\"startlinecolor\":\"#2a3f5f\"},\"baxis\":{\"endlinecolor\":\"#2a3f5f\",\"gridcolor\":\"white\",\"linecolor\":\"white\",\"minorgridcolor\":\"white\",\"startlinecolor\":\"#2a3f5f\"},\"type\":\"carpet\"}],\"table\":[{\"cells\":{\"fill\":{\"color\":\"#EBF0F8\"},\"line\":{\"color\":\"white\"}},\"header\":{\"fill\":{\"color\":\"#C8D4E3\"},\"line\":{\"color\":\"white\"}},\"type\":\"table\"}],\"barpolar\":[{\"marker\":{\"line\":{\"color\":\"#E5ECF6\",\"width\":0.5},\"pattern\":{\"fillmode\":\"overlay\",\"size\":10,\"solidity\":0.2}},\"type\":\"barpolar\"}],\"pie\":[{\"automargin\":true,\"type\":\"pie\"}]},\"layout\":{\"autotypenumbers\":\"strict\",\"colorway\":[\"#636efa\",\"#EF553B\",\"#00cc96\",\"#ab63fa\",\"#FFA15A\",\"#19d3f3\",\"#FF6692\",\"#B6E880\",\"#FF97FF\",\"#FECB52\"],\"font\":{\"color\":\"#2a3f5f\"},\"hovermode\":\"closest\",\"hoverlabel\":{\"align\":\"left\"},\"paper_bgcolor\":\"white\",\"plot_bgcolor\":\"#E5ECF6\",\"polar\":{\"bgcolor\":\"#E5ECF6\",\"angularaxis\":{\"gridcolor\":\"white\",\"linecolor\":\"white\",\"ticks\":\"\"},\"radialaxis\":{\"gridcolor\":\"white\",\"linecolor\":\"white\",\"ticks\":\"\"}},\"ternary\":{\"bgcolor\":\"#E5ECF6\",\"aaxis\":{\"gridcolor\":\"white\",\"linecolor\":\"white\",\"ticks\":\"\"},\"baxis\":{\"gridcolor\":\"white\",\"linecolor\":\"white\",\"ticks\":\"\"},\"caxis\":{\"gridcolor\":\"white\",\"linecolor\":\"white\",\"ticks\":\"\"}},\"coloraxis\":{\"colorbar\":{\"outlinewidth\":0,\"ticks\":\"\"}},\"colorscale\":{\"sequential\":[[0.0,\"#0d0887\"],[0.1111111111111111,\"#46039f\"],[0.2222222222222222,\"#7201a8\"],[0.3333333333333333,\"#9c179e\"],[0.4444444444444444,\"#bd3786\"],[0.5555555555555556,\"#d8576b\"],[0.6666666666666666,\"#ed7953\"],[0.7777777777777778,\"#fb9f3a\"],[0.8888888888888888,\"#fdca26\"],[1.0,\"#f0f921\"]],\"sequentialminus\":[[0.0,\"#0d0887\"],[0.1111111111111111,\"#46039f\"],[0.2222222222222222,\"#7201a8\"],[0.3333333333333333,\"#9c179e\"],[0.4444444444444444,\"#bd3786\"],[0.5555555555555556,\"#d8576b\"],[0.6666666666666666,\"#ed7953\"],[0.7777777777777778,\"#fb9f3a\"],[0.8888888888888888,\"#fdca26\"],[1.0,\"#f0f921\"]],\"diverging\":[[0,\"#8e0152\"],[0.1,\"#c51b7d\"],[0.2,\"#de77ae\"],[0.3,\"#f1b6da\"],[0.4,\"#fde0ef\"],[0.5,\"#f7f7f7\"],[0.6,\"#e6f5d0\"],[0.7,\"#b8e186\"],[0.8,\"#7fbc41\"],[0.9,\"#4d9221\"],[1,\"#276419\"]]},\"xaxis\":{\"gridcolor\":\"white\",\"linecolor\":\"white\",\"ticks\":\"\",\"title\":{\"standoff\":15},\"zerolinecolor\":\"white\",\"automargin\":true,\"zerolinewidth\":2},\"yaxis\":{\"gridcolor\":\"white\",\"linecolor\":\"white\",\"ticks\":\"\",\"title\":{\"standoff\":15},\"zerolinecolor\":\"white\",\"automargin\":true,\"zerolinewidth\":2},\"scene\":{\"xaxis\":{\"backgroundcolor\":\"#E5ECF6\",\"gridcolor\":\"white\",\"linecolor\":\"white\",\"showbackground\":true,\"ticks\":\"\",\"zerolinecolor\":\"white\",\"gridwidth\":2},\"yaxis\":{\"backgroundcolor\":\"#E5ECF6\",\"gridcolor\":\"white\",\"linecolor\":\"white\",\"showbackground\":true,\"ticks\":\"\",\"zerolinecolor\":\"white\",\"gridwidth\":2},\"zaxis\":{\"backgroundcolor\":\"#E5ECF6\",\"gridcolor\":\"white\",\"linecolor\":\"white\",\"showbackground\":true,\"ticks\":\"\",\"zerolinecolor\":\"white\",\"gridwidth\":2}},\"shapedefaults\":{\"line\":{\"color\":\"#2a3f5f\"}},\"annotationdefaults\":{\"arrowcolor\":\"#2a3f5f\",\"arrowhead\":0,\"arrowwidth\":1},\"geo\":{\"bgcolor\":\"white\",\"landcolor\":\"#E5ECF6\",\"subunitcolor\":\"white\",\"showland\":true,\"showlakes\":true,\"lakecolor\":\"white\"},\"title\":{\"x\":0.05},\"mapbox\":{\"style\":\"light\"}}},\"scene\":{\"domain\":{\"x\":[0.0,1.0],\"y\":[0.0,1.0]},\"xaxis\":{\"title\":{\"text\":\"Year\"}},\"yaxis\":{\"title\":{\"text\":\"IMDB Rating\"},\"categoryorder\":\"array\",\"categoryarray\":[\"6.4\",\"5.6\",\"6.8\",\"4.9\",\"5.7\",\"8.3\",\"6.0\",\"7.5\",\"7.4\",\"7.8\",\"7.9\",\"7.3\",\" O. Henry (story based on: \\\"\\\"The Gift of the Magi\\\"\\\")\",\"71\",\"4.1\",\"7.7\",\"Canada, USA\",\"6.1\",\"Joey Lawrence, Billy Joel, Cheech Marin, Richard Mulligan\",\"6.6\",\"7.2\",\"7.6\",\"6.7\",\"2.3\",\"8.0\",\"5.9\",\"7.0\",\" Ted Berman (story)\",\"73\",\"6.3\",\"6.5\",\"8.2\",\"7.1\",\"8.5\",\"5.5\",\"6.9\",\"5.8\",\"5.1\",\"4.7\",\"3.6\",\"6.2\",\"5.3\",\"5.0\",\" Milt Banta (additional story)\\\"\",\"5.4\",\"4.8\",\" Ted Elliott (animation story by)\",\"USA\",\"N\\u002fA\",\"Billy Campbell, Jennifer Connelly, Alan Arkin, Timothy Dalton\",\"61\",\"3.7\",\" Alan Dinehart (story adaptation)\\\"\",\"5.2\",\"4.2\",\" Homer Brightman (story)\",\"8.1\",\"8.6\",\"8.7\",\"English\",\"4.6\",\"8.4\",\"3.3\",\"Nominated for 1 Oscar. Another 14 wins & 32 nominations.\",\"3.4\",\"4.0\",\" Kevin Harkey (story)\",\" Allison Schroeder (additional screenplay material by)\\\"\",\"4.3\",\"4.5\",\"4.4\",\"3.0\",\" Jim Peterson\",\"62\",\"2 wins & 1 nomination.\"]},\"zaxis\":{\"title\":{\"text\":\"Number of Movies\"}}},\"legend\":{\"title\":{\"text\":\"IMDB Rating\"},\"tracegroupgap\":0,\"itemsizing\":\"constant\"},\"title\":{\"text\":\"3D Scatter Plot of Movie Ratings Over Years\"},\"margin\":{\"l\":0,\"r\":0,\"b\":0,\"t\":40}},                        {\"responsive\": true}                    ).then(function(){\n",
              "                            \n",
              "var gd = document.getElementById('0a600d8e-0c26-4f36-adf6-4f8b7c413b93');\n",
              "var x = new MutationObserver(function (mutations, observer) {{\n",
              "        var display = window.getComputedStyle(gd).display;\n",
              "        if (!display || display === 'none') {{\n",
              "            console.log([gd, 'removed!']);\n",
              "            Plotly.purge(gd);\n",
              "            observer.disconnect();\n",
              "        }}\n",
              "}});\n",
              "\n",
              "// Listen for the removal of the full notebook cells\n",
              "var notebookContainer = gd.closest('#notebook-container');\n",
              "if (notebookContainer) {{\n",
              "    x.observe(notebookContainer, {childList: true});\n",
              "}}\n",
              "\n",
              "// Listen for the clearing of the current output cell\n",
              "var outputEl = gd.closest('.output');\n",
              "if (outputEl) {{\n",
              "    x.observe(outputEl, {childList: true});\n",
              "}}\n",
              "\n",
              "                        })                };                            </script>        </div>\n",
              "</body>\n",
              "</html>"
            ]
          },
          "metadata": {}
        }
      ]
    },
    {
      "cell_type": "code",
      "source": [
        "from pyspark.sql import SparkSession\n",
        "from pyspark.sql.functions import col\n",
        "import plotly.express as px\n",
        "\n",
        "# Initialize Spark session\n",
        "spark = SparkSession.builder.appName(\"3DModelMapReduce\").getOrCreate()\n",
        "\n",
        "# Load data into DataFrame (assuming df is your DataFrame)\n",
        "# df = spark.read.csv(\"path/to/your/csv\", header=True, inferSchema=True)\n",
        "\n",
        "# Filter the data for movies with non-null ratings and years\n",
        "ratings_df = df.filter((col(\"type\") == \"movie\") & (col(\"imdb_rating\").isNotNull()) & (col(\"year\").isNotNull()))\n",
        "\n",
        "# Aggregate the number of movies per year and rating\n",
        "ratings_agg = ratings_df.groupBy(\"year\", \"imdb_rating\").count().withColumnRenamed(\"count\", \"No_of_Movies\")\n",
        "\n",
        "# Convert to Pandas DataFrame for plotting\n",
        "ratings_pd_agg = ratings_agg.toPandas()\n",
        "\n",
        "# Plotting the aggregated data\n",
        "fig = px.scatter_3d(ratings_pd_agg, x='year', y='imdb_rating', z='No_of_Movies',\n",
        "                    size='No_of_Movies', color='imdb_rating',\n",
        "                    title='3D Scatter Plot of Movie Ratings Over Years',\n",
        "                    labels={'year': 'Year', 'imdb_rating': 'IMDB Rating', 'No_of_Movies': 'Number of Movies'},\n",
        "                    opacity=0.7)\n",
        "\n",
        "fig.update_layout(scene=dict(\n",
        "                    xaxis_title='Year',\n",
        "                    yaxis_title='IMDB Rating',\n",
        "                    zaxis_title='Number of Movies'),\n",
        "                  margin=dict(l=0, r=0, b=0, t=40))\n",
        "\n",
        "fig.show()"
      ],
      "metadata": {
        "colab": {
          "base_uri": "https://localhost:8080/",
          "height": 542
        },
        "id": "eBAgUTBtuP33",
        "outputId": "803f7535-8e80-4069-b1bf-e18c7cad38a6"
      },
      "execution_count": null,
      "outputs": [
        {
          "output_type": "display_data",
          "data": {
            "text/html": [
              "<html>\n",
              "<head><meta charset=\"utf-8\" /></head>\n",
              "<body>\n",
              "    <div>            <script src=\"https://cdnjs.cloudflare.com/ajax/libs/mathjax/2.7.5/MathJax.js?config=TeX-AMS-MML_SVG\"></script><script type=\"text/javascript\">if (window.MathJax && window.MathJax.Hub && window.MathJax.Hub.Config) {window.MathJax.Hub.Config({SVG: {font: \"STIX-Web\"}});}</script>                <script type=\"text/javascript\">window.PlotlyConfig = {MathJaxConfig: 'local'};</script>\n",
              "        <script charset=\"utf-8\" src=\"https://cdn.plot.ly/plotly-2.24.1.min.js\"></script>                <div id=\"d72ed1d2-a6d1-447c-9194-0eb8e940928c\" class=\"plotly-graph-div\" style=\"height:525px; width:100%;\"></div>            <script type=\"text/javascript\">                                    window.PLOTLYENV=window.PLOTLYENV || {};                                    if (document.getElementById(\"d72ed1d2-a6d1-447c-9194-0eb8e940928c\")) {                    Plotly.newPlot(                        \"d72ed1d2-a6d1-447c-9194-0eb8e940928c\",                        [{\"hovertemplate\":\"IMDB Rating=%{y}\\u003cbr\\u003eYear=%{x}\\u003cbr\\u003eNumber of Movies=%{marker.size}\\u003cextra\\u003e\\u003c\\u002fextra\\u003e\",\"legendgroup\":\"6.4\",\"marker\":{\"color\":\"#636efa\",\"opacity\":0.7,\"size\":[1,2,1,1,1,1,1,1,1,1,1,1,1,1,1,1,1,2,1,1,1],\"sizemode\":\"area\",\"sizeref\":0.01,\"symbol\":\"circle\"},\"mode\":\"markers\",\"name\":\"6.4\",\"scene\":\"scene\",\"showlegend\":true,\"x\":[\"1975\",\"2005\",\"1996\",\"2010\",\"2000\",\"1948\",\"2014\",\"2018\",\"1992\",\"1977\",\"1999\",\"1993\",\"1987\",\"1985\",\"2015\",\"2004\",\"2012\",\"2011\",\"2009\",\"1988\",\"2016\"],\"y\":[\"6.4\",\"6.4\",\"6.4\",\"6.4\",\"6.4\",\"6.4\",\"6.4\",\"6.4\",\"6.4\",\"6.4\",\"6.4\",\"6.4\",\"6.4\",\"6.4\",\"6.4\",\"6.4\",\"6.4\",\"6.4\",\"6.4\",\"6.4\",\"6.4\"],\"z\":[1,2,1,1,1,1,1,1,1,1,1,1,1,1,1,1,1,2,1,1,1],\"type\":\"scatter3d\"},{\"hovertemplate\":\"IMDB Rating=%{y}\\u003cbr\\u003eYear=%{x}\\u003cbr\\u003eNumber of Movies=%{marker.size}\\u003cextra\\u003e\\u003c\\u002fextra\\u003e\",\"legendgroup\":\"5.6\",\"marker\":{\"color\":\"#EF553B\",\"opacity\":0.7,\"size\":[1,2,2,1,1,1,1,1,1],\"sizemode\":\"area\",\"sizeref\":0.01,\"symbol\":\"circle\"},\"mode\":\"markers\",\"name\":\"5.6\",\"scene\":\"scene\",\"showlegend\":true,\"x\":[\"1998\",\"2000\",\"1993\",\"2003\",\"2006\",\"2017\",\"2002\",\"2004\",\"2009\"],\"y\":[\"5.6\",\"5.6\",\"5.6\",\"5.6\",\"5.6\",\"5.6\",\"5.6\",\"5.6\",\"5.6\"],\"z\":[1,2,2,1,1,1,1,1,1],\"type\":\"scatter3d\"},{\"hovertemplate\":\"IMDB Rating=%{y}\\u003cbr\\u003eYear=%{x}\\u003cbr\\u003eNumber of Movies=%{marker.size}\\u003cextra\\u003e\\u003c\\u002fextra\\u003e\",\"legendgroup\":\"6.8\",\"marker\":{\"color\":\"#00cc96\",\"opacity\":0.7,\"size\":[1,1,1,1,1,2,2,2,1,1,1,1,2,2,1],\"sizemode\":\"area\",\"sizeref\":0.01,\"symbol\":\"circle\"},\"mode\":\"markers\",\"name\":\"6.8\",\"scene\":\"scene\",\"showlegend\":true,\"x\":[\"2002\",\"1998\",\"2017\",\"1995\",\"1982\",\"2004\",\"1965\",\"2003\",\"1961\",\"2010\",\"1977\",\"1932\",\"2016\",\"2008\",\"1975\"],\"y\":[\"6.8\",\"6.8\",\"6.8\",\"6.8\",\"6.8\",\"6.8\",\"6.8\",\"6.8\",\"6.8\",\"6.8\",\"6.8\",\"6.8\",\"6.8\",\"6.8\",\"6.8\"],\"z\":[1,1,1,1,1,2,2,2,1,1,1,1,2,2,1],\"type\":\"scatter3d\"},{\"hovertemplate\":\"IMDB Rating=%{y}\\u003cbr\\u003eYear=%{x}\\u003cbr\\u003eNumber of Movies=%{marker.size}\\u003cextra\\u003e\\u003c\\u002fextra\\u003e\",\"legendgroup\":\"4.9\",\"marker\":{\"color\":\"#ab63fa\",\"opacity\":0.7,\"size\":[1,1,1,1,1],\"sizemode\":\"area\",\"sizeref\":0.01,\"symbol\":\"circle\"},\"mode\":\"markers\",\"name\":\"4.9\",\"scene\":\"scene\",\"showlegend\":true,\"x\":[\"2009\",\"1998\",\"2012\",\"2000\",\"2005\"],\"y\":[\"4.9\",\"4.9\",\"4.9\",\"4.9\",\"4.9\"],\"z\":[1,1,1,1,1],\"type\":\"scatter3d\"},{\"hovertemplate\":\"IMDB Rating=%{y}\\u003cbr\\u003eYear=%{x}\\u003cbr\\u003eNumber of Movies=%{marker.size}\\u003cextra\\u003e\\u003c\\u002fextra\\u003e\",\"legendgroup\":\"5.7\",\"marker\":{\"color\":\"#FFA15A\",\"opacity\":0.7,\"size\":[1,1,1,1,2,1,1,3,1,1,1],\"sizemode\":\"area\",\"sizeref\":0.01,\"symbol\":\"circle\"},\"mode\":\"markers\",\"name\":\"5.7\",\"scene\":\"scene\",\"showlegend\":true,\"x\":[\"2003\",\"2000\",\"2010\",\"1974\",\"2004\",\"1972\",\"1996\",\"2005\",\"1977\",\"1998\",\"2015\"],\"y\":[\"5.7\",\"5.7\",\"5.7\",\"5.7\",\"5.7\",\"5.7\",\"5.7\",\"5.7\",\"5.7\",\"5.7\",\"5.7\"],\"z\":[1,1,1,1,2,1,1,3,1,1,1],\"type\":\"scatter3d\"},{\"hovertemplate\":\"IMDB Rating=%{y}\\u003cbr\\u003eYear=%{x}\\u003cbr\\u003eNumber of Movies=%{marker.size}\\u003cextra\\u003e\\u003c\\u002fextra\\u003e\",\"legendgroup\":\"8.3\",\"marker\":{\"color\":\"#19d3f3\",\"opacity\":0.7,\"size\":[1,1,1,1,1],\"sizemode\":\"area\",\"sizeref\":0.01,\"symbol\":\"circle\"},\"mode\":\"markers\",\"name\":\"8.3\",\"scene\":\"scene\",\"showlegend\":true,\"x\":[\"1983\",\"2016\",\"1995\",\"2010\",\"2004\"],\"y\":[\"8.3\",\"8.3\",\"8.3\",\"8.3\",\"8.3\"],\"z\":[1,1,1,1,1],\"type\":\"scatter3d\"},{\"hovertemplate\":\"IMDB Rating=%{y}\\u003cbr\\u003eYear=%{x}\\u003cbr\\u003eNumber of Movies=%{marker.size}\\u003cextra\\u003e\\u003c\\u002fextra\\u003e\",\"legendgroup\":\"6.0\",\"marker\":{\"color\":\"#FF6692\",\"opacity\":0.7,\"size\":[1,1,1,1,1,1,1,1,1,2,1,1,1,1],\"sizemode\":\"area\",\"sizeref\":0.01,\"symbol\":\"circle\"},\"mode\":\"markers\",\"name\":\"6.0\",\"scene\":\"scene\",\"showlegend\":true,\"x\":[\"2015\",\"1969\",\"2014\",\"1999\",\"2010\",\"2003\",\"1993\",\"2007\",\"2016\",\"2000\",\"1979\",\"2008\",\"2005\",\"2004\"],\"y\":[\"6.0\",\"6.0\",\"6.0\",\"6.0\",\"6.0\",\"6.0\",\"6.0\",\"6.0\",\"6.0\",\"6.0\",\"6.0\",\"6.0\",\"6.0\",\"6.0\"],\"z\":[1,1,1,1,1,1,1,1,1,2,1,1,1,1],\"type\":\"scatter3d\"},{\"hovertemplate\":\"IMDB Rating=%{y}\\u003cbr\\u003eYear=%{x}\\u003cbr\\u003eNumber of Movies=%{marker.size}\\u003cextra\\u003e\\u003c\\u002fextra\\u003e\",\"legendgroup\":\"7.5\",\"marker\":{\"color\":\"#B6E880\",\"opacity\":0.7,\"size\":[1,1,1,2,1,2,1,1,1,1,1,1,2,1,1,1],\"sizemode\":\"area\",\"sizeref\":0.01,\"symbol\":\"circle\"},\"mode\":\"markers\",\"name\":\"7.5\",\"scene\":\"scene\",\"showlegend\":true,\"x\":[\"2011\",\"1932\",\"2017\",\"2014\",\"2013\",\"2002\",\"2020\",\"2016\",\"2004\",\"1937\",\"1940\",\"1935\",\"1953\",\"1933\",\"2018\",\"2005\"],\"y\":[\"7.5\",\"7.5\",\"7.5\",\"7.5\",\"7.5\",\"7.5\",\"7.5\",\"7.5\",\"7.5\",\"7.5\",\"7.5\",\"7.5\",\"7.5\",\"7.5\",\"7.5\",\"7.5\"],\"z\":[1,1,1,2,1,2,1,1,1,1,1,1,2,1,1,1],\"type\":\"scatter3d\"},{\"hovertemplate\":\"IMDB Rating=%{y}\\u003cbr\\u003eYear=%{x}\\u003cbr\\u003eNumber of Movies=%{marker.size}\\u003cextra\\u003e\\u003c\\u002fextra\\u003e\",\"legendgroup\":\"7.4\",\"marker\":{\"color\":\"#FF97FF\",\"opacity\":0.7,\"size\":[1,3,1,2,1,1,1,2,1,2,1,1,1,1,1,1],\"sizemode\":\"area\",\"sizeref\":0.01,\"symbol\":\"circle\"},\"mode\":\"markers\",\"name\":\"7.4\",\"scene\":\"scene\",\"showlegend\":true,\"x\":[\"2018\",\"2014\",\"2020\",\"1960\",\"2000\",\"2019\",\"1940\",\"2011\",\"2005\",\"1951\",\"2003\",\"1932\",\"2016\",\"1947\",\"1949\",\"1955\"],\"y\":[\"7.4\",\"7.4\",\"7.4\",\"7.4\",\"7.4\",\"7.4\",\"7.4\",\"7.4\",\"7.4\",\"7.4\",\"7.4\",\"7.4\",\"7.4\",\"7.4\",\"7.4\",\"7.4\"],\"z\":[1,3,1,2,1,1,1,2,1,2,1,1,1,1,1,1],\"type\":\"scatter3d\"},{\"hovertemplate\":\"IMDB Rating=%{y}\\u003cbr\\u003eYear=%{x}\\u003cbr\\u003eNumber of Movies=%{marker.size}\\u003cextra\\u003e\\u003c\\u002fextra\\u003e\",\"legendgroup\":\"7.8\",\"marker\":{\"color\":\"#FECB52\",\"opacity\":0.7,\"size\":[2,1,1,1,1,1,1,1,1,1,1,1],\"sizemode\":\"area\",\"sizeref\":0.01,\"symbol\":\"circle\"},\"mode\":\"markers\",\"name\":\"7.8\",\"scene\":\"scene\",\"showlegend\":true,\"x\":[\"2016\",\"2014\",\"2018\",\"1964\",\"1995\",\"1956\",\"1940\",\"1978\",\"2017\",\"2000\",\"2019\",\"2009\"],\"y\":[\"7.8\",\"7.8\",\"7.8\",\"7.8\",\"7.8\",\"7.8\",\"7.8\",\"7.8\",\"7.8\",\"7.8\",\"7.8\",\"7.8\"],\"z\":[2,1,1,1,1,1,1,1,1,1,1,1],\"type\":\"scatter3d\"},{\"hovertemplate\":\"IMDB Rating=%{y}\\u003cbr\\u003eYear=%{x}\\u003cbr\\u003eNumber of Movies=%{marker.size}\\u003cextra\\u003e\\u003c\\u002fextra\\u003e\",\"legendgroup\":\"7.9\",\"marker\":{\"color\":\"#636efa\",\"opacity\":0.7,\"size\":[1,1,1,1,1,1,1,1,3,1,1],\"sizemode\":\"area\",\"sizeref\":0.01,\"symbol\":\"circle\"},\"mode\":\"markers\",\"name\":\"7.9\",\"scene\":\"scene\",\"showlegend\":true,\"x\":[\"1999\",\"2015\",\"1935\",\"2003\",\"2006\",\"1938\",\"1937\",\"2008\",\"2017\",\"1947\",\"1997\"],\"y\":[\"7.9\",\"7.9\",\"7.9\",\"7.9\",\"7.9\",\"7.9\",\"7.9\",\"7.9\",\"7.9\",\"7.9\",\"7.9\"],\"z\":[1,1,1,1,1,1,1,1,3,1,1],\"type\":\"scatter3d\"},{\"hovertemplate\":\"IMDB Rating=%{y}\\u003cbr\\u003eYear=%{x}\\u003cbr\\u003eNumber of Movies=%{marker.size}\\u003cextra\\u003e\\u003c\\u002fextra\\u003e\",\"legendgroup\":\"7.3\",\"marker\":{\"color\":\"#EF553B\",\"opacity\":0.7,\"size\":[1,1,1,1,1,1,1,1,2,1,1,1,1,1,1,1,1,1,1,1,1,3,2,2],\"sizemode\":\"area\",\"sizeref\":0.01,\"symbol\":\"circle\"},\"mode\":\"markers\",\"name\":\"7.3\",\"scene\":\"scene\",\"showlegend\":true,\"x\":[\"2016\",\"1937\",\"1950\",\"1941\",\"1957\",\"2007\",\"1953\",\"2000\",\"1942\",\"1999\",\"2008\",\"2018\",\"1997\",\"1988\",\"2009\",\"2011\",\"1938\",\"1961\",\"1981\",\"1934\",\"1984\",\"2015\",\"2006\",\"1955\"],\"y\":[\"7.3\",\"7.3\",\"7.3\",\"7.3\",\"7.3\",\"7.3\",\"7.3\",\"7.3\",\"7.3\",\"7.3\",\"7.3\",\"7.3\",\"7.3\",\"7.3\",\"7.3\",\"7.3\",\"7.3\",\"7.3\",\"7.3\",\"7.3\",\"7.3\",\"7.3\",\"7.3\",\"7.3\"],\"z\":[1,1,1,1,1,1,1,1,2,1,1,1,1,1,1,1,1,1,1,1,1,3,2,2],\"type\":\"scatter3d\"},{\"hovertemplate\":\"IMDB Rating=%{y}\\u003cbr\\u003eYear=%{x}\\u003cbr\\u003eNumber of Movies=%{marker.size}\\u003cextra\\u003e\\u003c\\u002fextra\\u003e\",\"legendgroup\":\" O. Henry (story based on: \\\"\\\"The Gift of the Magi\\\"\\\")\",\"marker\":{\"color\":\"#00cc96\",\"opacity\":0.7,\"size\":[1],\"sizemode\":\"area\",\"sizeref\":0.01,\"symbol\":\"circle\"},\"mode\":\"markers\",\"name\":\" O. Henry (story based on: \\\"\\\"The Gift of the Magi\\\"\\\")\",\"scene\":\"scene\",\"showlegend\":true,\"x\":[\"1999\"],\"y\":[\" O. Henry (story based on: \\\"\\\"The Gift of the Magi\\\"\\\")\"],\"z\":[1],\"type\":\"scatter3d\"},{\"hovertemplate\":\"IMDB Rating=%{y}\\u003cbr\\u003eYear=%{x}\\u003cbr\\u003eNumber of Movies=%{marker.size}\\u003cextra\\u003e\\u003c\\u002fextra\\u003e\",\"legendgroup\":\"71\",\"marker\":{\"color\":\"#ab63fa\",\"opacity\":0.7,\"size\":[1],\"sizemode\":\"area\",\"sizeref\":0.01,\"symbol\":\"circle\"},\"mode\":\"markers\",\"name\":\"71\",\"scene\":\"scene\",\"showlegend\":true,\"x\":[\"2010\"],\"y\":[\"71\"],\"z\":[1],\"type\":\"scatter3d\"},{\"hovertemplate\":\"IMDB Rating=%{y}\\u003cbr\\u003eYear=%{x}\\u003cbr\\u003eNumber of Movies=%{marker.size}\\u003cextra\\u003e\\u003c\\u002fextra\\u003e\",\"legendgroup\":\"4.1\",\"marker\":{\"color\":\"#FFA15A\",\"opacity\":0.7,\"size\":[2,1,1],\"sizemode\":\"area\",\"sizeref\":0.01,\"symbol\":\"circle\"},\"mode\":\"markers\",\"name\":\"4.1\",\"scene\":\"scene\",\"showlegend\":true,\"x\":[\"1998\",\"1999\",\"2002\"],\"y\":[\"4.1\",\"4.1\",\"4.1\"],\"z\":[2,1,1],\"type\":\"scatter3d\"},{\"hovertemplate\":\"IMDB Rating=%{y}\\u003cbr\\u003eYear=%{x}\\u003cbr\\u003eNumber of Movies=%{marker.size}\\u003cextra\\u003e\\u003c\\u002fextra\\u003e\",\"legendgroup\":\"7.7\",\"marker\":{\"color\":\"#19d3f3\",\"opacity\":0.7,\"size\":[1,1,1,1,1,2,1,2,1,1,1,1],\"sizemode\":\"area\",\"sizeref\":0.01,\"symbol\":\"circle\"},\"mode\":\"markers\",\"name\":\"7.7\",\"scene\":\"scene\",\"showlegend\":true,\"x\":[\"1992\",\"2008\",\"2018\",\"2005\",\"2014\",\"2019\",\"1954\",\"1952\",\"2012\",\"1937\",\"1988\",\"1951\"],\"y\":[\"7.7\",\"7.7\",\"7.7\",\"7.7\",\"7.7\",\"7.7\",\"7.7\",\"7.7\",\"7.7\",\"7.7\",\"7.7\",\"7.7\"],\"z\":[1,1,1,1,1,2,1,2,1,1,1,1],\"type\":\"scatter3d\"},{\"hovertemplate\":\"IMDB Rating=%{y}\\u003cbr\\u003eYear=%{x}\\u003cbr\\u003eNumber of Movies=%{marker.size}\\u003cextra\\u003e\\u003c\\u002fextra\\u003e\",\"legendgroup\":\"Canada, USA\",\"marker\":{\"color\":\"#FF6692\",\"opacity\":0.7,\"size\":[1],\"sizemode\":\"area\",\"sizeref\":0.01,\"symbol\":\"circle\"},\"mode\":\"markers\",\"name\":\"Canada, USA\",\"scene\":\"scene\",\"showlegend\":true,\"x\":[\"2014\"],\"y\":[\"Canada, USA\"],\"z\":[1],\"type\":\"scatter3d\"},{\"hovertemplate\":\"IMDB Rating=%{y}\\u003cbr\\u003eYear=%{x}\\u003cbr\\u003eNumber of Movies=%{marker.size}\\u003cextra\\u003e\\u003c\\u002fextra\\u003e\",\"legendgroup\":\"6.1\",\"marker\":{\"color\":\"#B6E880\",\"opacity\":0.7,\"size\":[1,2,1,1,2,1,1,1,3,2,1,1,1,1,1,1,1],\"sizemode\":\"area\",\"sizeref\":0.01,\"symbol\":\"circle\"},\"mode\":\"markers\",\"name\":\"6.1\",\"scene\":\"scene\",\"showlegend\":true,\"x\":[\"2018\",\"2000\",\"1989\",\"1997\",\"2015\",\"2010\",\"1979\",\"2011\",\"2003\",\"2002\",\"1994\",\"2020\",\"2007\",\"2016\",\"1978\",\"2006\",\"1975\"],\"y\":[\"6.1\",\"6.1\",\"6.1\",\"6.1\",\"6.1\",\"6.1\",\"6.1\",\"6.1\",\"6.1\",\"6.1\",\"6.1\",\"6.1\",\"6.1\",\"6.1\",\"6.1\",\"6.1\",\"6.1\"],\"z\":[1,2,1,1,2,1,1,1,3,2,1,1,1,1,1,1,1],\"type\":\"scatter3d\"},{\"hovertemplate\":\"IMDB Rating=%{y}\\u003cbr\\u003eYear=%{x}\\u003cbr\\u003eNumber of Movies=%{marker.size}\\u003cextra\\u003e\\u003c\\u002fextra\\u003e\",\"legendgroup\":\"Joey Lawrence, Billy Joel, Cheech Marin, Richard Mulligan\",\"marker\":{\"color\":\"#FF97FF\",\"opacity\":0.7,\"size\":[1],\"sizemode\":\"area\",\"sizeref\":0.01,\"symbol\":\"circle\"},\"mode\":\"markers\",\"name\":\"Joey Lawrence, Billy Joel, Cheech Marin, Richard Mulligan\",\"scene\":\"scene\",\"showlegend\":true,\"x\":[\"1988\"],\"y\":[\"Joey Lawrence, Billy Joel, Cheech Marin, Richard Mulligan\"],\"z\":[1],\"type\":\"scatter3d\"},{\"hovertemplate\":\"IMDB Rating=%{y}\\u003cbr\\u003eYear=%{x}\\u003cbr\\u003eNumber of Movies=%{marker.size}\\u003cextra\\u003e\\u003c\\u002fextra\\u003e\",\"legendgroup\":\"6.6\",\"marker\":{\"color\":\"#FECB52\",\"opacity\":0.7,\"size\":[1,1,1,1,2,1,1,1,1,1,1,1,1,2,1,1,1],\"sizemode\":\"area\",\"sizeref\":0.01,\"symbol\":\"circle\"},\"mode\":\"markers\",\"name\":\"6.6\",\"scene\":\"scene\",\"showlegend\":true,\"x\":[\"2017\",\"2014\",\"1942\",\"1981\",\"2012\",\"2002\",\"2006\",\"1948\",\"1994\",\"2004\",\"2011\",\"2009\",\"1967\",\"2001\",\"1985\",\"1980\",\"1995\"],\"y\":[\"6.6\",\"6.6\",\"6.6\",\"6.6\",\"6.6\",\"6.6\",\"6.6\",\"6.6\",\"6.6\",\"6.6\",\"6.6\",\"6.6\",\"6.6\",\"6.6\",\"6.6\",\"6.6\",\"6.6\"],\"z\":[1,1,1,1,2,1,1,1,1,1,1,1,1,2,1,1,1],\"type\":\"scatter3d\"},{\"hovertemplate\":\"IMDB Rating=%{y}\\u003cbr\\u003eYear=%{x}\\u003cbr\\u003eNumber of Movies=%{marker.size}\\u003cextra\\u003e\\u003c\\u002fextra\\u003e\",\"legendgroup\":\"7.2\",\"marker\":{\"color\":\"#636efa\",\"opacity\":0.7,\"size\":[1,1,1,1,1,1,1,1,1,1,1,2,1,1,1,1,1,1,1,1,1,2,2],\"sizemode\":\"area\",\"sizeref\":0.01,\"symbol\":\"circle\"},\"mode\":\"markers\",\"name\":\"7.2\",\"scene\":\"scene\",\"showlegend\":true,\"x\":[\"1960\",\"1998\",\"2011\",\"1999\",\"1959\",\"2001\",\"2019\",\"1963\",\"1961\",\"1952\",\"2012\",\"1954\",\"1940\",\"1981\",\"1957\",\"2002\",\"1937\",\"1944\",\"1935\",\"1938\",\"2016\",\"2010\",\"2006\"],\"y\":[\"7.2\",\"7.2\",\"7.2\",\"7.2\",\"7.2\",\"7.2\",\"7.2\",\"7.2\",\"7.2\",\"7.2\",\"7.2\",\"7.2\",\"7.2\",\"7.2\",\"7.2\",\"7.2\",\"7.2\",\"7.2\",\"7.2\",\"7.2\",\"7.2\",\"7.2\",\"7.2\"],\"z\":[1,1,1,1,1,1,1,1,1,1,1,2,1,1,1,1,1,1,1,1,1,2,2],\"type\":\"scatter3d\"},{\"hovertemplate\":\"IMDB Rating=%{y}\\u003cbr\\u003eYear=%{x}\\u003cbr\\u003eNumber of Movies=%{marker.size}\\u003cextra\\u003e\\u003c\\u002fextra\\u003e\",\"legendgroup\":\"7.6\",\"marker\":{\"color\":\"#EF553B\",\"opacity\":0.7,\"size\":[1,1,1,1,1,1,1,2,1,1,1,1,1,1,1,1,1,1,1,1,1],\"sizemode\":\"area\",\"sizeref\":0.01,\"symbol\":\"circle\"},\"mode\":\"markers\",\"name\":\"7.6\",\"scene\":\"scene\",\"showlegend\":true,\"x\":[\"2013\",\"1949\",\"1977\",\"2018\",\"2016\",\"1998\",\"1937\",\"2020\",\"1979\",\"2011\",\"2017\",\"2014\",\"1939\",\"1928\",\"1967\",\"1955\",\"1951\",\"2005\",\"2009\",\"1989\",\"1973\"],\"y\":[\"7.6\",\"7.6\",\"7.6\",\"7.6\",\"7.6\",\"7.6\",\"7.6\",\"7.6\",\"7.6\",\"7.6\",\"7.6\",\"7.6\",\"7.6\",\"7.6\",\"7.6\",\"7.6\",\"7.6\",\"7.6\",\"7.6\",\"7.6\",\"7.6\"],\"z\":[1,1,1,1,1,1,1,2,1,1,1,1,1,1,1,1,1,1,1,1,1],\"type\":\"scatter3d\"},{\"hovertemplate\":\"IMDB Rating=%{y}\\u003cbr\\u003eYear=%{x}\\u003cbr\\u003eNumber of Movies=%{marker.size}\\u003cextra\\u003e\\u003c\\u002fextra\\u003e\",\"legendgroup\":\"6.7\",\"marker\":{\"color\":\"#00cc96\",\"opacity\":0.7,\"size\":[2,1,1,1,1,1,1,1,1,1,4,1,1,1,1,1,1,1,1,1,1],\"sizemode\":\"area\",\"sizeref\":0.01,\"symbol\":\"circle\"},\"mode\":\"markers\",\"name\":\"6.7\",\"scene\":\"scene\",\"showlegend\":true,\"x\":[\"2019\",\"1985\",\"1990\",\"1996\",\"1952\",\"1991\",\"1941\",\"2014\",\"2003\",\"1966\",\"2020\",\"2015\",\"1995\",\"2017\",\"2012\",\"1999\",\"2002\",\"2016\",\"1939\",\"2009\",\"1933\"],\"y\":[\"6.7\",\"6.7\",\"6.7\",\"6.7\",\"6.7\",\"6.7\",\"6.7\",\"6.7\",\"6.7\",\"6.7\",\"6.7\",\"6.7\",\"6.7\",\"6.7\",\"6.7\",\"6.7\",\"6.7\",\"6.7\",\"6.7\",\"6.7\",\"6.7\"],\"z\":[2,1,1,1,1,1,1,1,1,1,4,1,1,1,1,1,1,1,1,1,1],\"type\":\"scatter3d\"},{\"hovertemplate\":\"IMDB Rating=%{y}\\u003cbr\\u003eYear=%{x}\\u003cbr\\u003eNumber of Movies=%{marker.size}\\u003cextra\\u003e\\u003c\\u002fextra\\u003e\",\"legendgroup\":\"2.3\",\"marker\":{\"color\":\"#ab63fa\",\"opacity\":0.7,\"size\":[1],\"sizemode\":\"area\",\"sizeref\":0.01,\"symbol\":\"circle\"},\"mode\":\"markers\",\"name\":\"2.3\",\"scene\":\"scene\",\"showlegend\":true,\"x\":[\"2008\"],\"y\":[\"2.3\"],\"z\":[1],\"type\":\"scatter3d\"},{\"hovertemplate\":\"IMDB Rating=%{y}\\u003cbr\\u003eYear=%{x}\\u003cbr\\u003eNumber of Movies=%{marker.size}\\u003cextra\\u003e\\u003c\\u002fextra\\u003e\",\"legendgroup\":\"8.0\",\"marker\":{\"color\":\"#FFA15A\",\"opacity\":0.7,\"size\":[1,1,1,1,1,1,1,1,1,1,1,1,1,1],\"sizemode\":\"area\",\"sizeref\":0.01,\"symbol\":\"circle\"},\"mode\":\"markers\",\"name\":\"8.0\",\"scene\":\"scene\",\"showlegend\":true,\"x\":[\"1993\",\"2016\",\"1965\",\"2012\",\"2014\",\"2019\",\"1999\",\"1992\",\"1991\",\"2004\",\"2007\",\"2011\",\"2001\",\"2000\"],\"y\":[\"8.0\",\"8.0\",\"8.0\",\"8.0\",\"8.0\",\"8.0\",\"8.0\",\"8.0\",\"8.0\",\"8.0\",\"8.0\",\"8.0\",\"8.0\",\"8.0\"],\"z\":[1,1,1,1,1,1,1,1,1,1,1,1,1,1],\"type\":\"scatter3d\"},{\"hovertemplate\":\"IMDB Rating=%{y}\\u003cbr\\u003eYear=%{x}\\u003cbr\\u003eNumber of Movies=%{marker.size}\\u003cextra\\u003e\\u003c\\u002fextra\\u003e\",\"legendgroup\":\"5.9\",\"marker\":{\"color\":\"#19d3f3\",\"opacity\":0.7,\"size\":[2,2,1,1,1,1,1,1,1,1,1,1,1,1,1,1,2],\"sizemode\":\"area\",\"sizeref\":0.01,\"symbol\":\"circle\"},\"mode\":\"markers\",\"name\":\"5.9\",\"scene\":\"scene\",\"showlegend\":true,\"x\":[\"1976\",\"2001\",\"2007\",\"1978\",\"2003\",\"1994\",\"1996\",\"2004\",\"2012\",\"2008\",\"1974\",\"2013\",\"1971\",\"1995\",\"2018\",\"2016\",\"2000\"],\"y\":[\"5.9\",\"5.9\",\"5.9\",\"5.9\",\"5.9\",\"5.9\",\"5.9\",\"5.9\",\"5.9\",\"5.9\",\"5.9\",\"5.9\",\"5.9\",\"5.9\",\"5.9\",\"5.9\",\"5.9\"],\"z\":[2,2,1,1,1,1,1,1,1,1,1,1,1,1,1,1,2],\"type\":\"scatter3d\"},{\"hovertemplate\":\"IMDB Rating=%{y}\\u003cbr\\u003eYear=%{x}\\u003cbr\\u003eNumber of Movies=%{marker.size}\\u003cextra\\u003e\\u003c\\u002fextra\\u003e\",\"legendgroup\":\"7.0\",\"marker\":{\"color\":\"#FF6692\",\"opacity\":0.7,\"size\":[1,1,1,1,1,1,2,1,1,1,1,1,1,1,1,2,1,1,1],\"sizemode\":\"area\",\"sizeref\":0.01,\"symbol\":\"circle\"},\"mode\":\"markers\",\"name\":\"7.0\",\"scene\":\"scene\",\"showlegend\":true,\"x\":[\"1985\",\"1955\",\"2011\",\"1942\",\"1952\",\"1998\",\"2003\",\"1996\",\"2010\",\"1993\",\"1946\",\"2009\",\"1943\",\"2019\",\"1959\",\"2017\",\"1936\",\"1940\",\"1992\"],\"y\":[\"7.0\",\"7.0\",\"7.0\",\"7.0\",\"7.0\",\"7.0\",\"7.0\",\"7.0\",\"7.0\",\"7.0\",\"7.0\",\"7.0\",\"7.0\",\"7.0\",\"7.0\",\"7.0\",\"7.0\",\"7.0\",\"7.0\"],\"z\":[1,1,1,1,1,1,2,1,1,1,1,1,1,1,1,2,1,1,1],\"type\":\"scatter3d\"},{\"hovertemplate\":\"IMDB Rating=%{y}\\u003cbr\\u003eYear=%{x}\\u003cbr\\u003eNumber of Movies=%{marker.size}\\u003cextra\\u003e\\u003c\\u002fextra\\u003e\",\"legendgroup\":\" Ted Berman (story)\",\"marker\":{\"color\":\"#B6E880\",\"opacity\":0.7,\"size\":[1],\"sizemode\":\"area\",\"sizeref\":0.01,\"symbol\":\"circle\"},\"mode\":\"markers\",\"name\":\" Ted Berman (story)\",\"scene\":\"scene\",\"showlegend\":true,\"x\":[\"1977\"],\"y\":[\" Ted Berman (story)\"],\"z\":[1],\"type\":\"scatter3d\"},{\"hovertemplate\":\"IMDB Rating=%{y}\\u003cbr\\u003eYear=%{x}\\u003cbr\\u003eNumber of Movies=%{marker.size}\\u003cextra\\u003e\\u003c\\u002fextra\\u003e\",\"legendgroup\":\"73\",\"marker\":{\"color\":\"#FF97FF\",\"opacity\":0.7,\"size\":[1],\"sizemode\":\"area\",\"sizeref\":0.01,\"symbol\":\"circle\"},\"mode\":\"markers\",\"name\":\"73\",\"scene\":\"scene\",\"showlegend\":true,\"x\":[\"1986\"],\"y\":[\"73\"],\"z\":[1],\"type\":\"scatter3d\"},{\"hovertemplate\":\"IMDB Rating=%{y}\\u003cbr\\u003eYear=%{x}\\u003cbr\\u003eNumber of Movies=%{marker.size}\\u003cextra\\u003e\\u003c\\u002fextra\\u003e\",\"legendgroup\":\"6.3\",\"marker\":{\"color\":\"#FECB52\",\"opacity\":0.7,\"size\":[2,3,1,1,1,3,1,1,1,1,1,1,1,1,1,2],\"sizemode\":\"area\",\"sizeref\":0.01,\"symbol\":\"circle\"},\"mode\":\"markers\",\"name\":\"6.3\",\"scene\":\"scene\",\"showlegend\":true,\"x\":[\"1976\",\"2005\",\"1994\",\"2008\",\"1989\",\"1999\",\"1987\",\"2011\",\"2001\",\"1961\",\"2009\",\"2000\",\"1997\",\"2003\",\"2018\",\"2019\"],\"y\":[\"6.3\",\"6.3\",\"6.3\",\"6.3\",\"6.3\",\"6.3\",\"6.3\",\"6.3\",\"6.3\",\"6.3\",\"6.3\",\"6.3\",\"6.3\",\"6.3\",\"6.3\",\"6.3\"],\"z\":[2,3,1,1,1,3,1,1,1,1,1,1,1,1,1,2],\"type\":\"scatter3d\"},{\"hovertemplate\":\"IMDB Rating=%{y}\\u003cbr\\u003eYear=%{x}\\u003cbr\\u003eNumber of Movies=%{marker.size}\\u003cextra\\u003e\\u003c\\u002fextra\\u003e\",\"legendgroup\":\"6.5\",\"marker\":{\"color\":\"#636efa\",\"opacity\":0.7,\"size\":[1,1,1,2,1,1,1,1,2,1,2,1,2,2,1,1,1,1,1,1,1],\"sizemode\":\"area\",\"sizeref\":0.01,\"symbol\":\"circle\"},\"mode\":\"markers\",\"name\":\"6.5\",\"scene\":\"scene\",\"showlegend\":true,\"x\":[\"1975\",\"1994\",\"1952\",\"1998\",\"1986\",\"2012\",\"1940\",\"1988\",\"2000\",\"2003\",\"2017\",\"2013\",\"1972\",\"2008\",\"1959\",\"2002\",\"1944\",\"1968\",\"2004\",\"1999\",\"2007\"],\"y\":[\"6.5\",\"6.5\",\"6.5\",\"6.5\",\"6.5\",\"6.5\",\"6.5\",\"6.5\",\"6.5\",\"6.5\",\"6.5\",\"6.5\",\"6.5\",\"6.5\",\"6.5\",\"6.5\",\"6.5\",\"6.5\",\"6.5\",\"6.5\",\"6.5\"],\"z\":[1,1,1,2,1,1,1,1,2,1,2,1,2,2,1,1,1,1,1,1,1],\"type\":\"scatter3d\"},{\"hovertemplate\":\"IMDB Rating=%{y}\\u003cbr\\u003eYear=%{x}\\u003cbr\\u003eNumber of Movies=%{marker.size}\\u003cextra\\u003e\\u003c\\u002fextra\\u003e\",\"legendgroup\":\"8.2\",\"marker\":{\"color\":\"#EF553B\",\"opacity\":0.7,\"size\":[2,1,1],\"sizemode\":\"area\",\"sizeref\":0.01,\"symbol\":\"circle\"},\"mode\":\"markers\",\"name\":\"8.2\",\"scene\":\"scene\",\"showlegend\":true,\"x\":[\"2018\",\"2015\",\"2009\"],\"y\":[\"8.2\",\"8.2\",\"8.2\"],\"z\":[2,1,1],\"type\":\"scatter3d\"},{\"hovertemplate\":\"IMDB Rating=%{y}\\u003cbr\\u003eYear=%{x}\\u003cbr\\u003eNumber of Movies=%{marker.size}\\u003cextra\\u003e\\u003c\\u002fextra\\u003e\",\"legendgroup\":\"7.1\",\"marker\":{\"color\":\"#00cc96\",\"opacity\":0.7,\"size\":[1,2,1,1,1,1,1,2,2,1,2,1,2,1,2,1,1,1,1,1,1,2,1,1,2],\"sizemode\":\"area\",\"sizeref\":0.01,\"symbol\":\"circle\"},\"mode\":\"markers\",\"name\":\"7.1\",\"scene\":\"scene\",\"showlegend\":true,\"x\":[\"1990\",\"2007\",\"2019\",\"1963\",\"2009\",\"1941\",\"1940\",\"1942\",\"2011\",\"1962\",\"1939\",\"1977\",\"1934\",\"1997\",\"2012\",\"2005\",\"1950\",\"1958\",\"1970\",\"2002\",\"1971\",\"2018\",\"1961\",\"2014\",\"2006\"],\"y\":[\"7.1\",\"7.1\",\"7.1\",\"7.1\",\"7.1\",\"7.1\",\"7.1\",\"7.1\",\"7.1\",\"7.1\",\"7.1\",\"7.1\",\"7.1\",\"7.1\",\"7.1\",\"7.1\",\"7.1\",\"7.1\",\"7.1\",\"7.1\",\"7.1\",\"7.1\",\"7.1\",\"7.1\",\"7.1\"],\"z\":[1,2,1,1,1,1,1,2,2,1,2,1,2,1,2,1,1,1,1,1,1,2,1,1,2],\"type\":\"scatter3d\"},{\"hovertemplate\":\"IMDB Rating=%{y}\\u003cbr\\u003eYear=%{x}\\u003cbr\\u003eNumber of Movies=%{marker.size}\\u003cextra\\u003e\\u003c\\u002fextra\\u003e\",\"legendgroup\":\"8.5\",\"marker\":{\"color\":\"#ab63fa\",\"opacity\":0.7,\"size\":[1,1],\"sizemode\":\"area\",\"sizeref\":0.01,\"symbol\":\"circle\"},\"mode\":\"markers\",\"name\":\"8.5\",\"scene\":\"scene\",\"showlegend\":true,\"x\":[\"2017\",\"1994\"],\"y\":[\"8.5\",\"8.5\"],\"z\":[1,1],\"type\":\"scatter3d\"},{\"hovertemplate\":\"IMDB Rating=%{y}\\u003cbr\\u003eYear=%{x}\\u003cbr\\u003eNumber of Movies=%{marker.size}\\u003cextra\\u003e\\u003c\\u002fextra\\u003e\",\"legendgroup\":\"5.5\",\"marker\":{\"color\":\"#FFA15A\",\"opacity\":0.7,\"size\":[1,1,1,1,1,1,1,1,2,1,1,1,1],\"sizemode\":\"area\",\"sizeref\":0.01,\"symbol\":\"circle\"},\"mode\":\"markers\",\"name\":\"5.5\",\"scene\":\"scene\",\"showlegend\":true,\"x\":[\"1998\",\"2017\",\"2002\",\"2001\",\"1995\",\"2006\",\"2003\",\"2014\",\"2019\",\"2012\",\"2011\",\"2005\",\"2007\"],\"y\":[\"5.5\",\"5.5\",\"5.5\",\"5.5\",\"5.5\",\"5.5\",\"5.5\",\"5.5\",\"5.5\",\"5.5\",\"5.5\",\"5.5\",\"5.5\"],\"z\":[1,1,1,1,1,1,1,1,2,1,1,1,1],\"type\":\"scatter3d\"},{\"hovertemplate\":\"IMDB Rating=%{y}\\u003cbr\\u003eYear=%{x}\\u003cbr\\u003eNumber of Movies=%{marker.size}\\u003cextra\\u003e\\u003c\\u002fextra\\u003e\",\"legendgroup\":\"6.9\",\"marker\":{\"color\":\"#19d3f3\",\"opacity\":0.7,\"size\":[1,3,1,1,2,1,1,2,1,1,1,1,1,1,1,1,1,1,2,1,1,1,1],\"sizemode\":\"area\",\"sizeref\":0.01,\"symbol\":\"circle\"},\"mode\":\"markers\",\"name\":\"6.9\",\"scene\":\"scene\",\"showlegend\":true,\"x\":[\"2015\",\"2019\",\"1952\",\"1968\",\"1993\",\"1939\",\"2004\",\"1990\",\"1946\",\"1999\",\"2010\",\"2001\",\"1963\",\"1986\",\"2013\",\"2012\",\"1936\",\"1950\",\"2011\",\"1935\",\"2005\",\"2002\",\"1934\"],\"y\":[\"6.9\",\"6.9\",\"6.9\",\"6.9\",\"6.9\",\"6.9\",\"6.9\",\"6.9\",\"6.9\",\"6.9\",\"6.9\",\"6.9\",\"6.9\",\"6.9\",\"6.9\",\"6.9\",\"6.9\",\"6.9\",\"6.9\",\"6.9\",\"6.9\",\"6.9\",\"6.9\"],\"z\":[1,3,1,1,2,1,1,2,1,1,1,1,1,1,1,1,1,1,2,1,1,1,1],\"type\":\"scatter3d\"},{\"hovertemplate\":\"IMDB Rating=%{y}\\u003cbr\\u003eYear=%{x}\\u003cbr\\u003eNumber of Movies=%{marker.size}\\u003cextra\\u003e\\u003c\\u002fextra\\u003e\",\"legendgroup\":\"5.8\",\"marker\":{\"color\":\"#FF6692\",\"opacity\":0.7,\"size\":[1,1,2,2,1,3],\"sizemode\":\"area\",\"sizeref\":0.01,\"symbol\":\"circle\"},\"mode\":\"markers\",\"name\":\"5.8\",\"scene\":\"scene\",\"showlegend\":true,\"x\":[\"2008\",\"1996\",\"2005\",\"2004\",\"2007\",\"2002\"],\"y\":[\"5.8\",\"5.8\",\"5.8\",\"5.8\",\"5.8\",\"5.8\"],\"z\":[1,1,2,2,1,3],\"type\":\"scatter3d\"},{\"hovertemplate\":\"IMDB Rating=%{y}\\u003cbr\\u003eYear=%{x}\\u003cbr\\u003eNumber of Movies=%{marker.size}\\u003cextra\\u003e\\u003c\\u002fextra\\u003e\",\"legendgroup\":\"5.1\",\"marker\":{\"color\":\"#B6E880\",\"opacity\":0.7,\"size\":[1,1,1,1,1,1,1,1],\"sizemode\":\"area\",\"sizeref\":0.01,\"symbol\":\"circle\"},\"mode\":\"markers\",\"name\":\"5.1\",\"scene\":\"scene\",\"showlegend\":true,\"x\":[\"1995\",\"2009\",\"1999\",\"2017\",\"2018\",\"2003\",\"2002\",\"2001\"],\"y\":[\"5.1\",\"5.1\",\"5.1\",\"5.1\",\"5.1\",\"5.1\",\"5.1\",\"5.1\"],\"z\":[1,1,1,1,1,1,1,1],\"type\":\"scatter3d\"},{\"hovertemplate\":\"IMDB Rating=%{y}\\u003cbr\\u003eYear=%{x}\\u003cbr\\u003eNumber of Movies=%{marker.size}\\u003cextra\\u003e\\u003c\\u002fextra\\u003e\",\"legendgroup\":\"4.7\",\"marker\":{\"color\":\"#FF97FF\",\"opacity\":0.7,\"size\":[1,1,1,1,1,1,2,1,1,1],\"sizemode\":\"area\",\"sizeref\":0.01,\"symbol\":\"circle\"},\"mode\":\"markers\",\"name\":\"4.7\",\"scene\":\"scene\",\"showlegend\":true,\"x\":[\"1995\",\"2013\",\"1997\",\"1998\",\"2020\",\"2006\",\"2001\",\"2008\",\"2002\",\"2011\"],\"y\":[\"4.7\",\"4.7\",\"4.7\",\"4.7\",\"4.7\",\"4.7\",\"4.7\",\"4.7\",\"4.7\",\"4.7\"],\"z\":[1,1,1,1,1,1,2,1,1,1],\"type\":\"scatter3d\"},{\"hovertemplate\":\"IMDB Rating=%{y}\\u003cbr\\u003eYear=%{x}\\u003cbr\\u003eNumber of Movies=%{marker.size}\\u003cextra\\u003e\\u003c\\u002fextra\\u003e\",\"legendgroup\":\"3.6\",\"marker\":{\"color\":\"#FECB52\",\"opacity\":0.7,\"size\":[1],\"sizemode\":\"area\",\"sizeref\":0.01,\"symbol\":\"circle\"},\"mode\":\"markers\",\"name\":\"3.6\",\"scene\":\"scene\",\"showlegend\":true,\"x\":[\"2019\"],\"y\":[\"3.6\"],\"z\":[1],\"type\":\"scatter3d\"},{\"hovertemplate\":\"IMDB Rating=%{y}\\u003cbr\\u003eYear=%{x}\\u003cbr\\u003eNumber of Movies=%{marker.size}\\u003cextra\\u003e\\u003c\\u002fextra\\u003e\",\"legendgroup\":\"6.2\",\"marker\":{\"color\":\"#636efa\",\"opacity\":0.7,\"size\":[1,1,2,1,1,1,2,2,2,1,1,1,2,1,1,1,1,1,1,1],\"sizemode\":\"area\",\"sizeref\":0.01,\"symbol\":\"circle\"},\"mode\":\"markers\",\"name\":\"6.2\",\"scene\":\"scene\",\"showlegend\":true,\"x\":[\"2009\",\"1964\",\"2004\",\"2010\",\"1999\",\"1971\",\"2003\",\"2006\",\"2000\",\"2017\",\"2020\",\"2012\",\"2001\",\"1974\",\"1989\",\"2019\",\"1962\",\"1984\",\"1993\",\"1942\"],\"y\":[\"6.2\",\"6.2\",\"6.2\",\"6.2\",\"6.2\",\"6.2\",\"6.2\",\"6.2\",\"6.2\",\"6.2\",\"6.2\",\"6.2\",\"6.2\",\"6.2\",\"6.2\",\"6.2\",\"6.2\",\"6.2\",\"6.2\",\"6.2\"],\"z\":[1,1,2,1,1,1,2,2,2,1,1,1,2,1,1,1,1,1,1,1],\"type\":\"scatter3d\"},{\"hovertemplate\":\"IMDB Rating=%{y}\\u003cbr\\u003eYear=%{x}\\u003cbr\\u003eNumber of Movies=%{marker.size}\\u003cextra\\u003e\\u003c\\u002fextra\\u003e\",\"legendgroup\":\"5.3\",\"marker\":{\"color\":\"#EF553B\",\"opacity\":0.7,\"size\":[1,2,1,1,1,1,2],\"sizemode\":\"area\",\"sizeref\":0.01,\"symbol\":\"circle\"},\"mode\":\"markers\",\"name\":\"5.3\",\"scene\":\"scene\",\"showlegend\":true,\"x\":[\"1994\",\"2007\",\"2004\",\"2011\",\"1979\",\"2000\",\"2006\"],\"y\":[\"5.3\",\"5.3\",\"5.3\",\"5.3\",\"5.3\",\"5.3\",\"5.3\"],\"z\":[1,2,1,1,1,1,2],\"type\":\"scatter3d\"},{\"hovertemplate\":\"IMDB Rating=%{y}\\u003cbr\\u003eYear=%{x}\\u003cbr\\u003eNumber of Movies=%{marker.size}\\u003cextra\\u003e\\u003c\\u002fextra\\u003e\",\"legendgroup\":\"5.0\",\"marker\":{\"color\":\"#00cc96\",\"opacity\":0.7,\"size\":[1,1,1,1,1,1,1,1,1,2,1],\"sizemode\":\"area\",\"sizeref\":0.01,\"symbol\":\"circle\"},\"mode\":\"markers\",\"name\":\"5.0\",\"scene\":\"scene\",\"showlegend\":true,\"x\":[\"2001\",\"2019\",\"1980\",\"2003\",\"1997\",\"2012\",\"2009\",\"2006\",\"2000\",\"1999\",\"2007\"],\"y\":[\"5.0\",\"5.0\",\"5.0\",\"5.0\",\"5.0\",\"5.0\",\"5.0\",\"5.0\",\"5.0\",\"5.0\",\"5.0\"],\"z\":[1,1,1,1,1,1,1,1,1,2,1],\"type\":\"scatter3d\"},{\"hovertemplate\":\"IMDB Rating=%{y}\\u003cbr\\u003eYear=%{x}\\u003cbr\\u003eNumber of Movies=%{marker.size}\\u003cextra\\u003e\\u003c\\u002fextra\\u003e\",\"legendgroup\":\" Milt Banta (additional story)\\\"\",\"marker\":{\"color\":\"#ab63fa\",\"opacity\":0.7,\"size\":[1],\"sizemode\":\"area\",\"sizeref\":0.01,\"symbol\":\"circle\"},\"mode\":\"markers\",\"name\":\" Milt Banta (additional story)\\\"\",\"scene\":\"scene\",\"showlegend\":true,\"x\":[\"1959\"],\"y\":[\" Milt Banta (additional story)\\\"\"],\"z\":[1],\"type\":\"scatter3d\"},{\"hovertemplate\":\"IMDB Rating=%{y}\\u003cbr\\u003eYear=%{x}\\u003cbr\\u003eNumber of Movies=%{marker.size}\\u003cextra\\u003e\\u003c\\u002fextra\\u003e\",\"legendgroup\":\"5.4\",\"marker\":{\"color\":\"#FFA15A\",\"opacity\":0.7,\"size\":[1,1,1,2,1,1,1,2,2],\"sizemode\":\"area\",\"sizeref\":0.01,\"symbol\":\"circle\"},\"mode\":\"markers\",\"name\":\"5.4\",\"scene\":\"scene\",\"showlegend\":true,\"x\":[\"1997\",\"2010\",\"2017\",\"2009\",\"2003\",\"1998\",\"2005\",\"2006\",\"2011\"],\"y\":[\"5.4\",\"5.4\",\"5.4\",\"5.4\",\"5.4\",\"5.4\",\"5.4\",\"5.4\",\"5.4\"],\"z\":[1,1,1,2,1,1,1,2,2],\"type\":\"scatter3d\"},{\"hovertemplate\":\"IMDB Rating=%{y}\\u003cbr\\u003eYear=%{x}\\u003cbr\\u003eNumber of Movies=%{marker.size}\\u003cextra\\u003e\\u003c\\u002fextra\\u003e\",\"legendgroup\":\"4.8\",\"marker\":{\"color\":\"#19d3f3\",\"opacity\":0.7,\"size\":[1,1,1,1,1,1],\"sizemode\":\"area\",\"sizeref\":0.01,\"symbol\":\"circle\"},\"mode\":\"markers\",\"name\":\"4.8\",\"scene\":\"scene\",\"showlegend\":true,\"x\":[\"2008\",\"2005\",\"2004\",\"2018\",\"1992\",\"2003\"],\"y\":[\"4.8\",\"4.8\",\"4.8\",\"4.8\",\"4.8\",\"4.8\"],\"z\":[1,1,1,1,1,1],\"type\":\"scatter3d\"},{\"hovertemplate\":\"IMDB Rating=%{y}\\u003cbr\\u003eYear=%{x}\\u003cbr\\u003eNumber of Movies=%{marker.size}\\u003cextra\\u003e\\u003c\\u002fextra\\u003e\",\"legendgroup\":\" Ted Elliott (animation story by)\",\"marker\":{\"color\":\"#FF6692\",\"opacity\":0.7,\"size\":[1],\"sizemode\":\"area\",\"sizeref\":0.01,\"symbol\":\"circle\"},\"mode\":\"markers\",\"name\":\" Ted Elliott (animation story by)\",\"scene\":\"scene\",\"showlegend\":true,\"x\":[\"2002\"],\"y\":[\" Ted Elliott (animation story by)\"],\"z\":[1],\"type\":\"scatter3d\"},{\"hovertemplate\":\"IMDB Rating=%{y}\\u003cbr\\u003eYear=%{x}\\u003cbr\\u003eNumber of Movies=%{marker.size}\\u003cextra\\u003e\\u003c\\u002fextra\\u003e\",\"legendgroup\":\"USA\",\"marker\":{\"color\":\"#B6E880\",\"opacity\":0.7,\"size\":[1,1],\"sizemode\":\"area\",\"sizeref\":0.01,\"symbol\":\"circle\"},\"mode\":\"markers\",\"name\":\"USA\",\"scene\":\"scene\",\"showlegend\":true,\"x\":[\"2013\",\"1990\"],\"y\":[\"USA\",\"USA\"],\"z\":[1,1],\"type\":\"scatter3d\"},{\"hovertemplate\":\"IMDB Rating=%{y}\\u003cbr\\u003eYear=%{x}\\u003cbr\\u003eNumber of Movies=%{marker.size}\\u003cextra\\u003e\\u003c\\u002fextra\\u003e\",\"legendgroup\":\"N\\u002fA\",\"marker\":{\"color\":\"#FF97FF\",\"opacity\":0.7,\"size\":[1,1,1,2],\"sizemode\":\"area\",\"sizeref\":0.01,\"symbol\":\"circle\"},\"mode\":\"markers\",\"name\":\"N\\u002fA\",\"scene\":\"scene\",\"showlegend\":true,\"x\":[\"2017\",\"2004\",\"2013\",\"2019\"],\"y\":[\"N\\u002fA\",\"N\\u002fA\",\"N\\u002fA\",\"N\\u002fA\"],\"z\":[1,1,1,2],\"type\":\"scatter3d\"},{\"hovertemplate\":\"IMDB Rating=%{y}\\u003cbr\\u003eYear=%{x}\\u003cbr\\u003eNumber of Movies=%{marker.size}\\u003cextra\\u003e\\u003c\\u002fextra\\u003e\",\"legendgroup\":\"Billy Campbell, Jennifer Connelly, Alan Arkin, Timothy Dalton\",\"marker\":{\"color\":\"#FECB52\",\"opacity\":0.7,\"size\":[1],\"sizemode\":\"area\",\"sizeref\":0.01,\"symbol\":\"circle\"},\"mode\":\"markers\",\"name\":\"Billy Campbell, Jennifer Connelly, Alan Arkin, Timothy Dalton\",\"scene\":\"scene\",\"showlegend\":true,\"x\":[\"1991\"],\"y\":[\"Billy Campbell, Jennifer Connelly, Alan Arkin, Timothy Dalton\"],\"z\":[1],\"type\":\"scatter3d\"},{\"hovertemplate\":\"IMDB Rating=%{y}\\u003cbr\\u003eYear=%{x}\\u003cbr\\u003eNumber of Movies=%{marker.size}\\u003cextra\\u003e\\u003c\\u002fextra\\u003e\",\"legendgroup\":\"61\",\"marker\":{\"color\":\"#636efa\",\"opacity\":0.7,\"size\":[1],\"sizemode\":\"area\",\"sizeref\":0.01,\"symbol\":\"circle\"},\"mode\":\"markers\",\"name\":\"61\",\"scene\":\"scene\",\"showlegend\":true,\"x\":[\"2007\"],\"y\":[\"61\"],\"z\":[1],\"type\":\"scatter3d\"},{\"hovertemplate\":\"IMDB Rating=%{y}\\u003cbr\\u003eYear=%{x}\\u003cbr\\u003eNumber of Movies=%{marker.size}\\u003cextra\\u003e\\u003c\\u002fextra\\u003e\",\"legendgroup\":\"3.7\",\"marker\":{\"color\":\"#EF553B\",\"opacity\":0.7,\"size\":[1],\"sizemode\":\"area\",\"sizeref\":0.01,\"symbol\":\"circle\"},\"mode\":\"markers\",\"name\":\"3.7\",\"scene\":\"scene\",\"showlegend\":true,\"x\":[\"2018\"],\"y\":[\"3.7\"],\"z\":[1],\"type\":\"scatter3d\"},{\"hovertemplate\":\"IMDB Rating=%{y}\\u003cbr\\u003eYear=%{x}\\u003cbr\\u003eNumber of Movies=%{marker.size}\\u003cextra\\u003e\\u003c\\u002fextra\\u003e\",\"legendgroup\":\" Alan Dinehart (story adaptation)\\\"\",\"marker\":{\"color\":\"#00cc96\",\"opacity\":0.7,\"size\":[1],\"sizemode\":\"area\",\"sizeref\":0.01,\"symbol\":\"circle\"},\"mode\":\"markers\",\"name\":\" Alan Dinehart (story adaptation)\\\"\",\"scene\":\"scene\",\"showlegend\":true,\"x\":[\"1983\"],\"y\":[\" Alan Dinehart (story adaptation)\\\"\"],\"z\":[1],\"type\":\"scatter3d\"},{\"hovertemplate\":\"IMDB Rating=%{y}\\u003cbr\\u003eYear=%{x}\\u003cbr\\u003eNumber of Movies=%{marker.size}\\u003cextra\\u003e\\u003c\\u002fextra\\u003e\",\"legendgroup\":\"5.2\",\"marker\":{\"color\":\"#ab63fa\",\"opacity\":0.7,\"size\":[1,1,1,1,1],\"sizemode\":\"area\",\"sizeref\":0.01,\"symbol\":\"circle\"},\"mode\":\"markers\",\"name\":\"5.2\",\"scene\":\"scene\",\"showlegend\":true,\"x\":[\"2008\",\"1996\",\"2006\",\"1997\",\"2002\"],\"y\":[\"5.2\",\"5.2\",\"5.2\",\"5.2\",\"5.2\"],\"z\":[1,1,1,1,1],\"type\":\"scatter3d\"},{\"hovertemplate\":\"IMDB Rating=%{y}\\u003cbr\\u003eYear=%{x}\\u003cbr\\u003eNumber of Movies=%{marker.size}\\u003cextra\\u003e\\u003c\\u002fextra\\u003e\",\"legendgroup\":\"4.2\",\"marker\":{\"color\":\"#FFA15A\",\"opacity\":0.7,\"size\":[1,1,1],\"sizemode\":\"area\",\"sizeref\":0.01,\"symbol\":\"circle\"},\"mode\":\"markers\",\"name\":\"4.2\",\"scene\":\"scene\",\"showlegend\":true,\"x\":[\"2018\",\"1998\",\"2013\"],\"y\":[\"4.2\",\"4.2\",\"4.2\"],\"z\":[1,1,1],\"type\":\"scatter3d\"},{\"hovertemplate\":\"IMDB Rating=%{y}\\u003cbr\\u003eYear=%{x}\\u003cbr\\u003eNumber of Movies=%{marker.size}\\u003cextra\\u003e\\u003c\\u002fextra\\u003e\",\"legendgroup\":\" Homer Brightman (story)\",\"marker\":{\"color\":\"#19d3f3\",\"opacity\":0.7,\"size\":[1],\"sizemode\":\"area\",\"sizeref\":0.01,\"symbol\":\"circle\"},\"mode\":\"markers\",\"name\":\" Homer Brightman (story)\",\"scene\":\"scene\",\"showlegend\":true,\"x\":[\"1949\"],\"y\":[\" Homer Brightman (story)\"],\"z\":[1],\"type\":\"scatter3d\"},{\"hovertemplate\":\"IMDB Rating=%{y}\\u003cbr\\u003eYear=%{x}\\u003cbr\\u003eNumber of Movies=%{marker.size}\\u003cextra\\u003e\\u003c\\u002fextra\\u003e\",\"legendgroup\":\"8.1\",\"marker\":{\"color\":\"#FF6692\",\"opacity\":0.7,\"size\":[1,1,1,1,1,1,1],\"sizemode\":\"area\",\"sizeref\":0.01,\"symbol\":\"circle\"},\"mode\":\"markers\",\"name\":\"8.1\",\"scene\":\"scene\",\"showlegend\":true,\"x\":[\"2020\",\"2003\",\"1987\",\"2016\",\"2010\",\"2019\",\"1953\"],\"y\":[\"8.1\",\"8.1\",\"8.1\",\"8.1\",\"8.1\",\"8.1\",\"8.1\"],\"z\":[1,1,1,1,1,1,1],\"type\":\"scatter3d\"},{\"hovertemplate\":\"IMDB Rating=%{y}\\u003cbr\\u003eYear=%{x}\\u003cbr\\u003eNumber of Movies=%{marker.size}\\u003cextra\\u003e\\u003c\\u002fextra\\u003e\",\"legendgroup\":\"8.6\",\"marker\":{\"color\":\"#B6E880\",\"opacity\":0.7,\"size\":[1],\"sizemode\":\"area\",\"sizeref\":0.01,\"symbol\":\"circle\"},\"mode\":\"markers\",\"name\":\"8.6\",\"scene\":\"scene\",\"showlegend\":true,\"x\":[\"1977\"],\"y\":[\"8.6\"],\"z\":[1],\"type\":\"scatter3d\"},{\"hovertemplate\":\"IMDB Rating=%{y}\\u003cbr\\u003eYear=%{x}\\u003cbr\\u003eNumber of Movies=%{marker.size}\\u003cextra\\u003e\\u003c\\u002fextra\\u003e\",\"legendgroup\":\"8.7\",\"marker\":{\"color\":\"#FF97FF\",\"opacity\":0.7,\"size\":[1],\"sizemode\":\"area\",\"sizeref\":0.01,\"symbol\":\"circle\"},\"mode\":\"markers\",\"name\":\"8.7\",\"scene\":\"scene\",\"showlegend\":true,\"x\":[\"1980\"],\"y\":[\"8.7\"],\"z\":[1],\"type\":\"scatter3d\"},{\"hovertemplate\":\"IMDB Rating=%{y}\\u003cbr\\u003eYear=%{x}\\u003cbr\\u003eNumber of Movies=%{marker.size}\\u003cextra\\u003e\\u003c\\u002fextra\\u003e\",\"legendgroup\":\"English\",\"marker\":{\"color\":\"#FECB52\",\"opacity\":0.7,\"size\":[1],\"sizemode\":\"area\",\"sizeref\":0.01,\"symbol\":\"circle\"},\"mode\":\"markers\",\"name\":\"English\",\"scene\":\"scene\",\"showlegend\":true,\"x\":[\"1941\"],\"y\":[\"English\"],\"z\":[1],\"type\":\"scatter3d\"},{\"hovertemplate\":\"IMDB Rating=%{y}\\u003cbr\\u003eYear=%{x}\\u003cbr\\u003eNumber of Movies=%{marker.size}\\u003cextra\\u003e\\u003c\\u002fextra\\u003e\",\"legendgroup\":\"4.6\",\"marker\":{\"color\":\"#636efa\",\"opacity\":0.7,\"size\":[1,1],\"sizemode\":\"area\",\"sizeref\":0.01,\"symbol\":\"circle\"},\"mode\":\"markers\",\"name\":\"4.6\",\"scene\":\"scene\",\"showlegend\":true,\"x\":[\"2019\",\"2004\"],\"y\":[\"4.6\",\"4.6\"],\"z\":[1,1],\"type\":\"scatter3d\"},{\"hovertemplate\":\"IMDB Rating=%{y}\\u003cbr\\u003eYear=%{x}\\u003cbr\\u003eNumber of Movies=%{marker.size}\\u003cextra\\u003e\\u003c\\u002fextra\\u003e\",\"legendgroup\":\"8.4\",\"marker\":{\"color\":\"#EF553B\",\"opacity\":0.7,\"size\":[2,1,1,1],\"sizemode\":\"area\",\"sizeref\":0.01,\"symbol\":\"circle\"},\"mode\":\"markers\",\"name\":\"8.4\",\"scene\":\"scene\",\"showlegend\":true,\"x\":[\"2008\",\"2016\",\"2019\",\"2017\"],\"y\":[\"8.4\",\"8.4\",\"8.4\",\"8.4\"],\"z\":[2,1,1,1],\"type\":\"scatter3d\"},{\"hovertemplate\":\"IMDB Rating=%{y}\\u003cbr\\u003eYear=%{x}\\u003cbr\\u003eNumber of Movies=%{marker.size}\\u003cextra\\u003e\\u003c\\u002fextra\\u003e\",\"legendgroup\":\"3.3\",\"marker\":{\"color\":\"#00cc96\",\"opacity\":0.7,\"size\":[1],\"sizemode\":\"area\",\"sizeref\":0.01,\"symbol\":\"circle\"},\"mode\":\"markers\",\"name\":\"3.3\",\"scene\":\"scene\",\"showlegend\":true,\"x\":[\"2003\"],\"y\":[\"3.3\"],\"z\":[1],\"type\":\"scatter3d\"},{\"hovertemplate\":\"IMDB Rating=%{y}\\u003cbr\\u003eYear=%{x}\\u003cbr\\u003eNumber of Movies=%{marker.size}\\u003cextra\\u003e\\u003c\\u002fextra\\u003e\",\"legendgroup\":\"Nominated for 1 Oscar. Another 14 wins & 32 nominations.\",\"marker\":{\"color\":\"#ab63fa\",\"opacity\":0.7,\"size\":[1],\"sizemode\":\"area\",\"sizeref\":0.01,\"symbol\":\"circle\"},\"mode\":\"markers\",\"name\":\"Nominated for 1 Oscar. Another 14 wins & 32 nominations.\",\"scene\":\"scene\",\"showlegend\":true,\"x\":[\"2019\"],\"y\":[\"Nominated for 1 Oscar. Another 14 wins & 32 nominations.\"],\"z\":[1],\"type\":\"scatter3d\"},{\"hovertemplate\":\"IMDB Rating=%{y}\\u003cbr\\u003eYear=%{x}\\u003cbr\\u003eNumber of Movies=%{marker.size}\\u003cextra\\u003e\\u003c\\u002fextra\\u003e\",\"legendgroup\":\"3.4\",\"marker\":{\"color\":\"#FFA15A\",\"opacity\":0.7,\"size\":[1],\"sizemode\":\"area\",\"sizeref\":0.01,\"symbol\":\"circle\"},\"mode\":\"markers\",\"name\":\"3.4\",\"scene\":\"scene\",\"showlegend\":true,\"x\":[\"2003\"],\"y\":[\"3.4\"],\"z\":[1],\"type\":\"scatter3d\"},{\"hovertemplate\":\"IMDB Rating=%{y}\\u003cbr\\u003eYear=%{x}\\u003cbr\\u003eNumber of Movies=%{marker.size}\\u003cextra\\u003e\\u003c\\u002fextra\\u003e\",\"legendgroup\":\"4.0\",\"marker\":{\"color\":\"#19d3f3\",\"opacity\":0.7,\"size\":[1],\"sizemode\":\"area\",\"sizeref\":0.01,\"symbol\":\"circle\"},\"mode\":\"markers\",\"name\":\"4.0\",\"scene\":\"scene\",\"showlegend\":true,\"x\":[\"2019\"],\"y\":[\"4.0\"],\"z\":[1],\"type\":\"scatter3d\"},{\"hovertemplate\":\"IMDB Rating=%{y}\\u003cbr\\u003eYear=%{x}\\u003cbr\\u003eNumber of Movies=%{marker.size}\\u003cextra\\u003e\\u003c\\u002fextra\\u003e\",\"legendgroup\":\" Kevin Harkey (story)\",\"marker\":{\"color\":\"#FF6692\",\"opacity\":0.7,\"size\":[1],\"sizemode\":\"area\",\"sizeref\":0.01,\"symbol\":\"circle\"},\"mode\":\"markers\",\"name\":\" Kevin Harkey (story)\",\"scene\":\"scene\",\"showlegend\":true,\"x\":[\"1996\"],\"y\":[\" Kevin Harkey (story)\"],\"z\":[1],\"type\":\"scatter3d\"},{\"hovertemplate\":\"IMDB Rating=%{y}\\u003cbr\\u003eYear=%{x}\\u003cbr\\u003eNumber of Movies=%{marker.size}\\u003cextra\\u003e\\u003c\\u002fextra\\u003e\",\"legendgroup\":\" Allison Schroeder (additional screenplay material by)\\\"\",\"marker\":{\"color\":\"#B6E880\",\"opacity\":0.7,\"size\":[1],\"sizemode\":\"area\",\"sizeref\":0.01,\"symbol\":\"circle\"},\"mode\":\"markers\",\"name\":\" Allison Schroeder (additional screenplay material by)\\\"\",\"scene\":\"scene\",\"showlegend\":true,\"x\":[\"2019\"],\"y\":[\" Allison Schroeder (additional screenplay material by)\\\"\"],\"z\":[1],\"type\":\"scatter3d\"},{\"hovertemplate\":\"IMDB Rating=%{y}\\u003cbr\\u003eYear=%{x}\\u003cbr\\u003eNumber of Movies=%{marker.size}\\u003cextra\\u003e\\u003c\\u002fextra\\u003e\",\"legendgroup\":\"4.3\",\"marker\":{\"color\":\"#FF97FF\",\"opacity\":0.7,\"size\":[1],\"sizemode\":\"area\",\"sizeref\":0.01,\"symbol\":\"circle\"},\"mode\":\"markers\",\"name\":\"4.3\",\"scene\":\"scene\",\"showlegend\":true,\"x\":[\"2008\"],\"y\":[\"4.3\"],\"z\":[1],\"type\":\"scatter3d\"},{\"hovertemplate\":\"IMDB Rating=%{y}\\u003cbr\\u003eYear=%{x}\\u003cbr\\u003eNumber of Movies=%{marker.size}\\u003cextra\\u003e\\u003c\\u002fextra\\u003e\",\"legendgroup\":\"4.5\",\"marker\":{\"color\":\"#FECB52\",\"opacity\":0.7,\"size\":[1],\"sizemode\":\"area\",\"sizeref\":0.01,\"symbol\":\"circle\"},\"mode\":\"markers\",\"name\":\"4.5\",\"scene\":\"scene\",\"showlegend\":true,\"x\":[\"1997\"],\"y\":[\"4.5\"],\"z\":[1],\"type\":\"scatter3d\"},{\"hovertemplate\":\"IMDB Rating=%{y}\\u003cbr\\u003eYear=%{x}\\u003cbr\\u003eNumber of Movies=%{marker.size}\\u003cextra\\u003e\\u003c\\u002fextra\\u003e\",\"legendgroup\":\"4.4\",\"marker\":{\"color\":\"#636efa\",\"opacity\":0.7,\"size\":[1],\"sizemode\":\"area\",\"sizeref\":0.01,\"symbol\":\"circle\"},\"mode\":\"markers\",\"name\":\"4.4\",\"scene\":\"scene\",\"showlegend\":true,\"x\":[\"2009\"],\"y\":[\"4.4\"],\"z\":[1],\"type\":\"scatter3d\"},{\"hovertemplate\":\"IMDB Rating=%{y}\\u003cbr\\u003eYear=%{x}\\u003cbr\\u003eNumber of Movies=%{marker.size}\\u003cextra\\u003e\\u003c\\u002fextra\\u003e\",\"legendgroup\":\"3.0\",\"marker\":{\"color\":\"#EF553B\",\"opacity\":0.7,\"size\":[1],\"sizemode\":\"area\",\"sizeref\":0.01,\"symbol\":\"circle\"},\"mode\":\"markers\",\"name\":\"3.0\",\"scene\":\"scene\",\"showlegend\":true,\"x\":[\"1996\"],\"y\":[\"3.0\"],\"z\":[1],\"type\":\"scatter3d\"},{\"hovertemplate\":\"IMDB Rating=%{y}\\u003cbr\\u003eYear=%{x}\\u003cbr\\u003eNumber of Movies=%{marker.size}\\u003cextra\\u003e\\u003c\\u002fextra\\u003e\",\"legendgroup\":\" Jim Peterson\",\"marker\":{\"color\":\"#00cc96\",\"opacity\":0.7,\"size\":[1],\"sizemode\":\"area\",\"sizeref\":0.01,\"symbol\":\"circle\"},\"mode\":\"markers\",\"name\":\" Jim Peterson\",\"scene\":\"scene\",\"showlegend\":true,\"x\":[\"2002\"],\"y\":[\" Jim Peterson\"],\"z\":[1],\"type\":\"scatter3d\"},{\"hovertemplate\":\"IMDB Rating=%{y}\\u003cbr\\u003eYear=%{x}\\u003cbr\\u003eNumber of Movies=%{marker.size}\\u003cextra\\u003e\\u003c\\u002fextra\\u003e\",\"legendgroup\":\"62\",\"marker\":{\"color\":\"#ab63fa\",\"opacity\":0.7,\"size\":[1],\"sizemode\":\"area\",\"sizeref\":0.01,\"symbol\":\"circle\"},\"mode\":\"markers\",\"name\":\"62\",\"scene\":\"scene\",\"showlegend\":true,\"x\":[\"2013\"],\"y\":[\"62\"],\"z\":[1],\"type\":\"scatter3d\"},{\"hovertemplate\":\"IMDB Rating=%{y}\\u003cbr\\u003eYear=%{x}\\u003cbr\\u003eNumber of Movies=%{marker.size}\\u003cextra\\u003e\\u003c\\u002fextra\\u003e\",\"legendgroup\":\"2 wins & 1 nomination.\",\"marker\":{\"color\":\"#FFA15A\",\"opacity\":0.7,\"size\":[1],\"sizemode\":\"area\",\"sizeref\":0.01,\"symbol\":\"circle\"},\"mode\":\"markers\",\"name\":\"2 wins & 1 nomination.\",\"scene\":\"scene\",\"showlegend\":true,\"x\":[\"1987\"],\"y\":[\"2 wins & 1 nomination.\"],\"z\":[1],\"type\":\"scatter3d\"}],                        {\"template\":{\"data\":{\"histogram2dcontour\":[{\"type\":\"histogram2dcontour\",\"colorbar\":{\"outlinewidth\":0,\"ticks\":\"\"},\"colorscale\":[[0.0,\"#0d0887\"],[0.1111111111111111,\"#46039f\"],[0.2222222222222222,\"#7201a8\"],[0.3333333333333333,\"#9c179e\"],[0.4444444444444444,\"#bd3786\"],[0.5555555555555556,\"#d8576b\"],[0.6666666666666666,\"#ed7953\"],[0.7777777777777778,\"#fb9f3a\"],[0.8888888888888888,\"#fdca26\"],[1.0,\"#f0f921\"]]}],\"choropleth\":[{\"type\":\"choropleth\",\"colorbar\":{\"outlinewidth\":0,\"ticks\":\"\"}}],\"histogram2d\":[{\"type\":\"histogram2d\",\"colorbar\":{\"outlinewidth\":0,\"ticks\":\"\"},\"colorscale\":[[0.0,\"#0d0887\"],[0.1111111111111111,\"#46039f\"],[0.2222222222222222,\"#7201a8\"],[0.3333333333333333,\"#9c179e\"],[0.4444444444444444,\"#bd3786\"],[0.5555555555555556,\"#d8576b\"],[0.6666666666666666,\"#ed7953\"],[0.7777777777777778,\"#fb9f3a\"],[0.8888888888888888,\"#fdca26\"],[1.0,\"#f0f921\"]]}],\"heatmap\":[{\"type\":\"heatmap\",\"colorbar\":{\"outlinewidth\":0,\"ticks\":\"\"},\"colorscale\":[[0.0,\"#0d0887\"],[0.1111111111111111,\"#46039f\"],[0.2222222222222222,\"#7201a8\"],[0.3333333333333333,\"#9c179e\"],[0.4444444444444444,\"#bd3786\"],[0.5555555555555556,\"#d8576b\"],[0.6666666666666666,\"#ed7953\"],[0.7777777777777778,\"#fb9f3a\"],[0.8888888888888888,\"#fdca26\"],[1.0,\"#f0f921\"]]}],\"heatmapgl\":[{\"type\":\"heatmapgl\",\"colorbar\":{\"outlinewidth\":0,\"ticks\":\"\"},\"colorscale\":[[0.0,\"#0d0887\"],[0.1111111111111111,\"#46039f\"],[0.2222222222222222,\"#7201a8\"],[0.3333333333333333,\"#9c179e\"],[0.4444444444444444,\"#bd3786\"],[0.5555555555555556,\"#d8576b\"],[0.6666666666666666,\"#ed7953\"],[0.7777777777777778,\"#fb9f3a\"],[0.8888888888888888,\"#fdca26\"],[1.0,\"#f0f921\"]]}],\"contourcarpet\":[{\"type\":\"contourcarpet\",\"colorbar\":{\"outlinewidth\":0,\"ticks\":\"\"}}],\"contour\":[{\"type\":\"contour\",\"colorbar\":{\"outlinewidth\":0,\"ticks\":\"\"},\"colorscale\":[[0.0,\"#0d0887\"],[0.1111111111111111,\"#46039f\"],[0.2222222222222222,\"#7201a8\"],[0.3333333333333333,\"#9c179e\"],[0.4444444444444444,\"#bd3786\"],[0.5555555555555556,\"#d8576b\"],[0.6666666666666666,\"#ed7953\"],[0.7777777777777778,\"#fb9f3a\"],[0.8888888888888888,\"#fdca26\"],[1.0,\"#f0f921\"]]}],\"surface\":[{\"type\":\"surface\",\"colorbar\":{\"outlinewidth\":0,\"ticks\":\"\"},\"colorscale\":[[0.0,\"#0d0887\"],[0.1111111111111111,\"#46039f\"],[0.2222222222222222,\"#7201a8\"],[0.3333333333333333,\"#9c179e\"],[0.4444444444444444,\"#bd3786\"],[0.5555555555555556,\"#d8576b\"],[0.6666666666666666,\"#ed7953\"],[0.7777777777777778,\"#fb9f3a\"],[0.8888888888888888,\"#fdca26\"],[1.0,\"#f0f921\"]]}],\"mesh3d\":[{\"type\":\"mesh3d\",\"colorbar\":{\"outlinewidth\":0,\"ticks\":\"\"}}],\"scatter\":[{\"fillpattern\":{\"fillmode\":\"overlay\",\"size\":10,\"solidity\":0.2},\"type\":\"scatter\"}],\"parcoords\":[{\"type\":\"parcoords\",\"line\":{\"colorbar\":{\"outlinewidth\":0,\"ticks\":\"\"}}}],\"scatterpolargl\":[{\"type\":\"scatterpolargl\",\"marker\":{\"colorbar\":{\"outlinewidth\":0,\"ticks\":\"\"}}}],\"bar\":[{\"error_x\":{\"color\":\"#2a3f5f\"},\"error_y\":{\"color\":\"#2a3f5f\"},\"marker\":{\"line\":{\"color\":\"#E5ECF6\",\"width\":0.5},\"pattern\":{\"fillmode\":\"overlay\",\"size\":10,\"solidity\":0.2}},\"type\":\"bar\"}],\"scattergeo\":[{\"type\":\"scattergeo\",\"marker\":{\"colorbar\":{\"outlinewidth\":0,\"ticks\":\"\"}}}],\"scatterpolar\":[{\"type\":\"scatterpolar\",\"marker\":{\"colorbar\":{\"outlinewidth\":0,\"ticks\":\"\"}}}],\"histogram\":[{\"marker\":{\"pattern\":{\"fillmode\":\"overlay\",\"size\":10,\"solidity\":0.2}},\"type\":\"histogram\"}],\"scattergl\":[{\"type\":\"scattergl\",\"marker\":{\"colorbar\":{\"outlinewidth\":0,\"ticks\":\"\"}}}],\"scatter3d\":[{\"type\":\"scatter3d\",\"line\":{\"colorbar\":{\"outlinewidth\":0,\"ticks\":\"\"}},\"marker\":{\"colorbar\":{\"outlinewidth\":0,\"ticks\":\"\"}}}],\"scattermapbox\":[{\"type\":\"scattermapbox\",\"marker\":{\"colorbar\":{\"outlinewidth\":0,\"ticks\":\"\"}}}],\"scatterternary\":[{\"type\":\"scatterternary\",\"marker\":{\"colorbar\":{\"outlinewidth\":0,\"ticks\":\"\"}}}],\"scattercarpet\":[{\"type\":\"scattercarpet\",\"marker\":{\"colorbar\":{\"outlinewidth\":0,\"ticks\":\"\"}}}],\"carpet\":[{\"aaxis\":{\"endlinecolor\":\"#2a3f5f\",\"gridcolor\":\"white\",\"linecolor\":\"white\",\"minorgridcolor\":\"white\",\"startlinecolor\":\"#2a3f5f\"},\"baxis\":{\"endlinecolor\":\"#2a3f5f\",\"gridcolor\":\"white\",\"linecolor\":\"white\",\"minorgridcolor\":\"white\",\"startlinecolor\":\"#2a3f5f\"},\"type\":\"carpet\"}],\"table\":[{\"cells\":{\"fill\":{\"color\":\"#EBF0F8\"},\"line\":{\"color\":\"white\"}},\"header\":{\"fill\":{\"color\":\"#C8D4E3\"},\"line\":{\"color\":\"white\"}},\"type\":\"table\"}],\"barpolar\":[{\"marker\":{\"line\":{\"color\":\"#E5ECF6\",\"width\":0.5},\"pattern\":{\"fillmode\":\"overlay\",\"size\":10,\"solidity\":0.2}},\"type\":\"barpolar\"}],\"pie\":[{\"automargin\":true,\"type\":\"pie\"}]},\"layout\":{\"autotypenumbers\":\"strict\",\"colorway\":[\"#636efa\",\"#EF553B\",\"#00cc96\",\"#ab63fa\",\"#FFA15A\",\"#19d3f3\",\"#FF6692\",\"#B6E880\",\"#FF97FF\",\"#FECB52\"],\"font\":{\"color\":\"#2a3f5f\"},\"hovermode\":\"closest\",\"hoverlabel\":{\"align\":\"left\"},\"paper_bgcolor\":\"white\",\"plot_bgcolor\":\"#E5ECF6\",\"polar\":{\"bgcolor\":\"#E5ECF6\",\"angularaxis\":{\"gridcolor\":\"white\",\"linecolor\":\"white\",\"ticks\":\"\"},\"radialaxis\":{\"gridcolor\":\"white\",\"linecolor\":\"white\",\"ticks\":\"\"}},\"ternary\":{\"bgcolor\":\"#E5ECF6\",\"aaxis\":{\"gridcolor\":\"white\",\"linecolor\":\"white\",\"ticks\":\"\"},\"baxis\":{\"gridcolor\":\"white\",\"linecolor\":\"white\",\"ticks\":\"\"},\"caxis\":{\"gridcolor\":\"white\",\"linecolor\":\"white\",\"ticks\":\"\"}},\"coloraxis\":{\"colorbar\":{\"outlinewidth\":0,\"ticks\":\"\"}},\"colorscale\":{\"sequential\":[[0.0,\"#0d0887\"],[0.1111111111111111,\"#46039f\"],[0.2222222222222222,\"#7201a8\"],[0.3333333333333333,\"#9c179e\"],[0.4444444444444444,\"#bd3786\"],[0.5555555555555556,\"#d8576b\"],[0.6666666666666666,\"#ed7953\"],[0.7777777777777778,\"#fb9f3a\"],[0.8888888888888888,\"#fdca26\"],[1.0,\"#f0f921\"]],\"sequentialminus\":[[0.0,\"#0d0887\"],[0.1111111111111111,\"#46039f\"],[0.2222222222222222,\"#7201a8\"],[0.3333333333333333,\"#9c179e\"],[0.4444444444444444,\"#bd3786\"],[0.5555555555555556,\"#d8576b\"],[0.6666666666666666,\"#ed7953\"],[0.7777777777777778,\"#fb9f3a\"],[0.8888888888888888,\"#fdca26\"],[1.0,\"#f0f921\"]],\"diverging\":[[0,\"#8e0152\"],[0.1,\"#c51b7d\"],[0.2,\"#de77ae\"],[0.3,\"#f1b6da\"],[0.4,\"#fde0ef\"],[0.5,\"#f7f7f7\"],[0.6,\"#e6f5d0\"],[0.7,\"#b8e186\"],[0.8,\"#7fbc41\"],[0.9,\"#4d9221\"],[1,\"#276419\"]]},\"xaxis\":{\"gridcolor\":\"white\",\"linecolor\":\"white\",\"ticks\":\"\",\"title\":{\"standoff\":15},\"zerolinecolor\":\"white\",\"automargin\":true,\"zerolinewidth\":2},\"yaxis\":{\"gridcolor\":\"white\",\"linecolor\":\"white\",\"ticks\":\"\",\"title\":{\"standoff\":15},\"zerolinecolor\":\"white\",\"automargin\":true,\"zerolinewidth\":2},\"scene\":{\"xaxis\":{\"backgroundcolor\":\"#E5ECF6\",\"gridcolor\":\"white\",\"linecolor\":\"white\",\"showbackground\":true,\"ticks\":\"\",\"zerolinecolor\":\"white\",\"gridwidth\":2},\"yaxis\":{\"backgroundcolor\":\"#E5ECF6\",\"gridcolor\":\"white\",\"linecolor\":\"white\",\"showbackground\":true,\"ticks\":\"\",\"zerolinecolor\":\"white\",\"gridwidth\":2},\"zaxis\":{\"backgroundcolor\":\"#E5ECF6\",\"gridcolor\":\"white\",\"linecolor\":\"white\",\"showbackground\":true,\"ticks\":\"\",\"zerolinecolor\":\"white\",\"gridwidth\":2}},\"shapedefaults\":{\"line\":{\"color\":\"#2a3f5f\"}},\"annotationdefaults\":{\"arrowcolor\":\"#2a3f5f\",\"arrowhead\":0,\"arrowwidth\":1},\"geo\":{\"bgcolor\":\"white\",\"landcolor\":\"#E5ECF6\",\"subunitcolor\":\"white\",\"showland\":true,\"showlakes\":true,\"lakecolor\":\"white\"},\"title\":{\"x\":0.05},\"mapbox\":{\"style\":\"light\"}}},\"scene\":{\"domain\":{\"x\":[0.0,1.0],\"y\":[0.0,1.0]},\"xaxis\":{\"title\":{\"text\":\"Year\"}},\"yaxis\":{\"title\":{\"text\":\"IMDB Rating\"},\"categoryorder\":\"array\",\"categoryarray\":[\"6.4\",\"5.6\",\"6.8\",\"4.9\",\"5.7\",\"8.3\",\"6.0\",\"7.5\",\"7.4\",\"7.8\",\"7.9\",\"7.3\",\" O. Henry (story based on: \\\"\\\"The Gift of the Magi\\\"\\\")\",\"71\",\"4.1\",\"7.7\",\"Canada, USA\",\"6.1\",\"Joey Lawrence, Billy Joel, Cheech Marin, Richard Mulligan\",\"6.6\",\"7.2\",\"7.6\",\"6.7\",\"2.3\",\"8.0\",\"5.9\",\"7.0\",\" Ted Berman (story)\",\"73\",\"6.3\",\"6.5\",\"8.2\",\"7.1\",\"8.5\",\"5.5\",\"6.9\",\"5.8\",\"5.1\",\"4.7\",\"3.6\",\"6.2\",\"5.3\",\"5.0\",\" Milt Banta (additional story)\\\"\",\"5.4\",\"4.8\",\" Ted Elliott (animation story by)\",\"USA\",\"N\\u002fA\",\"Billy Campbell, Jennifer Connelly, Alan Arkin, Timothy Dalton\",\"61\",\"3.7\",\" Alan Dinehart (story adaptation)\\\"\",\"5.2\",\"4.2\",\" Homer Brightman (story)\",\"8.1\",\"8.6\",\"8.7\",\"English\",\"4.6\",\"8.4\",\"3.3\",\"Nominated for 1 Oscar. Another 14 wins & 32 nominations.\",\"3.4\",\"4.0\",\" Kevin Harkey (story)\",\" Allison Schroeder (additional screenplay material by)\\\"\",\"4.3\",\"4.5\",\"4.4\",\"3.0\",\" Jim Peterson\",\"62\",\"2 wins & 1 nomination.\"]},\"zaxis\":{\"title\":{\"text\":\"Number of Movies\"}}},\"legend\":{\"title\":{\"text\":\"IMDB Rating\"},\"tracegroupgap\":0,\"itemsizing\":\"constant\"},\"title\":{\"text\":\"3D Scatter Plot of Movie Ratings Over Years\"},\"margin\":{\"l\":0,\"r\":0,\"b\":0,\"t\":40}},                        {\"responsive\": true}                    ).then(function(){\n",
              "                            \n",
              "var gd = document.getElementById('d72ed1d2-a6d1-447c-9194-0eb8e940928c');\n",
              "var x = new MutationObserver(function (mutations, observer) {{\n",
              "        var display = window.getComputedStyle(gd).display;\n",
              "        if (!display || display === 'none') {{\n",
              "            console.log([gd, 'removed!']);\n",
              "            Plotly.purge(gd);\n",
              "            observer.disconnect();\n",
              "        }}\n",
              "}});\n",
              "\n",
              "// Listen for the removal of the full notebook cells\n",
              "var notebookContainer = gd.closest('#notebook-container');\n",
              "if (notebookContainer) {{\n",
              "    x.observe(notebookContainer, {childList: true});\n",
              "}}\n",
              "\n",
              "// Listen for the clearing of the current output cell\n",
              "var outputEl = gd.closest('.output');\n",
              "if (outputEl) {{\n",
              "    x.observe(outputEl, {childList: true});\n",
              "}}\n",
              "\n",
              "                        })                };                            </script>        </div>\n",
              "</body>\n",
              "</html>"
            ]
          },
          "metadata": {}
        }
      ]
    },
    {
      "cell_type": "code",
      "source": [
        "from pyspark.sql import SparkSession\n",
        "from pyspark.sql.functions import col, count\n",
        "\n",
        "# Initialize Spark session\n",
        "spark = SparkSession.builder.appName(\"MovieAnalysis\").getOrCreate()\n",
        "\n",
        "# Assuming `df` is your DataFrame loaded with movie data\n",
        "# Example: df = spark.read.csv(\"path/to/your/csv\", header=True, inferSchema=True)\n",
        "\n",
        "# Filter movies and ensure year is not null\n",
        "movies_df = df.filter((col(\"type\") == \"movie\") & (col(\"year\").isNotNull()))\n",
        "\n",
        "# Group by year and count the number of movies released each year\n",
        "movies_count_per_year = movies_df.groupBy(\"year\").agg(count(\"*\").alias(\"num_movies\")).orderBy(\"year\")\n",
        "\n",
        "# Convert Spark DataFrame to Pandas DataFrame for visualization\n",
        "movies_count_per_year_pd = movies_count_per_year.toPandas()"
      ],
      "metadata": {
        "id": "7iiGYdMRuP-G"
      },
      "execution_count": null,
      "outputs": []
    },
    {
      "cell_type": "code",
      "source": [
        "import pandas as pd\n",
        "import plotly.graph_objs as go\n",
        "from pyspark.sql import SparkSession\n",
        "from pyspark.sql.functions import col\n",
        "\n",
        "# Initialize Spark session\n",
        "spark = SparkSession.builder.appName(\"MovieAnalysis\").getOrCreate()\n",
        "\n",
        "# Assuming 'df' is your Spark DataFrame containing movie data\n",
        "\n",
        "# Filter and aggregate the data\n",
        "movies_count_per_year = df.filter((col(\"type\") == \"movie\") & (col(\"year\").isNotNull())) \\\n",
        "    .groupBy(\"year\").count() \\\n",
        "    .orderBy(\"year\") \\\n",
        "    .toPandas()\n",
        "\n",
        "# Create a 3D bar chart using Plotly\n",
        "fig = go.Figure(data=[\n",
        "    go.Bar(x=movies_count_per_year['year'], y=movies_count_per_year['count'],\n",
        "           text=movies_count_per_year['count'], textposition='auto', marker_color='skyblue')\n",
        "])\n",
        "\n",
        "# Update layout for 3D effect\n",
        "fig.update_layout(\n",
        "    title='Number of Movies Released Each Year up to 2022',\n",
        "    scene=dict(\n",
        "        xaxis=dict(title='Year'),\n",
        "        yaxis=dict(title='Number of Movies'),\n",
        "        zaxis=dict(title=''),\n",
        "    ),\n",
        "    margin=dict(l=0, r=0, b=0, t=40),\n",
        ")\n",
        "\n",
        "# Show the figure\n",
        "fig.show()"
      ],
      "metadata": {
        "colab": {
          "base_uri": "https://localhost:8080/",
          "height": 542
        },
        "id": "-yg4l_ffuzi4",
        "outputId": "9ea9ddc6-2f8a-457b-c904-128c82b39112"
      },
      "execution_count": null,
      "outputs": [
        {
          "output_type": "display_data",
          "data": {
            "text/html": [
              "<html>\n",
              "<head><meta charset=\"utf-8\" /></head>\n",
              "<body>\n",
              "    <div>            <script src=\"https://cdnjs.cloudflare.com/ajax/libs/mathjax/2.7.5/MathJax.js?config=TeX-AMS-MML_SVG\"></script><script type=\"text/javascript\">if (window.MathJax && window.MathJax.Hub && window.MathJax.Hub.Config) {window.MathJax.Hub.Config({SVG: {font: \"STIX-Web\"}});}</script>                <script type=\"text/javascript\">window.PlotlyConfig = {MathJaxConfig: 'local'};</script>\n",
              "        <script charset=\"utf-8\" src=\"https://cdn.plot.ly/plotly-2.24.1.min.js\"></script>                <div id=\"8e7863f1-e5bc-4e41-aadb-6ac44f579c5c\" class=\"plotly-graph-div\" style=\"height:525px; width:100%;\"></div>            <script type=\"text/javascript\">                                    window.PLOTLYENV=window.PLOTLYENV || {};                                    if (document.getElementById(\"8e7863f1-e5bc-4e41-aadb-6ac44f579c5c\")) {                    Plotly.newPlot(                        \"8e7863f1-e5bc-4e41-aadb-6ac44f579c5c\",                        [{\"marker\":{\"color\":\"skyblue\"},\"text\":[1.0,3.0,2.0,4.0,4.0,2.0,6.0,3.0,5.0,7.0,4.0,7.0,1.0,2.0,2.0,2.0,2.0,3.0,3.0,4.0,7.0,4.0,3.0,5.0,1.0,2.0,1.0,4.0,3.0,5.0,2.0,3.0,2.0,3.0,1.0,2.0,2.0,1.0,1.0,3.0,3.0,1.0,3.0,4.0,4.0,7.0,3.0,4.0,3.0,3.0,1.0,2.0,2.0,4.0,3.0,4.0,5.0,4.0,5.0,3.0,5.0,9.0,7.0,9.0,9.0,10.0,15.0,18.0,22.0,15.0,22.0,26.0,22.0,21.0,20.0,14.0,18.0,18.0,14.0,22.0,16.0,10.0,16.0,12.0,18.0,21.0,18.0,28.0,12.0],\"textposition\":\"auto\",\"x\":[\"1928\",\"1932\",\"1933\",\"1934\",\"1935\",\"1936\",\"1937\",\"1938\",\"1939\",\"1940\",\"1941\",\"1942\",\"1943\",\"1944\",\"1946\",\"1947\",\"1948\",\"1949\",\"1950\",\"1951\",\"1952\",\"1953\",\"1954\",\"1955\",\"1956\",\"1957\",\"1958\",\"1959\",\"1960\",\"1961\",\"1962\",\"1963\",\"1964\",\"1965\",\"1966\",\"1967\",\"1968\",\"1969\",\"1970\",\"1971\",\"1972\",\"1973\",\"1974\",\"1975\",\"1976\",\"1977\",\"1978\",\"1979\",\"1980\",\"1981\",\"1982\",\"1983\",\"1984\",\"1985\",\"1986\",\"1987\",\"1988\",\"1989\",\"1990\",\"1991\",\"1992\",\"1993\",\"1994\",\"1995\",\"1996\",\"1997\",\"1998\",\"1999\",\"2000\",\"2001\",\"2002\",\"2003\",\"2004\",\"2005\",\"2006\",\"2007\",\"2008\",\"2009\",\"2010\",\"2011\",\"2012\",\"2013\",\"2014\",\"2015\",\"2016\",\"2017\",\"2018\",\"2019\",\"2020\"],\"y\":[1,3,2,4,4,2,6,3,5,7,4,7,1,2,2,2,2,3,3,4,7,4,3,5,1,2,1,4,3,5,2,3,2,3,1,2,2,1,1,3,3,1,3,4,4,7,3,4,3,3,1,2,2,4,3,4,5,4,5,3,5,9,7,9,9,10,15,18,22,15,22,26,22,21,20,14,18,18,14,22,16,10,16,12,18,21,18,28,12],\"type\":\"bar\"}],                        {\"template\":{\"data\":{\"histogram2dcontour\":[{\"type\":\"histogram2dcontour\",\"colorbar\":{\"outlinewidth\":0,\"ticks\":\"\"},\"colorscale\":[[0.0,\"#0d0887\"],[0.1111111111111111,\"#46039f\"],[0.2222222222222222,\"#7201a8\"],[0.3333333333333333,\"#9c179e\"],[0.4444444444444444,\"#bd3786\"],[0.5555555555555556,\"#d8576b\"],[0.6666666666666666,\"#ed7953\"],[0.7777777777777778,\"#fb9f3a\"],[0.8888888888888888,\"#fdca26\"],[1.0,\"#f0f921\"]]}],\"choropleth\":[{\"type\":\"choropleth\",\"colorbar\":{\"outlinewidth\":0,\"ticks\":\"\"}}],\"histogram2d\":[{\"type\":\"histogram2d\",\"colorbar\":{\"outlinewidth\":0,\"ticks\":\"\"},\"colorscale\":[[0.0,\"#0d0887\"],[0.1111111111111111,\"#46039f\"],[0.2222222222222222,\"#7201a8\"],[0.3333333333333333,\"#9c179e\"],[0.4444444444444444,\"#bd3786\"],[0.5555555555555556,\"#d8576b\"],[0.6666666666666666,\"#ed7953\"],[0.7777777777777778,\"#fb9f3a\"],[0.8888888888888888,\"#fdca26\"],[1.0,\"#f0f921\"]]}],\"heatmap\":[{\"type\":\"heatmap\",\"colorbar\":{\"outlinewidth\":0,\"ticks\":\"\"},\"colorscale\":[[0.0,\"#0d0887\"],[0.1111111111111111,\"#46039f\"],[0.2222222222222222,\"#7201a8\"],[0.3333333333333333,\"#9c179e\"],[0.4444444444444444,\"#bd3786\"],[0.5555555555555556,\"#d8576b\"],[0.6666666666666666,\"#ed7953\"],[0.7777777777777778,\"#fb9f3a\"],[0.8888888888888888,\"#fdca26\"],[1.0,\"#f0f921\"]]}],\"heatmapgl\":[{\"type\":\"heatmapgl\",\"colorbar\":{\"outlinewidth\":0,\"ticks\":\"\"},\"colorscale\":[[0.0,\"#0d0887\"],[0.1111111111111111,\"#46039f\"],[0.2222222222222222,\"#7201a8\"],[0.3333333333333333,\"#9c179e\"],[0.4444444444444444,\"#bd3786\"],[0.5555555555555556,\"#d8576b\"],[0.6666666666666666,\"#ed7953\"],[0.7777777777777778,\"#fb9f3a\"],[0.8888888888888888,\"#fdca26\"],[1.0,\"#f0f921\"]]}],\"contourcarpet\":[{\"type\":\"contourcarpet\",\"colorbar\":{\"outlinewidth\":0,\"ticks\":\"\"}}],\"contour\":[{\"type\":\"contour\",\"colorbar\":{\"outlinewidth\":0,\"ticks\":\"\"},\"colorscale\":[[0.0,\"#0d0887\"],[0.1111111111111111,\"#46039f\"],[0.2222222222222222,\"#7201a8\"],[0.3333333333333333,\"#9c179e\"],[0.4444444444444444,\"#bd3786\"],[0.5555555555555556,\"#d8576b\"],[0.6666666666666666,\"#ed7953\"],[0.7777777777777778,\"#fb9f3a\"],[0.8888888888888888,\"#fdca26\"],[1.0,\"#f0f921\"]]}],\"surface\":[{\"type\":\"surface\",\"colorbar\":{\"outlinewidth\":0,\"ticks\":\"\"},\"colorscale\":[[0.0,\"#0d0887\"],[0.1111111111111111,\"#46039f\"],[0.2222222222222222,\"#7201a8\"],[0.3333333333333333,\"#9c179e\"],[0.4444444444444444,\"#bd3786\"],[0.5555555555555556,\"#d8576b\"],[0.6666666666666666,\"#ed7953\"],[0.7777777777777778,\"#fb9f3a\"],[0.8888888888888888,\"#fdca26\"],[1.0,\"#f0f921\"]]}],\"mesh3d\":[{\"type\":\"mesh3d\",\"colorbar\":{\"outlinewidth\":0,\"ticks\":\"\"}}],\"scatter\":[{\"fillpattern\":{\"fillmode\":\"overlay\",\"size\":10,\"solidity\":0.2},\"type\":\"scatter\"}],\"parcoords\":[{\"type\":\"parcoords\",\"line\":{\"colorbar\":{\"outlinewidth\":0,\"ticks\":\"\"}}}],\"scatterpolargl\":[{\"type\":\"scatterpolargl\",\"marker\":{\"colorbar\":{\"outlinewidth\":0,\"ticks\":\"\"}}}],\"bar\":[{\"error_x\":{\"color\":\"#2a3f5f\"},\"error_y\":{\"color\":\"#2a3f5f\"},\"marker\":{\"line\":{\"color\":\"#E5ECF6\",\"width\":0.5},\"pattern\":{\"fillmode\":\"overlay\",\"size\":10,\"solidity\":0.2}},\"type\":\"bar\"}],\"scattergeo\":[{\"type\":\"scattergeo\",\"marker\":{\"colorbar\":{\"outlinewidth\":0,\"ticks\":\"\"}}}],\"scatterpolar\":[{\"type\":\"scatterpolar\",\"marker\":{\"colorbar\":{\"outlinewidth\":0,\"ticks\":\"\"}}}],\"histogram\":[{\"marker\":{\"pattern\":{\"fillmode\":\"overlay\",\"size\":10,\"solidity\":0.2}},\"type\":\"histogram\"}],\"scattergl\":[{\"type\":\"scattergl\",\"marker\":{\"colorbar\":{\"outlinewidth\":0,\"ticks\":\"\"}}}],\"scatter3d\":[{\"type\":\"scatter3d\",\"line\":{\"colorbar\":{\"outlinewidth\":0,\"ticks\":\"\"}},\"marker\":{\"colorbar\":{\"outlinewidth\":0,\"ticks\":\"\"}}}],\"scattermapbox\":[{\"type\":\"scattermapbox\",\"marker\":{\"colorbar\":{\"outlinewidth\":0,\"ticks\":\"\"}}}],\"scatterternary\":[{\"type\":\"scatterternary\",\"marker\":{\"colorbar\":{\"outlinewidth\":0,\"ticks\":\"\"}}}],\"scattercarpet\":[{\"type\":\"scattercarpet\",\"marker\":{\"colorbar\":{\"outlinewidth\":0,\"ticks\":\"\"}}}],\"carpet\":[{\"aaxis\":{\"endlinecolor\":\"#2a3f5f\",\"gridcolor\":\"white\",\"linecolor\":\"white\",\"minorgridcolor\":\"white\",\"startlinecolor\":\"#2a3f5f\"},\"baxis\":{\"endlinecolor\":\"#2a3f5f\",\"gridcolor\":\"white\",\"linecolor\":\"white\",\"minorgridcolor\":\"white\",\"startlinecolor\":\"#2a3f5f\"},\"type\":\"carpet\"}],\"table\":[{\"cells\":{\"fill\":{\"color\":\"#EBF0F8\"},\"line\":{\"color\":\"white\"}},\"header\":{\"fill\":{\"color\":\"#C8D4E3\"},\"line\":{\"color\":\"white\"}},\"type\":\"table\"}],\"barpolar\":[{\"marker\":{\"line\":{\"color\":\"#E5ECF6\",\"width\":0.5},\"pattern\":{\"fillmode\":\"overlay\",\"size\":10,\"solidity\":0.2}},\"type\":\"barpolar\"}],\"pie\":[{\"automargin\":true,\"type\":\"pie\"}]},\"layout\":{\"autotypenumbers\":\"strict\",\"colorway\":[\"#636efa\",\"#EF553B\",\"#00cc96\",\"#ab63fa\",\"#FFA15A\",\"#19d3f3\",\"#FF6692\",\"#B6E880\",\"#FF97FF\",\"#FECB52\"],\"font\":{\"color\":\"#2a3f5f\"},\"hovermode\":\"closest\",\"hoverlabel\":{\"align\":\"left\"},\"paper_bgcolor\":\"white\",\"plot_bgcolor\":\"#E5ECF6\",\"polar\":{\"bgcolor\":\"#E5ECF6\",\"angularaxis\":{\"gridcolor\":\"white\",\"linecolor\":\"white\",\"ticks\":\"\"},\"radialaxis\":{\"gridcolor\":\"white\",\"linecolor\":\"white\",\"ticks\":\"\"}},\"ternary\":{\"bgcolor\":\"#E5ECF6\",\"aaxis\":{\"gridcolor\":\"white\",\"linecolor\":\"white\",\"ticks\":\"\"},\"baxis\":{\"gridcolor\":\"white\",\"linecolor\":\"white\",\"ticks\":\"\"},\"caxis\":{\"gridcolor\":\"white\",\"linecolor\":\"white\",\"ticks\":\"\"}},\"coloraxis\":{\"colorbar\":{\"outlinewidth\":0,\"ticks\":\"\"}},\"colorscale\":{\"sequential\":[[0.0,\"#0d0887\"],[0.1111111111111111,\"#46039f\"],[0.2222222222222222,\"#7201a8\"],[0.3333333333333333,\"#9c179e\"],[0.4444444444444444,\"#bd3786\"],[0.5555555555555556,\"#d8576b\"],[0.6666666666666666,\"#ed7953\"],[0.7777777777777778,\"#fb9f3a\"],[0.8888888888888888,\"#fdca26\"],[1.0,\"#f0f921\"]],\"sequentialminus\":[[0.0,\"#0d0887\"],[0.1111111111111111,\"#46039f\"],[0.2222222222222222,\"#7201a8\"],[0.3333333333333333,\"#9c179e\"],[0.4444444444444444,\"#bd3786\"],[0.5555555555555556,\"#d8576b\"],[0.6666666666666666,\"#ed7953\"],[0.7777777777777778,\"#fb9f3a\"],[0.8888888888888888,\"#fdca26\"],[1.0,\"#f0f921\"]],\"diverging\":[[0,\"#8e0152\"],[0.1,\"#c51b7d\"],[0.2,\"#de77ae\"],[0.3,\"#f1b6da\"],[0.4,\"#fde0ef\"],[0.5,\"#f7f7f7\"],[0.6,\"#e6f5d0\"],[0.7,\"#b8e186\"],[0.8,\"#7fbc41\"],[0.9,\"#4d9221\"],[1,\"#276419\"]]},\"xaxis\":{\"gridcolor\":\"white\",\"linecolor\":\"white\",\"ticks\":\"\",\"title\":{\"standoff\":15},\"zerolinecolor\":\"white\",\"automargin\":true,\"zerolinewidth\":2},\"yaxis\":{\"gridcolor\":\"white\",\"linecolor\":\"white\",\"ticks\":\"\",\"title\":{\"standoff\":15},\"zerolinecolor\":\"white\",\"automargin\":true,\"zerolinewidth\":2},\"scene\":{\"xaxis\":{\"backgroundcolor\":\"#E5ECF6\",\"gridcolor\":\"white\",\"linecolor\":\"white\",\"showbackground\":true,\"ticks\":\"\",\"zerolinecolor\":\"white\",\"gridwidth\":2},\"yaxis\":{\"backgroundcolor\":\"#E5ECF6\",\"gridcolor\":\"white\",\"linecolor\":\"white\",\"showbackground\":true,\"ticks\":\"\",\"zerolinecolor\":\"white\",\"gridwidth\":2},\"zaxis\":{\"backgroundcolor\":\"#E5ECF6\",\"gridcolor\":\"white\",\"linecolor\":\"white\",\"showbackground\":true,\"ticks\":\"\",\"zerolinecolor\":\"white\",\"gridwidth\":2}},\"shapedefaults\":{\"line\":{\"color\":\"#2a3f5f\"}},\"annotationdefaults\":{\"arrowcolor\":\"#2a3f5f\",\"arrowhead\":0,\"arrowwidth\":1},\"geo\":{\"bgcolor\":\"white\",\"landcolor\":\"#E5ECF6\",\"subunitcolor\":\"white\",\"showland\":true,\"showlakes\":true,\"lakecolor\":\"white\"},\"title\":{\"x\":0.05},\"mapbox\":{\"style\":\"light\"}}},\"margin\":{\"l\":0,\"r\":0,\"b\":0,\"t\":40},\"title\":{\"text\":\"Number of Movies Released Each Year up to 2022\"},\"scene\":{\"xaxis\":{\"title\":{\"text\":\"Year\"}},\"yaxis\":{\"title\":{\"text\":\"Number of Movies\"}},\"zaxis\":{\"title\":{\"text\":\"\"}}}},                        {\"responsive\": true}                    ).then(function(){\n",
              "                            \n",
              "var gd = document.getElementById('8e7863f1-e5bc-4e41-aadb-6ac44f579c5c');\n",
              "var x = new MutationObserver(function (mutations, observer) {{\n",
              "        var display = window.getComputedStyle(gd).display;\n",
              "        if (!display || display === 'none') {{\n",
              "            console.log([gd, 'removed!']);\n",
              "            Plotly.purge(gd);\n",
              "            observer.disconnect();\n",
              "        }}\n",
              "}});\n",
              "\n",
              "// Listen for the removal of the full notebook cells\n",
              "var notebookContainer = gd.closest('#notebook-container');\n",
              "if (notebookContainer) {{\n",
              "    x.observe(notebookContainer, {childList: true});\n",
              "}}\n",
              "\n",
              "// Listen for the clearing of the current output cell\n",
              "var outputEl = gd.closest('.output');\n",
              "if (outputEl) {{\n",
              "    x.observe(outputEl, {childList: true});\n",
              "}}\n",
              "\n",
              "                        })                };                            </script>        </div>\n",
              "</body>\n",
              "</html>"
            ]
          },
          "metadata": {}
        }
      ]
    },
    {
      "cell_type": "code",
      "source": [
        "import pandas as pd\n",
        "import plotly.graph_objects as go\n",
        "\n",
        "data = {\n",
        "    'title': ['Movie A', 'Movie B', 'Movie C', 'Movie D', 'Movie E', 'Movie F', 'Movie G'],\n",
        "    'year': [2020, 2019, 2021, 2018, 2022, 2017, 2023],\n",
        "    'avg_vote': [8.5, 9.0, 8.7, 9.2, 8.9, 9.3, 8.6]\n",
        "}\n",
        "df = pd.DataFrame(data)\n",
        "\n",
        "# Sort the DataFrame by avg_vote in descending order and select the top 5\n",
        "top_5_movies = df.sort_values(by='avg_vote', ascending=False).head(5)\n",
        "\n",
        "# Create a 3D scatter plot\n",
        "fig = go.Figure(data=[go.Scatter3d(\n",
        "    x=top_5_movies['year'],\n",
        "    y=top_5_movies['avg_vote'],\n",
        "    z=top_5_movies['title'],\n",
        "    mode='markers+text',\n",
        "    text=top_5_movies['title'],\n",
        "    textposition='top center',\n",
        "    marker=dict(\n",
        "        size=10,\n",
        "        color=top_5_movies['avg_vote'],\n",
        "        colorscale='Viridis',\n",
        "        opacity=0.8\n",
        "    )\n",
        ")])\n",
        "\n",
        "# Add labels and title\n",
        "fig.update_layout(\n",
        "    title='Top 5 Highest Voted Movies of All Time',\n",
        "    scene=dict(\n",
        "        xaxis_title='Year',\n",
        "        yaxis_title='Average Vote',\n",
        "        zaxis_title='Movie Title'\n",
        "    )\n",
        ")\n",
        "\n",
        "# Show the plot\n",
        "fig.show()"
      ],
      "metadata": {
        "colab": {
          "base_uri": "https://localhost:8080/",
          "height": 542
        },
        "id": "tqTanCOluznx",
        "outputId": "911dc717-80df-4f9c-b13d-3b626f8eb570"
      },
      "execution_count": null,
      "outputs": [
        {
          "output_type": "display_data",
          "data": {
            "text/html": [
              "<html>\n",
              "<head><meta charset=\"utf-8\" /></head>\n",
              "<body>\n",
              "    <div>            <script src=\"https://cdnjs.cloudflare.com/ajax/libs/mathjax/2.7.5/MathJax.js?config=TeX-AMS-MML_SVG\"></script><script type=\"text/javascript\">if (window.MathJax && window.MathJax.Hub && window.MathJax.Hub.Config) {window.MathJax.Hub.Config({SVG: {font: \"STIX-Web\"}});}</script>                <script type=\"text/javascript\">window.PlotlyConfig = {MathJaxConfig: 'local'};</script>\n",
              "        <script charset=\"utf-8\" src=\"https://cdn.plot.ly/plotly-2.24.1.min.js\"></script>                <div id=\"f5eb4ada-2a83-4d5a-8e1e-acbc655e0c32\" class=\"plotly-graph-div\" style=\"height:525px; width:100%;\"></div>            <script type=\"text/javascript\">                                    window.PLOTLYENV=window.PLOTLYENV || {};                                    if (document.getElementById(\"f5eb4ada-2a83-4d5a-8e1e-acbc655e0c32\")) {                    Plotly.newPlot(                        \"f5eb4ada-2a83-4d5a-8e1e-acbc655e0c32\",                        [{\"marker\":{\"color\":[9.3,9.2,9.0,8.9,8.7],\"colorscale\":[[0.0,\"#440154\"],[0.1111111111111111,\"#482878\"],[0.2222222222222222,\"#3e4989\"],[0.3333333333333333,\"#31688e\"],[0.4444444444444444,\"#26828e\"],[0.5555555555555556,\"#1f9e89\"],[0.6666666666666666,\"#35b779\"],[0.7777777777777778,\"#6ece58\"],[0.8888888888888888,\"#b5de2b\"],[1.0,\"#fde725\"]],\"opacity\":0.8,\"size\":10},\"mode\":\"markers+text\",\"text\":[\"Movie F\",\"Movie D\",\"Movie B\",\"Movie E\",\"Movie C\"],\"textposition\":\"top center\",\"x\":[2017,2018,2019,2022,2021],\"y\":[9.3,9.2,9.0,8.9,8.7],\"z\":[\"Movie F\",\"Movie D\",\"Movie B\",\"Movie E\",\"Movie C\"],\"type\":\"scatter3d\"}],                        {\"template\":{\"data\":{\"histogram2dcontour\":[{\"type\":\"histogram2dcontour\",\"colorbar\":{\"outlinewidth\":0,\"ticks\":\"\"},\"colorscale\":[[0.0,\"#0d0887\"],[0.1111111111111111,\"#46039f\"],[0.2222222222222222,\"#7201a8\"],[0.3333333333333333,\"#9c179e\"],[0.4444444444444444,\"#bd3786\"],[0.5555555555555556,\"#d8576b\"],[0.6666666666666666,\"#ed7953\"],[0.7777777777777778,\"#fb9f3a\"],[0.8888888888888888,\"#fdca26\"],[1.0,\"#f0f921\"]]}],\"choropleth\":[{\"type\":\"choropleth\",\"colorbar\":{\"outlinewidth\":0,\"ticks\":\"\"}}],\"histogram2d\":[{\"type\":\"histogram2d\",\"colorbar\":{\"outlinewidth\":0,\"ticks\":\"\"},\"colorscale\":[[0.0,\"#0d0887\"],[0.1111111111111111,\"#46039f\"],[0.2222222222222222,\"#7201a8\"],[0.3333333333333333,\"#9c179e\"],[0.4444444444444444,\"#bd3786\"],[0.5555555555555556,\"#d8576b\"],[0.6666666666666666,\"#ed7953\"],[0.7777777777777778,\"#fb9f3a\"],[0.8888888888888888,\"#fdca26\"],[1.0,\"#f0f921\"]]}],\"heatmap\":[{\"type\":\"heatmap\",\"colorbar\":{\"outlinewidth\":0,\"ticks\":\"\"},\"colorscale\":[[0.0,\"#0d0887\"],[0.1111111111111111,\"#46039f\"],[0.2222222222222222,\"#7201a8\"],[0.3333333333333333,\"#9c179e\"],[0.4444444444444444,\"#bd3786\"],[0.5555555555555556,\"#d8576b\"],[0.6666666666666666,\"#ed7953\"],[0.7777777777777778,\"#fb9f3a\"],[0.8888888888888888,\"#fdca26\"],[1.0,\"#f0f921\"]]}],\"heatmapgl\":[{\"type\":\"heatmapgl\",\"colorbar\":{\"outlinewidth\":0,\"ticks\":\"\"},\"colorscale\":[[0.0,\"#0d0887\"],[0.1111111111111111,\"#46039f\"],[0.2222222222222222,\"#7201a8\"],[0.3333333333333333,\"#9c179e\"],[0.4444444444444444,\"#bd3786\"],[0.5555555555555556,\"#d8576b\"],[0.6666666666666666,\"#ed7953\"],[0.7777777777777778,\"#fb9f3a\"],[0.8888888888888888,\"#fdca26\"],[1.0,\"#f0f921\"]]}],\"contourcarpet\":[{\"type\":\"contourcarpet\",\"colorbar\":{\"outlinewidth\":0,\"ticks\":\"\"}}],\"contour\":[{\"type\":\"contour\",\"colorbar\":{\"outlinewidth\":0,\"ticks\":\"\"},\"colorscale\":[[0.0,\"#0d0887\"],[0.1111111111111111,\"#46039f\"],[0.2222222222222222,\"#7201a8\"],[0.3333333333333333,\"#9c179e\"],[0.4444444444444444,\"#bd3786\"],[0.5555555555555556,\"#d8576b\"],[0.6666666666666666,\"#ed7953\"],[0.7777777777777778,\"#fb9f3a\"],[0.8888888888888888,\"#fdca26\"],[1.0,\"#f0f921\"]]}],\"surface\":[{\"type\":\"surface\",\"colorbar\":{\"outlinewidth\":0,\"ticks\":\"\"},\"colorscale\":[[0.0,\"#0d0887\"],[0.1111111111111111,\"#46039f\"],[0.2222222222222222,\"#7201a8\"],[0.3333333333333333,\"#9c179e\"],[0.4444444444444444,\"#bd3786\"],[0.5555555555555556,\"#d8576b\"],[0.6666666666666666,\"#ed7953\"],[0.7777777777777778,\"#fb9f3a\"],[0.8888888888888888,\"#fdca26\"],[1.0,\"#f0f921\"]]}],\"mesh3d\":[{\"type\":\"mesh3d\",\"colorbar\":{\"outlinewidth\":0,\"ticks\":\"\"}}],\"scatter\":[{\"fillpattern\":{\"fillmode\":\"overlay\",\"size\":10,\"solidity\":0.2},\"type\":\"scatter\"}],\"parcoords\":[{\"type\":\"parcoords\",\"line\":{\"colorbar\":{\"outlinewidth\":0,\"ticks\":\"\"}}}],\"scatterpolargl\":[{\"type\":\"scatterpolargl\",\"marker\":{\"colorbar\":{\"outlinewidth\":0,\"ticks\":\"\"}}}],\"bar\":[{\"error_x\":{\"color\":\"#2a3f5f\"},\"error_y\":{\"color\":\"#2a3f5f\"},\"marker\":{\"line\":{\"color\":\"#E5ECF6\",\"width\":0.5},\"pattern\":{\"fillmode\":\"overlay\",\"size\":10,\"solidity\":0.2}},\"type\":\"bar\"}],\"scattergeo\":[{\"type\":\"scattergeo\",\"marker\":{\"colorbar\":{\"outlinewidth\":0,\"ticks\":\"\"}}}],\"scatterpolar\":[{\"type\":\"scatterpolar\",\"marker\":{\"colorbar\":{\"outlinewidth\":0,\"ticks\":\"\"}}}],\"histogram\":[{\"marker\":{\"pattern\":{\"fillmode\":\"overlay\",\"size\":10,\"solidity\":0.2}},\"type\":\"histogram\"}],\"scattergl\":[{\"type\":\"scattergl\",\"marker\":{\"colorbar\":{\"outlinewidth\":0,\"ticks\":\"\"}}}],\"scatter3d\":[{\"type\":\"scatter3d\",\"line\":{\"colorbar\":{\"outlinewidth\":0,\"ticks\":\"\"}},\"marker\":{\"colorbar\":{\"outlinewidth\":0,\"ticks\":\"\"}}}],\"scattermapbox\":[{\"type\":\"scattermapbox\",\"marker\":{\"colorbar\":{\"outlinewidth\":0,\"ticks\":\"\"}}}],\"scatterternary\":[{\"type\":\"scatterternary\",\"marker\":{\"colorbar\":{\"outlinewidth\":0,\"ticks\":\"\"}}}],\"scattercarpet\":[{\"type\":\"scattercarpet\",\"marker\":{\"colorbar\":{\"outlinewidth\":0,\"ticks\":\"\"}}}],\"carpet\":[{\"aaxis\":{\"endlinecolor\":\"#2a3f5f\",\"gridcolor\":\"white\",\"linecolor\":\"white\",\"minorgridcolor\":\"white\",\"startlinecolor\":\"#2a3f5f\"},\"baxis\":{\"endlinecolor\":\"#2a3f5f\",\"gridcolor\":\"white\",\"linecolor\":\"white\",\"minorgridcolor\":\"white\",\"startlinecolor\":\"#2a3f5f\"},\"type\":\"carpet\"}],\"table\":[{\"cells\":{\"fill\":{\"color\":\"#EBF0F8\"},\"line\":{\"color\":\"white\"}},\"header\":{\"fill\":{\"color\":\"#C8D4E3\"},\"line\":{\"color\":\"white\"}},\"type\":\"table\"}],\"barpolar\":[{\"marker\":{\"line\":{\"color\":\"#E5ECF6\",\"width\":0.5},\"pattern\":{\"fillmode\":\"overlay\",\"size\":10,\"solidity\":0.2}},\"type\":\"barpolar\"}],\"pie\":[{\"automargin\":true,\"type\":\"pie\"}]},\"layout\":{\"autotypenumbers\":\"strict\",\"colorway\":[\"#636efa\",\"#EF553B\",\"#00cc96\",\"#ab63fa\",\"#FFA15A\",\"#19d3f3\",\"#FF6692\",\"#B6E880\",\"#FF97FF\",\"#FECB52\"],\"font\":{\"color\":\"#2a3f5f\"},\"hovermode\":\"closest\",\"hoverlabel\":{\"align\":\"left\"},\"paper_bgcolor\":\"white\",\"plot_bgcolor\":\"#E5ECF6\",\"polar\":{\"bgcolor\":\"#E5ECF6\",\"angularaxis\":{\"gridcolor\":\"white\",\"linecolor\":\"white\",\"ticks\":\"\"},\"radialaxis\":{\"gridcolor\":\"white\",\"linecolor\":\"white\",\"ticks\":\"\"}},\"ternary\":{\"bgcolor\":\"#E5ECF6\",\"aaxis\":{\"gridcolor\":\"white\",\"linecolor\":\"white\",\"ticks\":\"\"},\"baxis\":{\"gridcolor\":\"white\",\"linecolor\":\"white\",\"ticks\":\"\"},\"caxis\":{\"gridcolor\":\"white\",\"linecolor\":\"white\",\"ticks\":\"\"}},\"coloraxis\":{\"colorbar\":{\"outlinewidth\":0,\"ticks\":\"\"}},\"colorscale\":{\"sequential\":[[0.0,\"#0d0887\"],[0.1111111111111111,\"#46039f\"],[0.2222222222222222,\"#7201a8\"],[0.3333333333333333,\"#9c179e\"],[0.4444444444444444,\"#bd3786\"],[0.5555555555555556,\"#d8576b\"],[0.6666666666666666,\"#ed7953\"],[0.7777777777777778,\"#fb9f3a\"],[0.8888888888888888,\"#fdca26\"],[1.0,\"#f0f921\"]],\"sequentialminus\":[[0.0,\"#0d0887\"],[0.1111111111111111,\"#46039f\"],[0.2222222222222222,\"#7201a8\"],[0.3333333333333333,\"#9c179e\"],[0.4444444444444444,\"#bd3786\"],[0.5555555555555556,\"#d8576b\"],[0.6666666666666666,\"#ed7953\"],[0.7777777777777778,\"#fb9f3a\"],[0.8888888888888888,\"#fdca26\"],[1.0,\"#f0f921\"]],\"diverging\":[[0,\"#8e0152\"],[0.1,\"#c51b7d\"],[0.2,\"#de77ae\"],[0.3,\"#f1b6da\"],[0.4,\"#fde0ef\"],[0.5,\"#f7f7f7\"],[0.6,\"#e6f5d0\"],[0.7,\"#b8e186\"],[0.8,\"#7fbc41\"],[0.9,\"#4d9221\"],[1,\"#276419\"]]},\"xaxis\":{\"gridcolor\":\"white\",\"linecolor\":\"white\",\"ticks\":\"\",\"title\":{\"standoff\":15},\"zerolinecolor\":\"white\",\"automargin\":true,\"zerolinewidth\":2},\"yaxis\":{\"gridcolor\":\"white\",\"linecolor\":\"white\",\"ticks\":\"\",\"title\":{\"standoff\":15},\"zerolinecolor\":\"white\",\"automargin\":true,\"zerolinewidth\":2},\"scene\":{\"xaxis\":{\"backgroundcolor\":\"#E5ECF6\",\"gridcolor\":\"white\",\"linecolor\":\"white\",\"showbackground\":true,\"ticks\":\"\",\"zerolinecolor\":\"white\",\"gridwidth\":2},\"yaxis\":{\"backgroundcolor\":\"#E5ECF6\",\"gridcolor\":\"white\",\"linecolor\":\"white\",\"showbackground\":true,\"ticks\":\"\",\"zerolinecolor\":\"white\",\"gridwidth\":2},\"zaxis\":{\"backgroundcolor\":\"#E5ECF6\",\"gridcolor\":\"white\",\"linecolor\":\"white\",\"showbackground\":true,\"ticks\":\"\",\"zerolinecolor\":\"white\",\"gridwidth\":2}},\"shapedefaults\":{\"line\":{\"color\":\"#2a3f5f\"}},\"annotationdefaults\":{\"arrowcolor\":\"#2a3f5f\",\"arrowhead\":0,\"arrowwidth\":1},\"geo\":{\"bgcolor\":\"white\",\"landcolor\":\"#E5ECF6\",\"subunitcolor\":\"white\",\"showland\":true,\"showlakes\":true,\"lakecolor\":\"white\"},\"title\":{\"x\":0.05},\"mapbox\":{\"style\":\"light\"}}},\"title\":{\"text\":\"Top 5 Highest Voted Movies of All Time\"},\"scene\":{\"xaxis\":{\"title\":{\"text\":\"Year\"}},\"yaxis\":{\"title\":{\"text\":\"Average Vote\"}},\"zaxis\":{\"title\":{\"text\":\"Movie Title\"}}}},                        {\"responsive\": true}                    ).then(function(){\n",
              "                            \n",
              "var gd = document.getElementById('f5eb4ada-2a83-4d5a-8e1e-acbc655e0c32');\n",
              "var x = new MutationObserver(function (mutations, observer) {{\n",
              "        var display = window.getComputedStyle(gd).display;\n",
              "        if (!display || display === 'none') {{\n",
              "            console.log([gd, 'removed!']);\n",
              "            Plotly.purge(gd);\n",
              "            observer.disconnect();\n",
              "        }}\n",
              "}});\n",
              "\n",
              "// Listen for the removal of the full notebook cells\n",
              "var notebookContainer = gd.closest('#notebook-container');\n",
              "if (notebookContainer) {{\n",
              "    x.observe(notebookContainer, {childList: true});\n",
              "}}\n",
              "\n",
              "// Listen for the clearing of the current output cell\n",
              "var outputEl = gd.closest('.output');\n",
              "if (outputEl) {{\n",
              "    x.observe(outputEl, {childList: true});\n",
              "}}\n",
              "\n",
              "                        })                };                            </script>        </div>\n",
              "</body>\n",
              "</html>"
            ]
          },
          "metadata": {}
        }
      ]
    }
  ]
}